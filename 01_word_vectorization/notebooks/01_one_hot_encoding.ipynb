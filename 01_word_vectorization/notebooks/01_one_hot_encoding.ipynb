{
 "cells": [
  {
   "cell_type": "markdown",
   "id": "2ce4cc9b",
   "metadata": {},
   "source": [
    "# One-hot Encoding\n",
    "\n",
    "It is one of the simplest forms of word vectorization. In this method, each word in a vocabulary is represented as a unique vector with all zeros except for a single one in the position corresponding to that word."
   ]
  },
  {
   "cell_type": "markdown",
   "id": "5a933413",
   "metadata": {},
   "source": [
    "![one-hot-encoding.jpg](../imgs/one-hot-encoding.jpg)"
   ]
  },
  {
   "cell_type": "markdown",
   "id": "00df69a9",
   "metadata": {},
   "source": [
    "## Corpus\n",
    "We define a small set of sample sentences to form our corpus."
   ]
  },
  {
   "cell_type": "code",
   "execution_count": 1,
   "id": "450c6d6a",
   "metadata": {},
   "outputs": [],
   "source": [
    "# Define the corpus with a few sample sentences\n",
    "corpus = [\n",
    "    \"I love cats.\",\n",
    "    \"I hate cats and dogs.\",\n",
    "    \"I have a dog.\",\n",
    "]"
   ]
  },
  {
   "cell_type": "markdown",
   "id": "67de3bf0",
   "metadata": {},
   "source": [
    "Each document in the corpus is split into words."
   ]
  },
  {
   "cell_type": "code",
   "execution_count": 2,
   "id": "e077a2a6",
   "metadata": {},
   "outputs": [
    {
     "name": "stdout",
     "output_type": "stream",
     "text": [
      "Corpus split into words: [['I', 'love', 'cats.'], ['I', 'hate', 'cats', 'and', 'dogs.'], ['I', 'have', 'a', 'dog.']]\n"
     ]
    }
   ],
   "source": [
    "corpus = [doc.split(\" \") for doc in corpus]\n",
    "print(\"Corpus split into words:\", corpus)"
   ]
  },
  {
   "cell_type": "markdown",
   "id": "1e0d18c9",
   "metadata": {},
   "source": [
    "## Creating the Vocabulary"
   ]
  },
  {
   "cell_type": "code",
   "execution_count": 3,
   "id": "72f31888",
   "metadata": {},
   "outputs": [
    {
     "name": "stdout",
     "output_type": "stream",
     "text": [
      "Vocabulary list: ['and', 'I', 'dogs.', 'cats', 'cats.', 'hate', 'have', 'love', 'dog.', 'a']\n"
     ]
    }
   ],
   "source": [
    "# Create a vocabulary set\n",
    "vocabulary = set()\n",
    "for document in corpus:\n",
    "    for term in document:\n",
    "        vocabulary.add(term)\n",
    "        \n",
    "# Convert the vocabulary set to a list\n",
    "vocabulary = list(vocabulary)\n",
    "print(\"Vocabulary list:\", vocabulary)"
   ]
  },
  {
   "cell_type": "markdown",
   "id": "1acba218",
   "metadata": {},
   "source": [
    "## One-Hot Encoding Implementation"
   ]
  },
  {
   "cell_type": "code",
   "execution_count": 4,
   "id": "561c54eb",
   "metadata": {},
   "outputs": [],
   "source": [
    "def one_hot_encoding(corpus):\n",
    "    vocabulary = set()\n",
    "    for document in corpus:\n",
    "        for term in document:\n",
    "            vocabulary.add(term)\n",
    "    \n",
    "    one_hot_matrix = list()\n",
    "\n",
    "    for document in corpus:\n",
    "        temp = list()\n",
    "        for term in vocabulary:\n",
    "            if term in document:\n",
    "                temp.append(1)\n",
    "            else:\n",
    "                temp.append(0)\n",
    "        one_hot_matrix.append(temp)\n",
    "\n",
    "    return one_hot_matrix"
   ]
  },
  {
   "cell_type": "code",
   "execution_count": 5,
   "id": "fe72eead",
   "metadata": {},
   "outputs": [
    {
     "data": {
      "text/plain": [
       "[[0, 1, 0, 0, 1, 0, 0, 1, 0, 0],\n",
       " [1, 1, 1, 1, 0, 1, 0, 0, 0, 0],\n",
       " [0, 1, 0, 0, 0, 0, 1, 0, 1, 1]]"
      ]
     },
     "execution_count": 5,
     "metadata": {},
     "output_type": "execute_result"
    }
   ],
   "source": [
    "one_hot_encoding(corpus)"
   ]
  },
  {
   "cell_type": "code",
   "execution_count": null,
   "id": "99d6c11d",
   "metadata": {},
   "outputs": [],
   "source": []
  }
 ],
 "metadata": {
  "kernelspec": {
   "display_name": "Python 3 (ipykernel)",
   "language": "python",
   "name": "python3"
  },
  "language_info": {
   "codemirror_mode": {
    "name": "ipython",
    "version": 3
   },
   "file_extension": ".py",
   "mimetype": "text/x-python",
   "name": "python",
   "nbconvert_exporter": "python",
   "pygments_lexer": "ipython3",
   "version": "3.10.9"
  }
 },
 "nbformat": 4,
 "nbformat_minor": 5
}
