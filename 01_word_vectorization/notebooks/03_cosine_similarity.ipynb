{
 "cells": [
  {
   "cell_type": "markdown",
   "id": "17167c0d",
   "metadata": {},
   "source": [
    "# Cosine similarity\n",
    "\n",
    "Cosine similarity is a metric used to measure how similar two vectors are, irrespective of their magnitude. In the context of Natural Language Processing (NLP) and word vectorization, cosine similarity is often used to determine the similarity between two text documents or two terms within a document corpus\n",
    "\n",
    "The cosine similarity is calculated as follows:\n",
    "\n",
    "![cosine-similarity-formula.jpg](../imgs/cosine-similarity-formula.jpg)\n",
    "\n",
    "where:\n",
    "- A and B are the vectors representing two documents or terms.\n",
    "- A.B is the dot product of the vectors.\n",
    "- ||A|| and ||B|| are the magnitudes (or Euclidean norms) of the vectors.\n",
    "\n",
    "The resulting cosine similarity score ranges from -1 to 1:\n",
    "* 1 indicates that the vectors are identical.\n",
    "* 0 indicates that the vectors are orthogonal (no similarity).\n",
    "* -1 indicates that the vectors are diametrically opposed."
   ]
  },
  {
   "cell_type": "code",
   "execution_count": 1,
   "id": "aa0c2a9f",
   "metadata": {},
   "outputs": [],
   "source": [
    "import numpy as np\n",
    "import pandas as pd\n",
    "from sklearn.feature_extraction.text import TfidfVectorizer\n",
    "from sklearn.metrics.pairwise import cosine_similarity"
   ]
  },
  {
   "cell_type": "code",
   "execution_count": 2,
   "id": "0c6020c2",
   "metadata": {},
   "outputs": [],
   "source": [
    "# Define the corpus with a few sample sentences\n",
    "corpus = [\n",
    "    \"que dia es hoy\",\n",
    "    \"martes el dia de hoy es martes\",\n",
    "    \"martes muchas gracias\"\n",
    "]"
   ]
  },
  {
   "cell_type": "markdown",
   "id": "769ad73f",
   "metadata": {},
   "source": [
    "## Create a TF-IDF Vectorizer"
   ]
  },
  {
   "cell_type": "code",
   "execution_count": 3,
   "id": "b8ec7b0b",
   "metadata": {},
   "outputs": [],
   "source": [
    "# Create a TF-IDF Vectorizer\n",
    "vectorizer = TfidfVectorizer()\n",
    "\n",
    "# Fit and transform the corpus\n",
    "X = vectorizer.fit_transform(corpus)\n",
    "\n",
    "# Convert the TF-IDF matrix to a DataFrame for better readability\n",
    "tfidf_df = pd.DataFrame(X.toarray(), columns=vectorizer.get_feature_names_out())"
   ]
  },
  {
   "cell_type": "code",
   "execution_count": 4,
   "id": "12deda45",
   "metadata": {},
   "outputs": [
    {
     "name": "stdout",
     "output_type": "stream",
     "text": [
      "TF-IDF Matrix:\n",
      "         de       dia        el        es   gracias       hoy    martes  \\\n",
      "0  0.000000  0.459854  0.000000  0.459854  0.000000  0.459854  0.000000   \n",
      "1  0.406598  0.309228  0.406598  0.309228  0.000000  0.309228  0.618457   \n",
      "2  0.000000  0.000000  0.000000  0.000000  0.622766  0.000000  0.473630   \n",
      "\n",
      "     muchas       que  \n",
      "0  0.000000  0.604652  \n",
      "1  0.000000  0.000000  \n",
      "2  0.622766  0.000000  \n"
     ]
    }
   ],
   "source": [
    "print(\"TF-IDF Matrix:\")\n",
    "print(tfidf_df)"
   ]
  },
  {
   "cell_type": "markdown",
   "id": "6310c376",
   "metadata": {},
   "source": [
    "## Compute the cosine similarity matrix"
   ]
  },
  {
   "cell_type": "code",
   "execution_count": 5,
   "id": "da4954a7",
   "metadata": {},
   "outputs": [],
   "source": [
    "cos_sim_matrix = cosine_similarity(X)"
   ]
  },
  {
   "cell_type": "code",
   "execution_count": 6,
   "id": "6a240391",
   "metadata": {},
   "outputs": [],
   "source": [
    "# Convert the cosine similarity matrix to a DataFrame for better readability\n",
    "cos_sim_df = pd.DataFrame(cos_sim_matrix, index=[\"Doc1\", \"Doc2\", \"Doc3\"], columns=[\"Doc1\", \"Doc2\", \"Doc3\"])"
   ]
  },
  {
   "cell_type": "code",
   "execution_count": 7,
   "id": "032a180d",
   "metadata": {},
   "outputs": [
    {
     "name": "stdout",
     "output_type": "stream",
     "text": [
      "\n",
      "Cosine Similarity Matrix:\n",
      "          Doc1      Doc2     Doc3\n",
      "Doc1  1.000000  0.426599  0.00000\n",
      "Doc2  0.426599  1.000000  0.29292\n",
      "Doc3  0.000000  0.292920  1.00000\n"
     ]
    }
   ],
   "source": [
    "print(\"\\nCosine Similarity Matrix:\")\n",
    "print(cos_sim_df)"
   ]
  },
  {
   "cell_type": "markdown",
   "id": "57d5aa4b",
   "metadata": {},
   "source": [
    "## Manually compute the cosine similarity matrix"
   ]
  },
  {
   "cell_type": "code",
   "execution_count": 8,
   "id": "1d21f87c",
   "metadata": {},
   "outputs": [],
   "source": [
    "def manual_cosine_similarity(tfidf_matrix):\n",
    "    cosine_sim_matrix = np.dot(tfidf_matrix, tfidf_matrix.T)\n",
    "    norm = np.linalg.norm(tfidf_matrix, axis=1)\n",
    "    cosine_sim_matrix = cosine_sim_matrix / np.outer(norm, norm)\n",
    "    return cosine_sim_matrix"
   ]
  },
  {
   "cell_type": "code",
   "execution_count": 9,
   "id": "c1b9bc83",
   "metadata": {},
   "outputs": [
    {
     "name": "stdout",
     "output_type": "stream",
     "text": [
      "\n",
      "Manually Calculated Cosine Similarity Matrix:\n",
      "          Doc1      Doc2     Doc3\n",
      "Doc1  1.000000  0.426599  0.00000\n",
      "Doc2  0.426599  1.000000  0.29292\n",
      "Doc3  0.000000  0.292920  1.00000\n"
     ]
    }
   ],
   "source": [
    "# Calculate cosine similarity manually\n",
    "manual_cos_sim_matrix = manual_cosine_similarity(X.toarray())\n",
    "\n",
    "# Convert the manually calculated cosine similarity matrix to a DataFrame\n",
    "manual_cos_sim_df = pd.DataFrame(manual_cos_sim_matrix, index=[\"Doc1\", \"Doc2\", \"Doc3\"], columns=[\"Doc1\", \"Doc2\", \"Doc3\"])\n",
    "\n",
    "# Display the manually calculated cosine similarity DataFrame\n",
    "print(\"\\nManually Calculated Cosine Similarity Matrix:\")\n",
    "print(manual_cos_sim_df)"
   ]
  },
  {
   "cell_type": "code",
   "execution_count": null,
   "id": "e2dcb2da",
   "metadata": {},
   "outputs": [],
   "source": []
  }
 ],
 "metadata": {
  "kernelspec": {
   "display_name": "Python 3 (ipykernel)",
   "language": "python",
   "name": "python3"
  },
  "language_info": {
   "codemirror_mode": {
    "name": "ipython",
    "version": 3
   },
   "file_extension": ".py",
   "mimetype": "text/x-python",
   "name": "python",
   "nbconvert_exporter": "python",
   "pygments_lexer": "ipython3",
   "version": "3.10.9"
  }
 },
 "nbformat": 4,
 "nbformat_minor": 5
}
