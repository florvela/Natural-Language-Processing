{
  "cells": [
    {
      "cell_type": "markdown",
      "metadata": {
        "id": "sZd5yLnnHOK0"
      },
      "source": [
        "<img src=\"https://github.com/hernancontigiani/ceia_memorias_especializacion/raw/master/Figures/logoFIUBA.jpg\" width=\"500\" align=\"center\">\n",
        "\n",
        "\n",
        "# Procesamiento de lenguaje natural\n",
        "## Custom embedddings con Gensim\n",
        "\n"
      ]
    },
    {
      "cell_type": "markdown",
      "metadata": {
        "id": "vA7nqkumo9z9"
      },
      "source": [
        "### Objetivo\n",
        "El objetivo es utilizar documentos / corpus para crear embeddings de palabras basado en ese contexto. Se utilizará canciones de bandas para generar los embeddings, es decir, que los vectores tendrán la forma en función de como esa banda haya utilizado las palabras en sus canciones."
      ]
    },
    {
      "cell_type": "code",
      "execution_count": 38,
      "metadata": {
        "id": "lFToQs5FK5uZ"
      },
      "outputs": [],
      "source": [
        "import pandas as pd\n",
        "import matplotlib.pyplot as plt\n",
        "import seaborn as sns\n",
        "import bs4 as bs\n",
        "import urllib.request\n",
        "import multiprocessing\n",
        "from gensim.models import Word2Vec"
      ]
    },
    {
      "cell_type": "markdown",
      "metadata": {
        "id": "g07zJxG7H9vG"
      },
      "source": [
        "### Datos\n",
        "Utilizaremos como dataset canciones de bandas de habla inglés."
      ]
    },
    {
      "cell_type": "code",
      "source": [
        "url = \"https://en.wikipedia.org/wiki/How_I_Met_Your_Mother\""
      ],
      "metadata": {
        "id": "StfkJ2YC6mYt"
      },
      "execution_count": 39,
      "outputs": []
    },
    {
      "cell_type": "code",
      "source": [
        "raw_html = urllib.request.urlopen(url)\n",
        "raw_html = raw_html.read()\n",
        "\n",
        "# Parsear artículo, 'lxml' es el parser a utilizar\n",
        "article_html = bs.BeautifulSoup(raw_html, 'lxml')\n",
        "\n",
        "# Encontrar todos los párrafos del HTML (bajo el tag <p>)\n",
        "# y tenerlos disponible como lista\n",
        "article_paragraphs = article_html.find_all('p')\n",
        "\n",
        "article_text = ''\n",
        "\n",
        "for para in article_paragraphs:\n",
        "    article_text += para.text\n",
        "\n",
        "article_text = article_text.lower()"
      ],
      "metadata": {
        "id": "zFVVU-yX7G6f"
      },
      "execution_count": 65,
      "outputs": []
    },
    {
      "cell_type": "code",
      "source": [
        "# [article for article in article_text.split(\"\\n\") if len(article) > 1]\n",
        "df = pd.DataFrame([article for article in article_text.split(\"\\n\") if len(article.split(\" \")) > 3], columns=['data'])\n",
        "df.head()"
      ],
      "metadata": {
        "colab": {
          "base_uri": "https://localhost:8080/",
          "height": 201
        },
        "id": "ocWMcVDJ7qnQ",
        "outputId": "b07eb335-19d1-4b4f-bc84-72d1c505e1e1"
      },
      "execution_count": 48,
      "outputs": [
        {
          "output_type": "execute_result",
          "data": {
            "text/plain": [
              "                                                data\n",
              "0  how i met your mother (often abbreviated as hi...\n",
              "1  the series was loosely inspired by thomas and ...\n",
              "2  known for its unique structure, humor, and inc...\n",
              "3  the series follows the adventures of ted mosby...\n",
              "4  the story goes into a flashback and starts in ..."
            ],
            "text/html": [
              "\n",
              "  <div id=\"df-bf4e094b-7e8d-4a2e-bdee-2798a4d47862\">\n",
              "    <div class=\"colab-df-container\">\n",
              "      <div>\n",
              "<style scoped>\n",
              "    .dataframe tbody tr th:only-of-type {\n",
              "        vertical-align: middle;\n",
              "    }\n",
              "\n",
              "    .dataframe tbody tr th {\n",
              "        vertical-align: top;\n",
              "    }\n",
              "\n",
              "    .dataframe thead th {\n",
              "        text-align: right;\n",
              "    }\n",
              "</style>\n",
              "<table border=\"1\" class=\"dataframe\">\n",
              "  <thead>\n",
              "    <tr style=\"text-align: right;\">\n",
              "      <th></th>\n",
              "      <th>data</th>\n",
              "    </tr>\n",
              "  </thead>\n",
              "  <tbody>\n",
              "    <tr>\n",
              "      <th>0</th>\n",
              "      <td>how i met your mother (often abbreviated as hi...</td>\n",
              "    </tr>\n",
              "    <tr>\n",
              "      <th>1</th>\n",
              "      <td>the series was loosely inspired by thomas and ...</td>\n",
              "    </tr>\n",
              "    <tr>\n",
              "      <th>2</th>\n",
              "      <td>known for its unique structure, humor, and inc...</td>\n",
              "    </tr>\n",
              "    <tr>\n",
              "      <th>3</th>\n",
              "      <td>the series follows the adventures of ted mosby...</td>\n",
              "    </tr>\n",
              "    <tr>\n",
              "      <th>4</th>\n",
              "      <td>the story goes into a flashback and starts in ...</td>\n",
              "    </tr>\n",
              "  </tbody>\n",
              "</table>\n",
              "</div>\n",
              "      <button class=\"colab-df-convert\" onclick=\"convertToInteractive('df-bf4e094b-7e8d-4a2e-bdee-2798a4d47862')\"\n",
              "              title=\"Convert this dataframe to an interactive table.\"\n",
              "              style=\"display:none;\">\n",
              "        \n",
              "  <svg xmlns=\"http://www.w3.org/2000/svg\" height=\"24px\"viewBox=\"0 0 24 24\"\n",
              "       width=\"24px\">\n",
              "    <path d=\"M0 0h24v24H0V0z\" fill=\"none\"/>\n",
              "    <path d=\"M18.56 5.44l.94 2.06.94-2.06 2.06-.94-2.06-.94-.94-2.06-.94 2.06-2.06.94zm-11 1L8.5 8.5l.94-2.06 2.06-.94-2.06-.94L8.5 2.5l-.94 2.06-2.06.94zm10 10l.94 2.06.94-2.06 2.06-.94-2.06-.94-.94-2.06-.94 2.06-2.06.94z\"/><path d=\"M17.41 7.96l-1.37-1.37c-.4-.4-.92-.59-1.43-.59-.52 0-1.04.2-1.43.59L10.3 9.45l-7.72 7.72c-.78.78-.78 2.05 0 2.83L4 21.41c.39.39.9.59 1.41.59.51 0 1.02-.2 1.41-.59l7.78-7.78 2.81-2.81c.8-.78.8-2.07 0-2.86zM5.41 20L4 18.59l7.72-7.72 1.47 1.35L5.41 20z\"/>\n",
              "  </svg>\n",
              "      </button>\n",
              "      \n",
              "  <style>\n",
              "    .colab-df-container {\n",
              "      display:flex;\n",
              "      flex-wrap:wrap;\n",
              "      gap: 12px;\n",
              "    }\n",
              "\n",
              "    .colab-df-convert {\n",
              "      background-color: #E8F0FE;\n",
              "      border: none;\n",
              "      border-radius: 50%;\n",
              "      cursor: pointer;\n",
              "      display: none;\n",
              "      fill: #1967D2;\n",
              "      height: 32px;\n",
              "      padding: 0 0 0 0;\n",
              "      width: 32px;\n",
              "    }\n",
              "\n",
              "    .colab-df-convert:hover {\n",
              "      background-color: #E2EBFA;\n",
              "      box-shadow: 0px 1px 2px rgba(60, 64, 67, 0.3), 0px 1px 3px 1px rgba(60, 64, 67, 0.15);\n",
              "      fill: #174EA6;\n",
              "    }\n",
              "\n",
              "    [theme=dark] .colab-df-convert {\n",
              "      background-color: #3B4455;\n",
              "      fill: #D2E3FC;\n",
              "    }\n",
              "\n",
              "    [theme=dark] .colab-df-convert:hover {\n",
              "      background-color: #434B5C;\n",
              "      box-shadow: 0px 1px 3px 1px rgba(0, 0, 0, 0.15);\n",
              "      filter: drop-shadow(0px 1px 2px rgba(0, 0, 0, 0.3));\n",
              "      fill: #FFFFFF;\n",
              "    }\n",
              "  </style>\n",
              "\n",
              "      <script>\n",
              "        const buttonEl =\n",
              "          document.querySelector('#df-bf4e094b-7e8d-4a2e-bdee-2798a4d47862 button.colab-df-convert');\n",
              "        buttonEl.style.display =\n",
              "          google.colab.kernel.accessAllowed ? 'block' : 'none';\n",
              "\n",
              "        async function convertToInteractive(key) {\n",
              "          const element = document.querySelector('#df-bf4e094b-7e8d-4a2e-bdee-2798a4d47862');\n",
              "          const dataTable =\n",
              "            await google.colab.kernel.invokeFunction('convertToInteractive',\n",
              "                                                     [key], {});\n",
              "          if (!dataTable) return;\n",
              "\n",
              "          const docLinkHtml = 'Like what you see? Visit the ' +\n",
              "            '<a target=\"_blank\" href=https://colab.research.google.com/notebooks/data_table.ipynb>data table notebook</a>'\n",
              "            + ' to learn more about interactive tables.';\n",
              "          element.innerHTML = '';\n",
              "          dataTable['output_type'] = 'display_data';\n",
              "          await google.colab.output.renderOutput(dataTable, element);\n",
              "          const docLink = document.createElement('div');\n",
              "          docLink.innerHTML = docLinkHtml;\n",
              "          element.appendChild(docLink);\n",
              "        }\n",
              "      </script>\n",
              "    </div>\n",
              "  </div>\n",
              "  "
            ]
          },
          "metadata": {},
          "execution_count": 48
        }
      ]
    },
    {
      "cell_type": "code",
      "execution_count": 49,
      "metadata": {
        "colab": {
          "base_uri": "https://localhost:8080/"
        },
        "id": "LEpKubK9XzXN",
        "outputId": "6d108150-339f-442d-d19f-9d6a7085fabb"
      },
      "outputs": [
        {
          "output_type": "stream",
          "name": "stdout",
          "text": [
            "Cantidad de documentos: 89\n"
          ]
        }
      ],
      "source": [
        "print(\"Cantidad de documentos:\", df.shape[0])"
      ]
    },
    {
      "cell_type": "markdown",
      "metadata": {
        "id": "ab94qaFlrA1G"
      },
      "source": [
        "### 1 - Preprocesamiento"
      ]
    },
    {
      "cell_type": "code",
      "execution_count": 50,
      "metadata": {
        "id": "rIsmMWmjrDHd"
      },
      "outputs": [],
      "source": [
        "from keras.preprocessing.text import text_to_word_sequence\n",
        "\n",
        "sentence_tokens = []\n",
        "# Recorrer todas las filas y transformar las oraciones\n",
        "# en una secuencia de palabras (esto podría realizarse con NLTK o spaCy también)\n",
        "for _, row in df[:None].iterrows():\n",
        "    sentence_tokens.append(text_to_word_sequence(row[0]))"
      ]
    },
    {
      "cell_type": "code",
      "execution_count": 51,
      "metadata": {
        "colab": {
          "base_uri": "https://localhost:8080/"
        },
        "id": "CHepi_DGrbhq",
        "outputId": "9ec48fac-df23-400b-919c-d3c9f7b72842"
      },
      "outputs": [
        {
          "output_type": "execute_result",
          "data": {
            "text/plain": [
              "[['how',\n",
              "  'i',\n",
              "  'met',\n",
              "  'your',\n",
              "  'mother',\n",
              "  'often',\n",
              "  'abbreviated',\n",
              "  'as',\n",
              "  'himym',\n",
              "  'is',\n",
              "  'an',\n",
              "  'american',\n",
              "  'sitcom',\n",
              "  'created',\n",
              "  'by',\n",
              "  'craig',\n",
              "  'thomas',\n",
              "  'and',\n",
              "  'carter',\n",
              "  'bays',\n",
              "  'for',\n",
              "  'cbs',\n",
              "  'the',\n",
              "  'series',\n",
              "  'that',\n",
              "  'aired',\n",
              "  'from',\n",
              "  'september',\n",
              "  '19',\n",
              "  '2005',\n",
              "  'to',\n",
              "  'march',\n",
              "  '31',\n",
              "  '2014',\n",
              "  'follows',\n",
              "  'the',\n",
              "  'main',\n",
              "  'character',\n",
              "  'ted',\n",
              "  'mosby',\n",
              "  'and',\n",
              "  'his',\n",
              "  'group',\n",
              "  'of',\n",
              "  'friends',\n",
              "  'in',\n",
              "  'new',\n",
              "  'york',\n",
              "  \"city's\",\n",
              "  'manhattan',\n",
              "  'as',\n",
              "  'a',\n",
              "  'framing',\n",
              "  'device',\n",
              "  'ted',\n",
              "  'in',\n",
              "  '2030',\n",
              "  'recounts',\n",
              "  'to',\n",
              "  'his',\n",
              "  'son',\n",
              "  'luke',\n",
              "  'and',\n",
              "  'daughter',\n",
              "  'penny',\n",
              "  'the',\n",
              "  'events',\n",
              "  'from',\n",
              "  'september',\n",
              "  '2005',\n",
              "  'to',\n",
              "  'may',\n",
              "  '2013',\n",
              "  'that',\n",
              "  'led',\n",
              "  'him',\n",
              "  'to',\n",
              "  'meet',\n",
              "  'their',\n",
              "  'mother',\n",
              "  'how',\n",
              "  'i',\n",
              "  'met',\n",
              "  'your',\n",
              "  'mother',\n",
              "  'is',\n",
              "  'a',\n",
              "  'joint',\n",
              "  'production',\n",
              "  'by',\n",
              "  'bays',\n",
              "  'thomas',\n",
              "  'productions',\n",
              "  'and',\n",
              "  '20th',\n",
              "  'century',\n",
              "  'fox',\n",
              "  'television',\n",
              "  'and',\n",
              "  'syndicated',\n",
              "  'by',\n",
              "  '20th',\n",
              "  'television',\n",
              "  'now',\n",
              "  'disney',\n",
              "  'abc',\n",
              "  'domestic',\n",
              "  'television'],\n",
              " ['the',\n",
              "  'series',\n",
              "  'was',\n",
              "  'loosely',\n",
              "  'inspired',\n",
              "  'by',\n",
              "  'thomas',\n",
              "  'and',\n",
              "  \"bays'\",\n",
              "  'friendship',\n",
              "  'when',\n",
              "  'they',\n",
              "  'both',\n",
              "  'lived',\n",
              "  'in',\n",
              "  'new',\n",
              "  'york',\n",
              "  '1',\n",
              "  'the',\n",
              "  'vast',\n",
              "  'majority',\n",
              "  'of',\n",
              "  'episodes',\n",
              "  'were',\n",
              "  'directed',\n",
              "  'by',\n",
              "  'pamela',\n",
              "  'fryman',\n",
              "  'who',\n",
              "  'directed',\n",
              "  '196',\n",
              "  'episodes',\n",
              "  'out',\n",
              "  'of',\n",
              "  '208',\n",
              "  'the',\n",
              "  'other',\n",
              "  'directors',\n",
              "  'were',\n",
              "  'rob',\n",
              "  'greenberg',\n",
              "  '7',\n",
              "  'episodes',\n",
              "  'michael',\n",
              "  'shea',\n",
              "  '4',\n",
              "  'episodes',\n",
              "  'and',\n",
              "  'neil',\n",
              "  'patrick',\n",
              "  'harris',\n",
              "  '1',\n",
              "  'episode']]"
            ]
          },
          "metadata": {},
          "execution_count": 51
        }
      ],
      "source": [
        "# Demos un vistazo\n",
        "sentence_tokens[:2]"
      ]
    },
    {
      "cell_type": "markdown",
      "metadata": {
        "id": "BaXV6nlHr5Aa"
      },
      "source": [
        "### 2 - Crear los vectores (word2vec)"
      ]
    },
    {
      "cell_type": "code",
      "execution_count": 52,
      "metadata": {
        "id": "OSb0v7h8r7hK"
      },
      "outputs": [],
      "source": [
        "from gensim.models.callbacks import CallbackAny2Vec\n",
        "# Durante el entrenamiento gensim por defecto no informa el \"loss\" en cada época\n",
        "# Sobracargamos el callback para poder tener esta información\n",
        "class callback(CallbackAny2Vec):\n",
        "    \"\"\"\n",
        "    Callback to print loss after each epoch\n",
        "    \"\"\"\n",
        "    def __init__(self):\n",
        "        self.epoch = 0\n",
        "\n",
        "    def on_epoch_end(self, model):\n",
        "        loss = model.get_latest_training_loss()\n",
        "        if self.epoch == 0:\n",
        "            print('Loss after epoch {}: {}'.format(self.epoch, loss))\n",
        "        else:\n",
        "            print('Loss after epoch {}: {}'.format(self.epoch, loss- self.loss_previous_step))\n",
        "        self.epoch += 1\n",
        "        self.loss_previous_step = loss"
      ]
    },
    {
      "cell_type": "code",
      "execution_count": 53,
      "metadata": {
        "id": "i0wnDdv9sJ47"
      },
      "outputs": [],
      "source": [
        "# Crearmos el modelo generador de vectoeres\n",
        "# En este caso utilizaremos la estructura modelo Skipgram\n",
        "w2v_model = Word2Vec(min_count=2,    # frecuencia mínima de palabra para incluirla en el vocabulario\n",
        "                     window=2,       # cant de palabras antes y desp de la predicha\n",
        "                     size=200,       # dimensionalidad de los vectores \n",
        "                     negative=20,    # cantidad de negative samples... 0 es no se usa\n",
        "                     workers=1,      # si tienen más cores pueden cambiar este valor\n",
        "                     sg=1)           # modelo 0:CBOW  1:skipgram"
      ]
    },
    {
      "cell_type": "code",
      "execution_count": 54,
      "metadata": {
        "id": "5lTt8wErsf17"
      },
      "outputs": [],
      "source": [
        "# Buildear el vocabulario con los tokens\n",
        "w2v_model.build_vocab(sentence_tokens)"
      ]
    },
    {
      "cell_type": "code",
      "execution_count": 55,
      "metadata": {
        "colab": {
          "base_uri": "https://localhost:8080/"
        },
        "id": "TNc9qt4os5AT",
        "outputId": "b0e06c19-bc0d-4488-d726-b13d0eb56212"
      },
      "outputs": [
        {
          "output_type": "stream",
          "name": "stdout",
          "text": [
            "Cantidad de docs en el corpus: 89\n"
          ]
        }
      ],
      "source": [
        "# Cantidad de filas/docs encontradas en el corpus\n",
        "print(\"Cantidad de docs en el corpus:\", w2v_model.corpus_count)"
      ]
    },
    {
      "cell_type": "code",
      "execution_count": 56,
      "metadata": {
        "colab": {
          "base_uri": "https://localhost:8080/"
        },
        "id": "idw9cHF3tSMl",
        "outputId": "eb087374-493e-4b29-90bb-fcf1582194e1"
      },
      "outputs": [
        {
          "output_type": "stream",
          "name": "stdout",
          "text": [
            "Cantidad de words distintas en el corpus: 879\n"
          ]
        }
      ],
      "source": [
        "# Cantidad de words encontradas en el corpus\n",
        "print(\"Cantidad de words distintas en el corpus:\", len(w2v_model.wv.vocab))"
      ]
    },
    {
      "cell_type": "markdown",
      "metadata": {
        "id": "fC9mZ8DPk-UC"
      },
      "source": [
        "### 3 - Entrenar el modelo generador"
      ]
    },
    {
      "cell_type": "code",
      "execution_count": 57,
      "metadata": {
        "colab": {
          "base_uri": "https://localhost:8080/"
        },
        "id": "QSp-x0PAsq56",
        "outputId": "0e978d09-1c46-4c46-ae5a-c94e172da440"
      },
      "outputs": [
        {
          "output_type": "stream",
          "name": "stdout",
          "text": [
            "Loss after epoch 0: 164839.59375\n",
            "Loss after epoch 1: 70111.15625\n",
            "Loss after epoch 2: 60457.46875\n",
            "Loss after epoch 3: 58956.25\n",
            "Loss after epoch 4: 58830.3125\n",
            "Loss after epoch 5: 57488.84375\n",
            "Loss after epoch 6: 58541.75\n",
            "Loss after epoch 7: 58759.8125\n",
            "Loss after epoch 8: 58196.875\n",
            "Loss after epoch 9: 59341.75\n",
            "Loss after epoch 10: 59308.625\n",
            "Loss after epoch 11: 59135.375\n",
            "Loss after epoch 12: 60784.0625\n",
            "Loss after epoch 13: 59779.75\n",
            "Loss after epoch 14: 58644.875\n",
            "Loss after epoch 15: 57086.0\n",
            "Loss after epoch 16: 50412.375\n",
            "Loss after epoch 17: 51567.375\n",
            "Loss after epoch 18: 51057.875\n",
            "Loss after epoch 19: 51164.125\n"
          ]
        },
        {
          "output_type": "execute_result",
          "data": {
            "text/plain": [
              "(97977, 168920)"
            ]
          },
          "metadata": {},
          "execution_count": 57
        }
      ],
      "source": [
        "# Entrenamos el modelo generador de vectores\n",
        "# Utilizamos nuestro callback\n",
        "w2v_model.train(sentence_tokens,\n",
        "                 total_examples=w2v_model.corpus_count,\n",
        "                 epochs=20,\n",
        "                 compute_loss = True,\n",
        "                 callbacks=[callback()]\n",
        "                 )"
      ]
    },
    {
      "cell_type": "markdown",
      "metadata": {
        "id": "ddT9NVuNlCAe"
      },
      "source": [
        "### 4 - Ensayar"
      ]
    },
    {
      "cell_type": "code",
      "execution_count": 59,
      "metadata": {
        "colab": {
          "base_uri": "https://localhost:8080/"
        },
        "id": "6cHN9xGLuPEm",
        "outputId": "513d874a-1bb5-400a-8abc-a5c422af17a8"
      },
      "outputs": [
        {
          "output_type": "execute_result",
          "data": {
            "text/plain": [
              "[('lily', 0.9981820583343506),\n",
              " ('robin', 0.9980660676956177),\n",
              " ('as', 0.9966107606887817),\n",
              " ('ted', 0.996426522731781),\n",
              " ('to', 0.9962630271911621),\n",
              " ('two', 0.9959754943847656),\n",
              " ('decide', 0.9956697225570679),\n",
              " ('in', 0.9955923557281494),\n",
              " ('job', 0.9954426884651184),\n",
              " ('and', 0.994999885559082)]"
            ]
          },
          "metadata": {},
          "execution_count": 59
        }
      ],
      "source": [
        "# Palabras que MÁS se relacionan con...:\n",
        "w2v_model.wv.most_similar(positive=[\"marshall\"], topn=10)"
      ]
    },
    {
      "cell_type": "code",
      "execution_count": 60,
      "metadata": {
        "colab": {
          "base_uri": "https://localhost:8080/"
        },
        "id": "47HiU5gdkdMq",
        "outputId": "a46eb99d-79d2-4f4e-d365-d667eccf68bf"
      },
      "outputs": [
        {
          "output_type": "execute_result",
          "data": {
            "text/plain": [
              "[('your', -0.5273457765579224),\n",
              " ('i', -0.5553606152534485),\n",
              " ('met', -0.5586082935333252),\n",
              " ('how', -0.5744413733482361),\n",
              " ('mother', -0.6313814520835876),\n",
              " ('father', -0.7659263610839844),\n",
              " ('dad', -0.8653206825256348),\n",
              " ('would', -0.9082147479057312),\n",
              " ('story', -0.9176828861236572),\n",
              " ('he', -0.9204344749450684)]"
            ]
          },
          "metadata": {},
          "execution_count": 60
        }
      ],
      "source": [
        "# Palabras que MENOS se relacionan con...:\n",
        "w2v_model.wv.most_similar(negative=[\"marshall\"], topn=10)"
      ]
    },
    {
      "cell_type": "code",
      "execution_count": 61,
      "metadata": {
        "colab": {
          "base_uri": "https://localhost:8080/"
        },
        "id": "DT4Rvno2mD65",
        "outputId": "3750e76d-ff01-4a45-960c-b1d0947f2c20"
      },
      "outputs": [
        {
          "output_type": "execute_result",
          "data": {
            "text/plain": [
              "[('i', 0.9962379336357117),\n",
              " ('how', 0.996040940284729),\n",
              " ('mother', 0.9943609833717346),\n",
              " ('your', 0.9941858649253845),\n",
              " ('father', 0.9596943259239197),\n",
              " ('dad', 0.8978784084320068),\n",
              " ('would', 0.8492344617843628),\n",
              " ('story', 0.8394259214401245),\n",
              " ('he', 0.8350350260734558),\n",
              " ('does', 0.8269525766372681)]"
            ]
          },
          "metadata": {},
          "execution_count": 61
        }
      ],
      "source": [
        "# Palabras que MÁS se relacionan con...:\n",
        "w2v_model.wv.most_similar(positive=[\"met\"], topn=10)"
      ]
    },
    {
      "cell_type": "code",
      "execution_count": 62,
      "metadata": {
        "colab": {
          "base_uri": "https://localhost:8080/"
        },
        "id": "XPLDPgzBmQXt",
        "outputId": "10a47b36-1798-44f2-8da6-af2bef0b7f2f"
      },
      "outputs": [
        {
          "output_type": "execute_result",
          "data": {
            "text/plain": [
              "[('met', 0.9943609237670898),\n",
              " ('i', 0.9940323233604431),\n",
              " ('how', 0.992950439453125),\n",
              " ('your', 0.9872229099273682),\n",
              " ('father', 0.9817196130752563),\n",
              " ('dad', 0.9340349435806274),\n",
              " ('would', 0.8927876949310303),\n",
              " ('story', 0.8853969573974609),\n",
              " ('he', 0.8821658492088318),\n",
              " ('does', 0.874191403388977)]"
            ]
          },
          "metadata": {},
          "execution_count": 62
        }
      ],
      "source": [
        "# Palabras que MÁS se relacionan con...:\n",
        "w2v_model.wv.most_similar(positive=[\"mother\"], topn=10)"
      ]
    },
    {
      "cell_type": "markdown",
      "metadata": {
        "id": "_g8UVWe6lFmh"
      },
      "source": [
        "### 5 - Visualizar agrupación de vectores"
      ]
    },
    {
      "cell_type": "code",
      "execution_count": 63,
      "metadata": {
        "id": "pDxEVXAivjr9"
      },
      "outputs": [],
      "source": [
        "from sklearn.decomposition import IncrementalPCA    \n",
        "from sklearn.manifold import TSNE                   \n",
        "import numpy as np                                  \n",
        "\n",
        "def reduce_dimensions(model):\n",
        "    num_dimensions = 2  \n",
        "\n",
        "    vectors = np.asarray(model.wv.vectors)\n",
        "    labels = np.asarray(model.wv.index2word)  \n",
        "\n",
        "    tsne = TSNE(n_components=num_dimensions, random_state=0)\n",
        "    vectors = tsne.fit_transform(vectors)\n",
        "\n",
        "    x_vals = [v[0] for v in vectors]\n",
        "    y_vals = [v[1] for v in vectors]\n",
        "    return x_vals, y_vals, labels"
      ]
    },
    {
      "cell_type": "code",
      "execution_count": 64,
      "metadata": {
        "colab": {
          "base_uri": "https://localhost:8080/",
          "height": 674
        },
        "id": "NCCXtDpcugmd",
        "outputId": "a09e7749-e7cc-4388-cc5e-2275162574ab"
      },
      "outputs": [
        {
          "output_type": "stream",
          "name": "stderr",
          "text": [
            "/usr/local/lib/python3.7/dist-packages/sklearn/manifold/_t_sne.py:783: FutureWarning:\n",
            "\n",
            "The default initialization in TSNE will change from 'random' to 'pca' in 1.2.\n",
            "\n",
            "/usr/local/lib/python3.7/dist-packages/sklearn/manifold/_t_sne.py:793: FutureWarning:\n",
            "\n",
            "The default learning rate in TSNE will change from 200.0 to 'auto' in 1.2.\n",
            "\n"
          ]
        },
        {
          "output_type": "display_data",
          "data": {
            "text/html": [
              "<html>\n",
              "<head><meta charset=\"utf-8\" /></head>\n",
              "<body>\n",
              "    <div>            <script src=\"https://cdnjs.cloudflare.com/ajax/libs/mathjax/2.7.5/MathJax.js?config=TeX-AMS-MML_SVG\"></script><script type=\"text/javascript\">if (window.MathJax) {MathJax.Hub.Config({SVG: {font: \"STIX-Web\"}});}</script>                <script type=\"text/javascript\">window.PlotlyConfig = {MathJaxConfig: 'local'};</script>\n",
              "        <script src=\"https://cdn.plot.ly/plotly-2.8.3.min.js\"></script>                <div id=\"4593e7ca-2427-4b50-bf52-1436bfcab0e1\" class=\"plotly-graph-div\" style=\"height:525px; width:100%;\"></div>            <script type=\"text/javascript\">                                    window.PLOTLYENV=window.PLOTLYENV || {};                                    if (document.getElementById(\"4593e7ca-2427-4b50-bf52-1436bfcab0e1\")) {                    Plotly.newPlot(                        \"4593e7ca-2427-4b50-bf52-1436bfcab0e1\",                        [{\"hovertemplate\":\"x=%{x}<br>y=%{y}<br>text=%{text}<extra></extra>\",\"legendgroup\":\"\",\"marker\":{\"color\":\"#636efa\",\"symbol\":\"circle\"},\"mode\":\"markers+text\",\"name\":\"\",\"orientation\":\"v\",\"showlegend\":false,\"text\":[\"the\",\"and\",\"to\",\"a\",\"of\",\"in\",\"with\",\"on\",\"ted\",\"is\",\"that\",\"season\",\"for\",\"robin\",\"barney\",\"his\",\"as\",\"was\",\"he\",\"marshall\",\"they\",\"her\",\"from\",\"their\",\"show\",\"after\",\"lily\",\"up\",\"it\",\"an\",\"series\",\"not\",\"at\",\"new\",\"mother\",\"by\",\"be\",\"she\",\"how\",\"are\",\"met\",\"have\",\"him\",\"episode\",\"out\",\"i\",\"but\",\"when\",\"this\",\"had\",\"episodes\",\"were\",\"would\",\"which\",\"your\",\"two\",\"has\",\"wedding\",\"thomas\",\"while\",\"bays\",\"who\",\"future\",\"revealed\",\"children\",\"finale\",\"also\",\"later\",\"time\",\"into\",\"first\",\"ted's\",\"seasons\",\"them\",\"relationship\",\"been\",\"over\",\"eventually\",\"father\",\"cbs\",\"friends\",\"years\",\"end\",\"get\",\"job\",\"begins\",\"being\",\"announced\",\"back\",\"decides\",\"together\",\"york\",\"1\",\"all\",\"cast\",\"9\",\"break\",\"barney's\",\"television\",\"other\",\"4\",\"received\",\"positive\",\"story\",\"will\",\"or\",\"down\",\"review\",\"gave\",\"september\",\"2014\",\"its\",\"reviews\",\"more\",\"show's\",\"about\",\"final\",\"feelings\",\"off\",\"comedy\",\"love\",\"each\",\"lily's\",\"during\",\"did\",\"where\",\"pilot\",\"however\",\"finally\",\"decide\",\"ends\",\"apartment\",\"stella\",\"march\",\"neil\",\"patrick\",\"life\",\"old\",\"wife\",\"only\",\"available\",\"last\",\"since\",\"one\",\"co\",\"having\",\"dating\",\"victoria\",\"carter\",\"may\",\"both\",\"harris\",\"initially\",\"mixed\",\"alyson\",\"hannigan\",\"present\",\"does\",\"writers\",\"role\",\"another\",\"named\",\"see\",\"due\",\"whom\",\"move\",\"gang\",\"project\",\"robin's\",\"spin\",\"character\",\"mosby\",\"now\",\"disney\",\"friendship\",\"single\",\"bob\",\"set\",\"day\",\"nine\",\"based\",\"although\",\"said\",\"bar\",\"because\",\"used\",\"scene\",\"sex\",\"than\",\"meets\",\"become\",\"date\",\"marshall's\",\"girl\",\"slap\",\"takes\",\"tony\",\"baby\",\"zoey\",\"critics\"],\"x\":[-25.755870819091797,-30.08056640625,-32.92582321166992,-21.95899200439453,-23.405899047851562,-35.08374786376953,-17.61807632446289,-30.207273483276367,-32.84832000732422,20.016374588012695,-1.5471396446228027,-26.097440719604492,13.892017364501953,-34.34162902832031,-31.43269920349121,-20.361282348632812,-34.33464431762695,49.397884368896484,53.07476806640625,-34.923316955566406,-30.546695709228516,-31.196565628051758,-20.549152374267578,51.71250915527344,-32.2624626159668,-22.620418548583984,-34.42995834350586,-15.65045166015625,-16.432823181152344,-26.43055534362793,32.27679443359375,24.488061904907227,41.873626708984375,-35.88086700439453,52.27467727661133,45.187198638916016,20.45433807373047,-27.64478302001953,52.12800598144531,-35.19271469116211,51.87545394897461,26.726533889770508,34.545291900634766,4.6256103515625,46.919559478759766,51.87651062011719,-31.82234001159668,24.478052139282227,16.350936889648438,-33.27479553222656,-33.73491287231445,-34.137508392333984,53.01499938964844,43.55097198486328,51.87261962890625,-33.983497619628906,-33.260623931884766,-29.877376556396484,-12.577677726745605,19.206037521362305,-11.969127655029297,-26.88331413269043,20.661502838134766,-33.489131927490234,21.291780471801758,-24.302507400512695,-31.71417236328125,-32.60804748535156,-24.852399826049805,-32.08715057373047,-23.41718292236328,20.398679733276367,-36.9736213684082,17.02947235107422,-28.89838409423828,-33.60053253173828,-29.113981246948242,-28.99856948852539,52.63117218017578,33.38963317871094,-30.781431198120117,-32.2540397644043,-23.625015258789062,-31.715333938598633,-33.9101448059082,-30.335676193237305,-27.368057250976562,33.97080612182617,-31.811721801757812,17.894973754882812,-18.187030792236328,-35.892852783203125,-37.065406799316406,-30.82945442199707,-32.20688247680664,-36.971771240234375,-17.985836029052734,-4.0229692459106445,32.76519012451172,46.637718200683594,-30.081823348999023,-25.313791275024414,36.39836883544922,52.566341400146484,-28.44209861755371,-30.578279495239258,48.74372863769531,36.96799850463867,-26.0258846282959,-30.30192756652832,-30.673006057739258,39.144893646240234,36.12464904785156,-31.36922836303711,-30.112163543701172,13.310203552246094,-23.716115951538086,-16.13718605041504,-18.4352970123291,-10.405537605285645,0.6623335480690002,41.643611907958984,27.64324378967285,-29.94799041748047,-13.302273750305176,-29.120370864868164,3.6687588691711426,17.358144760131836,-21.085826873779297,-31.326520919799805,45.04213333129883,-21.730810165405273,-24.93722152709961,-30.33146858215332,0.8350066542625427,0.44882655143737793,-22.142620086669922,-19.823928833007812,6.299463272094727,-30.00487518310547,-34.49305725097656,-23.2166805267334,39.62968826293945,-12.892266273498535,-19.578723907470703,-23.311513900756836,-29.591400146484375,33.1148681640625,-11.737403869628906,-2.856304883956909,-26.554792404174805,0.8520950078964233,-20.50313377380371,-25.261043548583984,-13.099066734313965,-24.952890396118164,36.743534088134766,52.4813117980957,-19.91160011291504,-24.436445236206055,-15.446574211120605,-16.904977798461914,25.268056869506836,-17.838743209838867,44.80263137817383,-18.102813720703125,-22.65666389465332,-18.03757667541504,-26.950525283813477,-17.443788528442383,-11.882088661193848,-15.716069221496582,-25.40078353881836,-25.915771484375,-11.913281440734863,31.836294174194336,-11.43567180633545,-18.54820442199707,47.419654846191406,-22.647571563720703,-17.367469787597656,31.15511703491211,-9.434274673461914,15.879467964172363,-8.918859481811523,-4.399510383605957,-23.291412353515625,-27.268016815185547,-21.038726806640625,6.7153000831604,-16.967363357543945,-20.779315948486328,39.81081771850586,14.90642261505127,-26.202896118164062,-23.102676391601562,-24.994932174682617,0.8085090517997742,-16.587778091430664,-23.715024948120117],\"xaxis\":\"x\",\"y\":[3.468475580215454,-20.6276912689209,-19.882524490356445,4.503901481628418,3.0091745853424072,-16.637426376342773,-19.904062271118164,-5.828322887420654,-19.003189086914062,-2.207139015197754,-10.997846603393555,4.1233344078063965,2.3202645778656006,-20.077938079833984,-19.094968795776367,-16.521352767944336,-17.08592987060547,2.8153929710388184,4.3645710945129395,-19.780845642089844,-19.448766708374023,-17.579172134399414,-0.9702091813087463,5.849330425262451,-10.874335289001465,-15.284241676330566,-19.754371643066406,-19.8452205657959,-7.3760600090026855,-4.357844352722168,9.591696739196777,-3.264439582824707,3.2736012935638428,-17.582275390625,-0.023812290281057358,7.571959972381592,-2.322469711303711,-18.284372329711914,-0.44924432039260864,-9.95727252960205,-0.957334578037262,-0.736758291721344,2.637749671936035,-8.741933822631836,3.5906481742858887,-0.942171573638916,-18.161582946777344,3.221295118331909,2.6128978729248047,-12.043947219848633,-10.256775856018066,-9.647086143493652,3.2861242294311523,7.154397487640381,-0.9829215407371521,-16.233152389526367,-12.908159255981445,-16.9311580657959,-25.03911781311035,-2.0517241954803467,-25.546552658081055,-16.472644805908203,-6.731090068817139,-14.452058792114258,-6.0987229347229,1.9609687328338623,-12.948074340820312,-14.96504020690918,-13.796502113342285,-16.947641372680664,0.5336084961891174,-6.938063144683838,-11.371259689331055,-0.6766814589500427,-18.663494110107422,-12.046865463256836,-16.191614151000977,-18.44417953491211,1.5121643543243408,9.670827865600586,-16.198707580566406,-15.890484809875488,-2.428584575653076,-20.3273983001709,-17.252656936645508,-16.17502784729004,-2.9808692932128906,10.021827697753906,-20.619644165039062,-3.284494161605835,-18.838558197021484,-16.937990188598633,-11.329490661621094,-11.95150375366211,-11.401138305664062,-11.313763618469238,-20.45575714111328,1.1625677347183228,8.63608455657959,6.466226577758789,-8.865796089172363,4.937105655670166,-3.1607532501220703,3.83804988861084,-13.490248680114746,-14.711847305297852,6.33999490737915,-2.918200969696045,4.683498859405518,-4.566543102264404,-3.1556031703948975,8.48676586151123,-3.2784438133239746,-15.511496543884277,-10.603175163269043,-3.1056928634643555,-4.301131725311279,-12.90257740020752,-9.362920761108398,4.872025966644287,13.938838958740234,7.936129093170166,2.9450886249542236,-10.576681137084961,-9.100183486938477,-15.006009101867676,-8.36875057220459,-12.070393562316895,-15.307802200317383,-19.57276153564453,3.7884342670440674,-18.23577880859375,-16.260087966918945,-4.449228286743164,-1.120316505432129,-1.36475670337677,-13.344362258911133,-18.036893844604492,-18.47197914123535,-12.835196495056152,-9.858949661254883,0.8345943689346313,7.469280242919922,13.311960220336914,-12.311657905578613,-14.405885696411133,-14.700772285461426,2.403503894805908,-24.66971778869629,7.839558124542236,-9.703055381774902,-1.1226862668991089,-9.445635795593262,4.9967780113220215,-1.2448123693466187,-9.971356391906738,6.11903190612793,4.783755779266357,-7.006481170654297,-11.177018165588379,8.029867172241211,5.130570411682129,-1.09293532371521,-13.530770301818848,5.87774658203125,-16.76275062561035,-10.829696655273438,-7.759158611297607,-14.985549926757812,-6.966196537017822,15.251832962036133,13.754220008850098,-7.798566818237305,-7.955570697784424,-12.532415390014648,4.588697910308838,11.095355987548828,7.748281955718994,5.776195049285889,-2.1291816234588623,11.078591346740723,7.047051906585693,-22.728776931762695,9.717260360717773,-14.437745094299316,-21.39029884338379,-4.298068523406982,-13.316943168640137,-6.014654636383057,13.499731063842773,-12.037405014038086,-13.95538330078125,3.0582618713378906,-7.57314920425415,-11.902068138122559,-12.558516502380371,-16.210739135742188,1.9232728481292725,-17.776161193847656,4.456832408905029],\"yaxis\":\"y\",\"type\":\"scatter\"}],                        {\"template\":{\"data\":{\"bar\":[{\"error_x\":{\"color\":\"#2a3f5f\"},\"error_y\":{\"color\":\"#2a3f5f\"},\"marker\":{\"line\":{\"color\":\"#E5ECF6\",\"width\":0.5},\"pattern\":{\"fillmode\":\"overlay\",\"size\":10,\"solidity\":0.2}},\"type\":\"bar\"}],\"barpolar\":[{\"marker\":{\"line\":{\"color\":\"#E5ECF6\",\"width\":0.5},\"pattern\":{\"fillmode\":\"overlay\",\"size\":10,\"solidity\":0.2}},\"type\":\"barpolar\"}],\"carpet\":[{\"aaxis\":{\"endlinecolor\":\"#2a3f5f\",\"gridcolor\":\"white\",\"linecolor\":\"white\",\"minorgridcolor\":\"white\",\"startlinecolor\":\"#2a3f5f\"},\"baxis\":{\"endlinecolor\":\"#2a3f5f\",\"gridcolor\":\"white\",\"linecolor\":\"white\",\"minorgridcolor\":\"white\",\"startlinecolor\":\"#2a3f5f\"},\"type\":\"carpet\"}],\"choropleth\":[{\"colorbar\":{\"outlinewidth\":0,\"ticks\":\"\"},\"type\":\"choropleth\"}],\"contour\":[{\"colorbar\":{\"outlinewidth\":0,\"ticks\":\"\"},\"colorscale\":[[0.0,\"#0d0887\"],[0.1111111111111111,\"#46039f\"],[0.2222222222222222,\"#7201a8\"],[0.3333333333333333,\"#9c179e\"],[0.4444444444444444,\"#bd3786\"],[0.5555555555555556,\"#d8576b\"],[0.6666666666666666,\"#ed7953\"],[0.7777777777777778,\"#fb9f3a\"],[0.8888888888888888,\"#fdca26\"],[1.0,\"#f0f921\"]],\"type\":\"contour\"}],\"contourcarpet\":[{\"colorbar\":{\"outlinewidth\":0,\"ticks\":\"\"},\"type\":\"contourcarpet\"}],\"heatmap\":[{\"colorbar\":{\"outlinewidth\":0,\"ticks\":\"\"},\"colorscale\":[[0.0,\"#0d0887\"],[0.1111111111111111,\"#46039f\"],[0.2222222222222222,\"#7201a8\"],[0.3333333333333333,\"#9c179e\"],[0.4444444444444444,\"#bd3786\"],[0.5555555555555556,\"#d8576b\"],[0.6666666666666666,\"#ed7953\"],[0.7777777777777778,\"#fb9f3a\"],[0.8888888888888888,\"#fdca26\"],[1.0,\"#f0f921\"]],\"type\":\"heatmap\"}],\"heatmapgl\":[{\"colorbar\":{\"outlinewidth\":0,\"ticks\":\"\"},\"colorscale\":[[0.0,\"#0d0887\"],[0.1111111111111111,\"#46039f\"],[0.2222222222222222,\"#7201a8\"],[0.3333333333333333,\"#9c179e\"],[0.4444444444444444,\"#bd3786\"],[0.5555555555555556,\"#d8576b\"],[0.6666666666666666,\"#ed7953\"],[0.7777777777777778,\"#fb9f3a\"],[0.8888888888888888,\"#fdca26\"],[1.0,\"#f0f921\"]],\"type\":\"heatmapgl\"}],\"histogram\":[{\"marker\":{\"pattern\":{\"fillmode\":\"overlay\",\"size\":10,\"solidity\":0.2}},\"type\":\"histogram\"}],\"histogram2d\":[{\"colorbar\":{\"outlinewidth\":0,\"ticks\":\"\"},\"colorscale\":[[0.0,\"#0d0887\"],[0.1111111111111111,\"#46039f\"],[0.2222222222222222,\"#7201a8\"],[0.3333333333333333,\"#9c179e\"],[0.4444444444444444,\"#bd3786\"],[0.5555555555555556,\"#d8576b\"],[0.6666666666666666,\"#ed7953\"],[0.7777777777777778,\"#fb9f3a\"],[0.8888888888888888,\"#fdca26\"],[1.0,\"#f0f921\"]],\"type\":\"histogram2d\"}],\"histogram2dcontour\":[{\"colorbar\":{\"outlinewidth\":0,\"ticks\":\"\"},\"colorscale\":[[0.0,\"#0d0887\"],[0.1111111111111111,\"#46039f\"],[0.2222222222222222,\"#7201a8\"],[0.3333333333333333,\"#9c179e\"],[0.4444444444444444,\"#bd3786\"],[0.5555555555555556,\"#d8576b\"],[0.6666666666666666,\"#ed7953\"],[0.7777777777777778,\"#fb9f3a\"],[0.8888888888888888,\"#fdca26\"],[1.0,\"#f0f921\"]],\"type\":\"histogram2dcontour\"}],\"mesh3d\":[{\"colorbar\":{\"outlinewidth\":0,\"ticks\":\"\"},\"type\":\"mesh3d\"}],\"parcoords\":[{\"line\":{\"colorbar\":{\"outlinewidth\":0,\"ticks\":\"\"}},\"type\":\"parcoords\"}],\"pie\":[{\"automargin\":true,\"type\":\"pie\"}],\"scatter\":[{\"marker\":{\"colorbar\":{\"outlinewidth\":0,\"ticks\":\"\"}},\"type\":\"scatter\"}],\"scatter3d\":[{\"line\":{\"colorbar\":{\"outlinewidth\":0,\"ticks\":\"\"}},\"marker\":{\"colorbar\":{\"outlinewidth\":0,\"ticks\":\"\"}},\"type\":\"scatter3d\"}],\"scattercarpet\":[{\"marker\":{\"colorbar\":{\"outlinewidth\":0,\"ticks\":\"\"}},\"type\":\"scattercarpet\"}],\"scattergeo\":[{\"marker\":{\"colorbar\":{\"outlinewidth\":0,\"ticks\":\"\"}},\"type\":\"scattergeo\"}],\"scattergl\":[{\"marker\":{\"colorbar\":{\"outlinewidth\":0,\"ticks\":\"\"}},\"type\":\"scattergl\"}],\"scattermapbox\":[{\"marker\":{\"colorbar\":{\"outlinewidth\":0,\"ticks\":\"\"}},\"type\":\"scattermapbox\"}],\"scatterpolar\":[{\"marker\":{\"colorbar\":{\"outlinewidth\":0,\"ticks\":\"\"}},\"type\":\"scatterpolar\"}],\"scatterpolargl\":[{\"marker\":{\"colorbar\":{\"outlinewidth\":0,\"ticks\":\"\"}},\"type\":\"scatterpolargl\"}],\"scatterternary\":[{\"marker\":{\"colorbar\":{\"outlinewidth\":0,\"ticks\":\"\"}},\"type\":\"scatterternary\"}],\"surface\":[{\"colorbar\":{\"outlinewidth\":0,\"ticks\":\"\"},\"colorscale\":[[0.0,\"#0d0887\"],[0.1111111111111111,\"#46039f\"],[0.2222222222222222,\"#7201a8\"],[0.3333333333333333,\"#9c179e\"],[0.4444444444444444,\"#bd3786\"],[0.5555555555555556,\"#d8576b\"],[0.6666666666666666,\"#ed7953\"],[0.7777777777777778,\"#fb9f3a\"],[0.8888888888888888,\"#fdca26\"],[1.0,\"#f0f921\"]],\"type\":\"surface\"}],\"table\":[{\"cells\":{\"fill\":{\"color\":\"#EBF0F8\"},\"line\":{\"color\":\"white\"}},\"header\":{\"fill\":{\"color\":\"#C8D4E3\"},\"line\":{\"color\":\"white\"}},\"type\":\"table\"}]},\"layout\":{\"annotationdefaults\":{\"arrowcolor\":\"#2a3f5f\",\"arrowhead\":0,\"arrowwidth\":1},\"autotypenumbers\":\"strict\",\"coloraxis\":{\"colorbar\":{\"outlinewidth\":0,\"ticks\":\"\"}},\"colorscale\":{\"diverging\":[[0,\"#8e0152\"],[0.1,\"#c51b7d\"],[0.2,\"#de77ae\"],[0.3,\"#f1b6da\"],[0.4,\"#fde0ef\"],[0.5,\"#f7f7f7\"],[0.6,\"#e6f5d0\"],[0.7,\"#b8e186\"],[0.8,\"#7fbc41\"],[0.9,\"#4d9221\"],[1,\"#276419\"]],\"sequential\":[[0.0,\"#0d0887\"],[0.1111111111111111,\"#46039f\"],[0.2222222222222222,\"#7201a8\"],[0.3333333333333333,\"#9c179e\"],[0.4444444444444444,\"#bd3786\"],[0.5555555555555556,\"#d8576b\"],[0.6666666666666666,\"#ed7953\"],[0.7777777777777778,\"#fb9f3a\"],[0.8888888888888888,\"#fdca26\"],[1.0,\"#f0f921\"]],\"sequentialminus\":[[0.0,\"#0d0887\"],[0.1111111111111111,\"#46039f\"],[0.2222222222222222,\"#7201a8\"],[0.3333333333333333,\"#9c179e\"],[0.4444444444444444,\"#bd3786\"],[0.5555555555555556,\"#d8576b\"],[0.6666666666666666,\"#ed7953\"],[0.7777777777777778,\"#fb9f3a\"],[0.8888888888888888,\"#fdca26\"],[1.0,\"#f0f921\"]]},\"colorway\":[\"#636efa\",\"#EF553B\",\"#00cc96\",\"#ab63fa\",\"#FFA15A\",\"#19d3f3\",\"#FF6692\",\"#B6E880\",\"#FF97FF\",\"#FECB52\"],\"font\":{\"color\":\"#2a3f5f\"},\"geo\":{\"bgcolor\":\"white\",\"lakecolor\":\"white\",\"landcolor\":\"#E5ECF6\",\"showlakes\":true,\"showland\":true,\"subunitcolor\":\"white\"},\"hoverlabel\":{\"align\":\"left\"},\"hovermode\":\"closest\",\"mapbox\":{\"style\":\"light\"},\"paper_bgcolor\":\"white\",\"plot_bgcolor\":\"#E5ECF6\",\"polar\":{\"angularaxis\":{\"gridcolor\":\"white\",\"linecolor\":\"white\",\"ticks\":\"\"},\"bgcolor\":\"#E5ECF6\",\"radialaxis\":{\"gridcolor\":\"white\",\"linecolor\":\"white\",\"ticks\":\"\"}},\"scene\":{\"xaxis\":{\"backgroundcolor\":\"#E5ECF6\",\"gridcolor\":\"white\",\"gridwidth\":2,\"linecolor\":\"white\",\"showbackground\":true,\"ticks\":\"\",\"zerolinecolor\":\"white\"},\"yaxis\":{\"backgroundcolor\":\"#E5ECF6\",\"gridcolor\":\"white\",\"gridwidth\":2,\"linecolor\":\"white\",\"showbackground\":true,\"ticks\":\"\",\"zerolinecolor\":\"white\"},\"zaxis\":{\"backgroundcolor\":\"#E5ECF6\",\"gridcolor\":\"white\",\"gridwidth\":2,\"linecolor\":\"white\",\"showbackground\":true,\"ticks\":\"\",\"zerolinecolor\":\"white\"}},\"shapedefaults\":{\"line\":{\"color\":\"#2a3f5f\"}},\"ternary\":{\"aaxis\":{\"gridcolor\":\"white\",\"linecolor\":\"white\",\"ticks\":\"\"},\"baxis\":{\"gridcolor\":\"white\",\"linecolor\":\"white\",\"ticks\":\"\"},\"bgcolor\":\"#E5ECF6\",\"caxis\":{\"gridcolor\":\"white\",\"linecolor\":\"white\",\"ticks\":\"\"}},\"title\":{\"x\":0.05},\"xaxis\":{\"automargin\":true,\"gridcolor\":\"white\",\"linecolor\":\"white\",\"ticks\":\"\",\"title\":{\"standoff\":15},\"zerolinecolor\":\"white\",\"zerolinewidth\":2},\"yaxis\":{\"automargin\":true,\"gridcolor\":\"white\",\"linecolor\":\"white\",\"ticks\":\"\",\"title\":{\"standoff\":15},\"zerolinecolor\":\"white\",\"zerolinewidth\":2}}},\"xaxis\":{\"anchor\":\"y\",\"domain\":[0.0,1.0],\"title\":{\"text\":\"x\"}},\"yaxis\":{\"anchor\":\"x\",\"domain\":[0.0,1.0],\"title\":{\"text\":\"y\"}},\"legend\":{\"tracegroupgap\":0},\"margin\":{\"t\":60}},                        {\"responsive\": true}                    ).then(function(){\n",
              "                            \n",
              "var gd = document.getElementById('4593e7ca-2427-4b50-bf52-1436bfcab0e1');\n",
              "var x = new MutationObserver(function (mutations, observer) {{\n",
              "        var display = window.getComputedStyle(gd).display;\n",
              "        if (!display || display === 'none') {{\n",
              "            console.log([gd, 'removed!']);\n",
              "            Plotly.purge(gd);\n",
              "            observer.disconnect();\n",
              "        }}\n",
              "}});\n",
              "\n",
              "// Listen for the removal of the full notebook cells\n",
              "var notebookContainer = gd.closest('#notebook-container');\n",
              "if (notebookContainer) {{\n",
              "    x.observe(notebookContainer, {childList: true});\n",
              "}}\n",
              "\n",
              "// Listen for the clearing of the current output cell\n",
              "var outputEl = gd.closest('.output');\n",
              "if (outputEl) {{\n",
              "    x.observe(outputEl, {childList: true});\n",
              "}}\n",
              "\n",
              "                        })                };                            </script>        </div>\n",
              "</body>\n",
              "</html>"
            ]
          },
          "metadata": {}
        }
      ],
      "source": [
        "# Graficar los embedddings en 2D\n",
        "import plotly.graph_objects as go\n",
        "import plotly.express as px\n",
        "\n",
        "x_vals, y_vals, labels = reduce_dimensions(w2v_model)\n",
        "\n",
        "MAX_WORDS=200\n",
        "fig = px.scatter(x=x_vals[:MAX_WORDS], y=y_vals[:MAX_WORDS], text=labels[:MAX_WORDS])\n",
        "fig.show(renderer=\"colab\") # esto para plotly en colab"
      ]
    },
    {
      "cell_type": "code",
      "execution_count": null,
      "metadata": {
        "id": "o_wKapVDXfnX"
      },
      "outputs": [],
      "source": [
        " "
      ]
    }
  ],
  "metadata": {
    "colab": {
      "collapsed_sections": [],
      "name": "3b - Custom embedding con Gensim",
      "provenance": []
    },
    "kernelspec": {
      "display_name": "Python 3",
      "name": "python3"
    }
  },
  "nbformat": 4,
  "nbformat_minor": 0
}