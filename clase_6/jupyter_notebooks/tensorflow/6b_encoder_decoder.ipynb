{
  "nbformat": 4,
  "nbformat_minor": 0,
  "metadata": {
    "colab": {
      "name": "6b_encoder_decoder.ipynb",
      "provenance": [],
      "collapsed_sections": []
    },
    "kernelspec": {
      "name": "python3",
      "display_name": "Python 3"
    },
    "language_info": {
      "name": "python"
    }
  },
  "cells": [
    {
      "cell_type": "markdown",
      "metadata": {
        "id": "pfa39F4lsLf3"
      },
      "source": [
        "<img src=\"https://github.com/hernancontigiani/ceia_memorias_especializacion/raw/master/Figures/logoFIUBA.jpg\" width=\"500\" align=\"center\">\n",
        "\n",
        "\n",
        "# Procesamiento de lenguaje natural\n",
        "## LSTM encoder-decoder"
      ]
    },
    {
      "cell_type": "markdown",
      "metadata": {
        "id": "ZqO0PRcFsPTe"
      },
      "source": [
        "### 1 - Datos\n",
        "El objecto es utilizar una serie de sucuencias númericas (datos sintéticos) para poner a prueba el uso de las redes LSTM. Este ejemplo se inspiró en otro artículo, lo tienen como referencia en el siguiente link:\\\n",
        "[LINK](https://stackabuse.com/solving-sequence-problems-with-lstm-in-keras-part-2/)"
      ]
    },
    {
      "cell_type": "code",
      "source": [
        "# Usar cuando TF migre a una version >= 2.9\n",
        "# import re\n",
        "\n",
        "# import numpy as np\n",
        "# import pandas as pd\n",
        "\n",
        "# import tensorflow as tf\n",
        "# from keras.preprocessing.text import one_hot\n",
        "# from tensorflow.keras.utils import pad_sequences\n",
        "# from keras.models import Sequential\n",
        "# from keras.layers.core import Activation, Dropout, Dense\n",
        "# from keras.layers import Flatten, LSTM, SimpleRNN\n",
        "# from keras.models import Model\n",
        "# from tensorflow.keras.layers import Embedding\n",
        "# from sklearn.model_selection import train_test_split\n",
        "# from keras.preprocessing.text import Tokenizer\n",
        "# from keras.layers import Input"
      ],
      "metadata": {
        "id": "c4tr8mvoCvJD"
      },
      "execution_count": 1,
      "outputs": []
    },
    {
      "cell_type": "code",
      "metadata": {
        "id": "cq3YXak9sGHd"
      },
      "source": [
        "import re\n",
        "\n",
        "import numpy as np\n",
        "import pandas as pd\n",
        "\n",
        "from keras.preprocessing.text import one_hot\n",
        "from keras.preprocessing.sequence import pad_sequences\n",
        "from keras.models import Sequential\n",
        "from keras.layers.core import Activation, Dropout, Dense\n",
        "from keras.layers import Flatten, LSTM, SimpleRNN\n",
        "from keras.models import Model\n",
        "from keras.layers.embeddings import Embedding\n",
        "from sklearn.model_selection import train_test_split\n",
        "from keras.preprocessing.text import Tokenizer\n",
        "from keras.layers import Input"
      ],
      "execution_count": 2,
      "outputs": []
    },
    {
      "cell_type": "code",
      "metadata": {
        "id": "-9aNLZBDtA5J",
        "outputId": "d4055181-5e14-4d87-f37f-e5f0748f1be8",
        "colab": {
          "base_uri": "https://localhost:8080/"
        }
      },
      "source": [
        "# Generar datos sintéticos\n",
        "X = list()\n",
        "y = list()\n",
        "\n",
        "# En ambos casos \"X\" e \"y\" son vectores de números de 5 en 5\n",
        "X = [x for x in range(5, 301, 5)]\n",
        "y = [x+15 for x in X]\n",
        "\n",
        "print(f\"datos X (len={len(X)}):\", X)\n",
        "print(f\"datos y (len={len(y)}):\", y)"
      ],
      "execution_count": 3,
      "outputs": [
        {
          "output_type": "stream",
          "name": "stdout",
          "text": [
            "datos X (len=60): [5, 10, 15, 20, 25, 30, 35, 40, 45, 50, 55, 60, 65, 70, 75, 80, 85, 90, 95, 100, 105, 110, 115, 120, 125, 130, 135, 140, 145, 150, 155, 160, 165, 170, 175, 180, 185, 190, 195, 200, 205, 210, 215, 220, 225, 230, 235, 240, 245, 250, 255, 260, 265, 270, 275, 280, 285, 290, 295, 300]\n",
            "datos y (len=60): [20, 25, 30, 35, 40, 45, 50, 55, 60, 65, 70, 75, 80, 85, 90, 95, 100, 105, 110, 115, 120, 125, 130, 135, 140, 145, 150, 155, 160, 165, 170, 175, 180, 185, 190, 195, 200, 205, 210, 215, 220, 225, 230, 235, 240, 245, 250, 255, 260, 265, 270, 275, 280, 285, 290, 295, 300, 305, 310, 315]\n"
          ]
        }
      ]
    },
    {
      "cell_type": "code",
      "metadata": {
        "id": "5ACkrI0GtEAM",
        "outputId": "85d2a781-b49d-4e44-e826-b80f0ca101f6",
        "colab": {
          "base_uri": "https://localhost:8080/"
        }
      },
      "source": [
        "# Se desea agrupar los datos de a 3 elementos\n",
        "X = np.array(X).reshape(len(X)//3, 3, 1)\n",
        "y = np.array(y).reshape(len(y)//3, 3, 1)\n",
        "print(\"datos X[0:2]:\", X[0:2])\n",
        "print(\"datos y[0:2]:\", y[0:2])"
      ],
      "execution_count": 4,
      "outputs": [
        {
          "output_type": "stream",
          "name": "stdout",
          "text": [
            "datos X[0:2]: [[[ 5]\n",
            "  [10]\n",
            "  [15]]\n",
            "\n",
            " [[20]\n",
            "  [25]\n",
            "  [30]]]\n",
            "datos y[0:2]: [[[20]\n",
            "  [25]\n",
            "  [30]]\n",
            "\n",
            " [[35]\n",
            "  [40]\n",
            "  [45]]]\n"
          ]
        }
      ]
    },
    {
      "cell_type": "code",
      "metadata": {
        "id": "ajykLcJ8tFfN",
        "outputId": "d5378ad7-5cbd-4dff-cead-b43e52917b56",
        "colab": {
          "base_uri": "https://localhost:8080/"
        }
      },
      "source": [
        "# Verificamos que la secuencia enetrada es igual a la secuencia de salida\n",
        "# en cuanto a dimensiones\n",
        "# Tendremos:\n",
        "#  --> veinte grupos de datos (rows) (20)\n",
        "#  --> cada grupo compuesto por tres elementos (3)\n",
        "#  --> cada elemento representado en una sola dimension (1)\n",
        "print(\"X shape:\", X.shape)\n",
        "print(\"y shape:\", y.shape)"
      ],
      "execution_count": 5,
      "outputs": [
        {
          "output_type": "stream",
          "name": "stdout",
          "text": [
            "X shape: (20, 3, 1)\n",
            "y shape: (20, 3, 1)\n"
          ]
        }
      ]
    },
    {
      "cell_type": "markdown",
      "metadata": {
        "id": "LZz9Zsvy5ilc"
      },
      "source": [
        "### 2 - Preprocesamiento"
      ]
    },
    {
      "cell_type": "code",
      "source": [
        "from sklearn import preprocessing\n",
        "# Armar el \"courpus\" de números\n",
        "data = np.append(X, y)\n",
        "\n",
        "# Identificar el vocabualario del corpus (todos los números únicos)\n",
        "labels = list(np.unique(data))\n",
        "\n",
        "# Al vocabulario (labels) agregarle el token de inicio de secuencia\n",
        "# Se utiliza el número \"0\" para el <sos>, aprovechando que el \"0\"\n",
        "# no se encuentra en el vocabulario\n",
        "labels = [0] + labels # <sos> + vocabulario\n",
        "\n",
        "label_encoder = preprocessing.LabelEncoder()\n",
        "label_encoder.fit(labels)\n",
        "label_encoder.classes_"
      ],
      "metadata": {
        "id": "nCTu6NElI1ge",
        "outputId": "febb2090-467c-4e71-b56f-8cd5e5c09c3d",
        "colab": {
          "base_uri": "https://localhost:8080/"
        }
      },
      "execution_count": 6,
      "outputs": [
        {
          "output_type": "execute_result",
          "data": {
            "text/plain": [
              "array([  0,   5,  10,  15,  20,  25,  30,  35,  40,  45,  50,  55,  60,\n",
              "        65,  70,  75,  80,  85,  90,  95, 100, 105, 110, 115, 120, 125,\n",
              "       130, 135, 140, 145, 150, 155, 160, 165, 170, 175, 180, 185, 190,\n",
              "       195, 200, 205, 210, 215, 220, 225, 230, 235, 240, 245, 250, 255,\n",
              "       260, 265, 270, 275, 280, 285, 290, 295, 300, 305, 310, 315])"
            ]
          },
          "metadata": {},
          "execution_count": 6
        }
      ]
    },
    {
      "cell_type": "code",
      "metadata": {
        "id": "J86H4qb6NEQp"
      },
      "source": [
        "from keras.utils.np_utils import to_categorical\n",
        "\n",
        "# Preparar datos para consumir por la layers LSTM\n",
        "# Por cada dato de X e Y se genera su contraparte oneHotEncoding\n",
        "# X1 equivale a X, es la secuencia de entrada\n",
        "# X2 equivale a y sin el ultimo elemento, equivale a la secuenca \"estado anterior\"\n",
        "# target equivale a Y como OneHotEncoding, la prediccion completa con el ultimo elemento\n",
        "\n",
        "def get_dataset(X, Y, label_encoder):\n",
        "\n",
        "    cardinality = len(label_encoder.classes_)\n",
        "    print(\"Number of features/cardinality:\", cardinality)\n",
        "\n",
        "    X1, X2, target = list(), list(), list()\n",
        "    for x, y in zip(X, Y):\n",
        "        input = list(label_encoder.transform(x.reshape(-1)))\n",
        "        output = list(label_encoder.transform(y.reshape(-1)))\n",
        "        # Crear la entrada del \"ultimo estado\" de salida\n",
        "        # que es la salida sin el ultimo elemento, que es el que el modelo\n",
        "        # debe predecir\n",
        "        output_in = [0] + output[:-1]\n",
        "\n",
        "        # transformar\n",
        "        input_encoded = to_categorical(input, num_classes=cardinality)\n",
        "        output_encoded = to_categorical(output, num_classes=cardinality)\n",
        "        output_in_encoded = to_categorical(output_in, num_classes=cardinality)\n",
        "        \n",
        "        # almacenar\n",
        "        X1.append(input_encoded)\n",
        "        X2.append(output_in_encoded)\n",
        "        target.append(output_encoded)\n",
        "    return np.array(X1), np.array(X2), np.array(target)"
      ],
      "execution_count": 7,
      "outputs": []
    },
    {
      "cell_type": "code",
      "metadata": {
        "id": "pO2sS3ntkeEf",
        "outputId": "e3a9b07c-7f5a-45d2-e47b-0e4bcc61dadb",
        "colab": {
          "base_uri": "https://localhost:8080/"
        }
      },
      "source": [
        "X1, X2, target = get_dataset(X, y, label_encoder)"
      ],
      "execution_count": 8,
      "outputs": [
        {
          "output_type": "stream",
          "name": "stdout",
          "text": [
            "Number of features/cardinality: 64\n"
          ]
        }
      ]
    },
    {
      "cell_type": "markdown",
      "source": [
        "El oneHotEncoding tiene una diemsión de -> vocabulario + tokens_especialiciales:\n",
        "- 63 números únicos (vocab)\n",
        "- 1 token especial (sos como id=0)"
      ],
      "metadata": {
        "id": "Qu4pTKAm8UWQ"
      }
    },
    {
      "cell_type": "code",
      "metadata": {
        "id": "XXEI1Rfkgngt",
        "outputId": "b9eb3396-b677-4cee-d438-3cbe67c6a20d",
        "colab": {
          "base_uri": "https://localhost:8080/"
        }
      },
      "source": [
        "# El vector de salida tiene 3 dimensiones:\n",
        "# primera dimension es la cantidad de \"rows\" del dataset\n",
        "# segunda dimension es el tamaño de la sequencia de entrada/salida\n",
        "# tercera dimensión es la dimensionalidad del vector oneHotEncoding (cardinality)\n",
        "\n",
        "print(\"X1 shape:\", X1.shape)\n",
        "print(\"X2 shape:\", X2.shape)\n",
        "print(\"target shape:\", target.shape)\n",
        "\n",
        "in_features = X1.shape[-1]\n",
        "output_features = target.shape[-1]\n",
        "print(\"Number of input_features\", in_features)\n",
        "print(\"Number of output_features\", output_features)"
      ],
      "execution_count": 9,
      "outputs": [
        {
          "output_type": "stream",
          "name": "stdout",
          "text": [
            "X1 shape: (20, 3, 64)\n",
            "X2 shape: (20, 3, 64)\n",
            "target shape: (20, 3, 64)\n",
            "Number of input_features 64\n",
            "Number of output_features 64\n"
          ]
        }
      ]
    },
    {
      "cell_type": "markdown",
      "metadata": {
        "id": "3vKbhjtIwPgM"
      },
      "source": [
        "### 3 - Entrenar el modelo"
      ]
    },
    {
      "cell_type": "code",
      "metadata": {
        "id": "t_urD1qO2kOx"
      },
      "source": [
        "# El código a continuación se puede utilizar para cualquier encoder-decoder\n",
        "# que se desee construir con LSTM en el futuro\n",
        "# y es posiblñe cambiar la layer LSTM por otra (CNN, Attention, etc)\n",
        "# Fuente:\n",
        "# https://blog.keras.io/a-ten-minute-introduction-to-sequence-to-sequence-learning-in-keras.html\n",
        "# https://machinelearningmastery.com/develop-encoder-decoder-model-sequence-sequence-prediction-keras/\n",
        "\n",
        "from keras.models import Model\n",
        "from keras.layers import Input, LSTM, Dense\n",
        "\n",
        "# returns train, inference_encoder and inference_decoder models\n",
        "def define_models(n_input, n_output, n_units):\n",
        "    '''\n",
        "    Args:\n",
        "        n_input: The cardinality of the input sequence, e.g. number of features, words, or characters for each time step.\n",
        "        n_output: The cardinality of the output sequence, e.g. number of features, words, or characters for each time step.\n",
        "        n_units: The number of cells to create in the encoder and decoder models, e.g. 128 or 256.\n",
        "    output:\n",
        "        train: Model that can be trained given source, target, and shifted target sequences.\n",
        "        inference_encoder: Encoder model used when making a prediction for a new source sequence.\n",
        "        inference_decoder Decoder model use when making a prediction for a new source sequence.\n",
        "    '''\n",
        "    # define training encoder\n",
        "    encoder_inputs = Input(shape=(None, n_input))\n",
        "    encoder = LSTM(n_units, return_state=True)\n",
        "    encoder_outputs, state_h, state_c = encoder(encoder_inputs)\n",
        "    encoder_states = [state_h, state_c]\n",
        "\n",
        "    # define training decoder\n",
        "    decoder_inputs = Input(shape=(None, n_output))\n",
        "    decoder_lstm = LSTM(n_units, return_sequences=True, return_state=True)\n",
        "    decoder_outputs, _, _ = decoder_lstm(decoder_inputs, initial_state=encoder_states)\n",
        "    decoder_dense = Dense(n_output, activation='softmax')\n",
        "    decoder_outputs = decoder_dense(decoder_outputs)\n",
        "    model = Model([encoder_inputs, decoder_inputs], decoder_outputs)\n",
        "\n",
        "    # define inference encoder\n",
        "    encoder_model = Model(encoder_inputs, encoder_states)\n",
        "\n",
        "    # define inference decoder\n",
        "    decoder_state_input_h = Input(shape=(n_units,))\n",
        "    decoder_state_input_c = Input(shape=(n_units,))\n",
        "    decoder_states_inputs = [decoder_state_input_h, decoder_state_input_c]\n",
        "    decoder_outputs, state_h, state_c = decoder_lstm(decoder_inputs, initial_state=decoder_states_inputs)\n",
        "    decoder_states = [state_h, state_c]\n",
        "    decoder_outputs = decoder_dense(decoder_outputs)\n",
        "    decoder_model = Model([decoder_inputs] + decoder_states_inputs, [decoder_outputs] + decoder_states)\n",
        "    # return all models\n",
        "    return model, encoder_model, decoder_model"
      ],
      "execution_count": 10,
      "outputs": []
    },
    {
      "cell_type": "code",
      "metadata": {
        "id": "uHtV5z_wGOwj",
        "outputId": "8ce95f13-fc3c-421a-f2dc-76c19290ddfb",
        "colab": {
          "base_uri": "https://localhost:8080/"
        }
      },
      "source": [
        "model, encoder_model, decoder_model = define_models(in_features, output_features, n_units=128)\n",
        "\n",
        "model.compile(loss='mse', optimizer=\"Adam\")\n",
        "model.summary()"
      ],
      "execution_count": 11,
      "outputs": [
        {
          "output_type": "stream",
          "name": "stdout",
          "text": [
            "Model: \"model\"\n",
            "__________________________________________________________________________________________________\n",
            " Layer (type)                   Output Shape         Param #     Connected to                     \n",
            "==================================================================================================\n",
            " input_1 (InputLayer)           [(None, None, 64)]   0           []                               \n",
            "                                                                                                  \n",
            " input_2 (InputLayer)           [(None, None, 64)]   0           []                               \n",
            "                                                                                                  \n",
            " lstm (LSTM)                    [(None, 128),        98816       ['input_1[0][0]']                \n",
            "                                 (None, 128),                                                     \n",
            "                                 (None, 128)]                                                     \n",
            "                                                                                                  \n",
            " lstm_1 (LSTM)                  [(None, None, 128),  98816       ['input_2[0][0]',                \n",
            "                                 (None, 128),                     'lstm[0][1]',                   \n",
            "                                 (None, 128)]                     'lstm[0][2]']                   \n",
            "                                                                                                  \n",
            " dense (Dense)                  (None, None, 64)     8256        ['lstm_1[0][0]']                 \n",
            "                                                                                                  \n",
            "==================================================================================================\n",
            "Total params: 205,888\n",
            "Trainable params: 205,888\n",
            "Non-trainable params: 0\n",
            "__________________________________________________________________________________________________\n"
          ]
        }
      ]
    },
    {
      "cell_type": "markdown",
      "source": [
        "Conclusiones hasta ahora sobre el modelo:\n",
        "- Nunca se especificó en la layer de entrada cuantos elementos recibirá el sistema, es por eso que el modelo se creó para aceptar una cantidad dinámica de batch y size de elementos de 64 dimensiones --> None, None, 64\n",
        "- El primer None corresponde al batch dinámico\n",
        "- El segundo None corresponde al la cantidad de elementos dinámico\n",
        "\n",
        "¿Cómo sabe cuantos elementos deberá esperar el sistema?\n",
        "- En este caso siempre entregaremos 3 elementos al encoder y esperaremos 3 elementos del dencoder.\n",
        "- En un siguiente ejemplo de seq2seq utilizaremos tokens especiales para ello."
      ],
      "metadata": {
        "id": "v8PlXsXeuGCT"
      }
    },
    {
      "cell_type": "code",
      "metadata": {
        "id": "2ljAyiBbG10U",
        "outputId": "34675d5f-5946-40f7-87c8-1b03eeb60045",
        "colab": {
          "base_uri": "https://localhost:8080/",
          "height": 421
        }
      },
      "source": [
        "# Modelo completo (encoder+decoder) para poder entrenar\n",
        "from keras.utils.vis_utils import plot_model\n",
        "plot_model(model, to_file='model_plot.png', show_shapes=True, show_layer_names=True)"
      ],
      "execution_count": 12,
      "outputs": [
        {
          "output_type": "execute_result",
          "data": {
            "image/png": "[encoded data removed]",
            "text/plain": [
              "<IPython.core.display.Image object>"
            ]
          },
          "metadata": {},
          "execution_count": 12
        }
      ]
    },
    {
      "cell_type": "code",
      "metadata": {
        "id": "s1Wc1pnhIKJ6",
        "outputId": "203c7fb9-8498-4954-cf50-347840d4862b",
        "colab": {
          "base_uri": "https://localhost:8080/",
          "height": 200
        }
      },
      "source": [
        "# Modelo solo encoder\n",
        "from keras.utils.vis_utils import plot_model\n",
        "plot_model(encoder_model, to_file='encoder_plot.png', show_shapes=True, show_layer_names=True)"
      ],
      "execution_count": 13,
      "outputs": [
        {
          "output_type": "execute_result",
          "data": {
            "image/png": "[encoded data removed]",
            "text/plain": [
              "<IPython.core.display.Image object>"
            ]
          },
          "metadata": {},
          "execution_count": 13
        }
      ]
    },
    {
      "cell_type": "code",
      "metadata": {
        "id": "L_xanat4INez",
        "outputId": "2af0df6c-97f4-4968-fcc4-346eaf777419",
        "colab": {
          "base_uri": "https://localhost:8080/",
          "height": 311
        }
      },
      "source": [
        "# Modelo solo decoder (para realizar inferencia)\n",
        "from keras.utils.vis_utils import plot_model\n",
        "plot_model(decoder_model, to_file='decoder_plot.png', show_shapes=True, show_layer_names=True)"
      ],
      "execution_count": 14,
      "outputs": [
        {
          "output_type": "execute_result",
          "data": {
            "image/png": "[encoded data removed]",
            "text/plain": [
              "<IPython.core.display.Image object>"
            ]
          },
          "metadata": {},
          "execution_count": 14
        }
      ]
    },
    {
      "cell_type": "code",
      "metadata": {
        "id": "VnlIx1Vezjwc",
        "outputId": "acb016d3-336a-4d30-a2bd-9d79f9ae53da",
        "colab": {
          "base_uri": "https://localhost:8080/"
        }
      },
      "source": [
        "hist = model.fit([X1, X2], target, epochs=150, validation_split=0.2, batch_size=5)"
      ],
      "execution_count": 15,
      "outputs": [
        {
          "output_type": "stream",
          "name": "stdout",
          "text": [
            "Epoch 1/150\n",
            "4/4 [==============================] - 4s 278ms/step - loss: 0.0154 - val_loss: 0.0154\n",
            "Epoch 2/150\n",
            "4/4 [==============================] - 0s 18ms/step - loss: 0.0154 - val_loss: 0.0154\n",
            "Epoch 3/150\n",
            "4/4 [==============================] - 0s 13ms/step - loss: 0.0154 - val_loss: 0.0154\n",
            "Epoch 4/150\n",
            "4/4 [==============================] - 0s 12ms/step - loss: 0.0154 - val_loss: 0.0154\n",
            "Epoch 5/150\n",
            "4/4 [==============================] - 0s 19ms/step - loss: 0.0154 - val_loss: 0.0154\n",
            "Epoch 6/150\n",
            "4/4 [==============================] - 0s 14ms/step - loss: 0.0154 - val_loss: 0.0154\n",
            "Epoch 7/150\n",
            "4/4 [==============================] - 0s 12ms/step - loss: 0.0154 - val_loss: 0.0154\n",
            "Epoch 8/150\n",
            "4/4 [==============================] - 0s 12ms/step - loss: 0.0154 - val_loss: 0.0154\n",
            "Epoch 9/150\n",
            "4/4 [==============================] - 0s 15ms/step - loss: 0.0154 - val_loss: 0.0154\n",
            "Epoch 10/150\n",
            "4/4 [==============================] - 0s 12ms/step - loss: 0.0153 - val_loss: 0.0154\n",
            "Epoch 11/150\n",
            "4/4 [==============================] - 0s 14ms/step - loss: 0.0153 - val_loss: 0.0154\n",
            "Epoch 12/150\n",
            "4/4 [==============================] - 0s 13ms/step - loss: 0.0153 - val_loss: 0.0154\n",
            "Epoch 13/150\n",
            "4/4 [==============================] - 0s 13ms/step - loss: 0.0153 - val_loss: 0.0154\n",
            "Epoch 14/150\n",
            "4/4 [==============================] - 0s 13ms/step - loss: 0.0153 - val_loss: 0.0154\n",
            "Epoch 15/150\n",
            "4/4 [==============================] - 0s 13ms/step - loss: 0.0153 - val_loss: 0.0154\n",
            "Epoch 16/150\n",
            "4/4 [==============================] - 0s 13ms/step - loss: 0.0153 - val_loss: 0.0154\n",
            "Epoch 17/150\n",
            "4/4 [==============================] - 0s 15ms/step - loss: 0.0153 - val_loss: 0.0154\n",
            "Epoch 18/150\n",
            "4/4 [==============================] - 0s 14ms/step - loss: 0.0153 - val_loss: 0.0154\n",
            "Epoch 19/150\n",
            "4/4 [==============================] - 0s 15ms/step - loss: 0.0153 - val_loss: 0.0154\n",
            "Epoch 20/150\n",
            "4/4 [==============================] - 0s 19ms/step - loss: 0.0153 - val_loss: 0.0154\n",
            "Epoch 21/150\n",
            "4/4 [==============================] - 0s 13ms/step - loss: 0.0153 - val_loss: 0.0154\n",
            "Epoch 22/150\n",
            "4/4 [==============================] - 0s 13ms/step - loss: 0.0153 - val_loss: 0.0154\n",
            "Epoch 23/150\n",
            "4/4 [==============================] - 0s 12ms/step - loss: 0.0153 - val_loss: 0.0154\n",
            "Epoch 24/150\n",
            "4/4 [==============================] - 0s 12ms/step - loss: 0.0153 - val_loss: 0.0155\n",
            "Epoch 25/150\n",
            "4/4 [==============================] - 0s 19ms/step - loss: 0.0152 - val_loss: 0.0155\n",
            "Epoch 26/150\n",
            "4/4 [==============================] - 0s 13ms/step - loss: 0.0152 - val_loss: 0.0155\n",
            "Epoch 27/150\n",
            "4/4 [==============================] - 0s 15ms/step - loss: 0.0152 - val_loss: 0.0155\n",
            "Epoch 28/150\n",
            "4/4 [==============================] - 0s 12ms/step - loss: 0.0152 - val_loss: 0.0155\n",
            "Epoch 29/150\n",
            "4/4 [==============================] - 0s 14ms/step - loss: 0.0152 - val_loss: 0.0155\n",
            "Epoch 30/150\n",
            "4/4 [==============================] - 0s 14ms/step - loss: 0.0152 - val_loss: 0.0155\n",
            "Epoch 31/150\n",
            "4/4 [==============================] - 0s 13ms/step - loss: 0.0152 - val_loss: 0.0155\n",
            "Epoch 32/150\n",
            "4/4 [==============================] - 0s 19ms/step - loss: 0.0151 - val_loss: 0.0155\n",
            "Epoch 33/150\n",
            "4/4 [==============================] - 0s 13ms/step - loss: 0.0151 - val_loss: 0.0155\n",
            "Epoch 34/150\n",
            "4/4 [==============================] - 0s 13ms/step - loss: 0.0151 - val_loss: 0.0155\n",
            "Epoch 35/150\n",
            "4/4 [==============================] - 0s 13ms/step - loss: 0.0150 - val_loss: 0.0156\n",
            "Epoch 36/150\n",
            "4/4 [==============================] - 0s 18ms/step - loss: 0.0150 - val_loss: 0.0156\n",
            "Epoch 37/150\n",
            "4/4 [==============================] - 0s 13ms/step - loss: 0.0149 - val_loss: 0.0156\n",
            "Epoch 38/150\n",
            "4/4 [==============================] - 0s 13ms/step - loss: 0.0148 - val_loss: 0.0156\n",
            "Epoch 39/150\n",
            "4/4 [==============================] - 0s 15ms/step - loss: 0.0147 - val_loss: 0.0157\n",
            "Epoch 40/150\n",
            "4/4 [==============================] - 0s 15ms/step - loss: 0.0145 - val_loss: 0.0157\n",
            "Epoch 41/150\n",
            "4/4 [==============================] - 0s 19ms/step - loss: 0.0142 - val_loss: 0.0158\n",
            "Epoch 42/150\n",
            "4/4 [==============================] - 0s 13ms/step - loss: 0.0138 - val_loss: 0.0158\n",
            "Epoch 43/150\n",
            "4/4 [==============================] - 0s 12ms/step - loss: 0.0135 - val_loss: 0.0159\n",
            "Epoch 44/150\n",
            "4/4 [==============================] - 0s 15ms/step - loss: 0.0131 - val_loss: 0.0159\n",
            "Epoch 45/150\n",
            "4/4 [==============================] - 0s 12ms/step - loss: 0.0124 - val_loss: 0.0159\n",
            "Epoch 46/150\n",
            "4/4 [==============================] - 0s 12ms/step - loss: 0.0117 - val_loss: 0.0159\n",
            "Epoch 47/150\n",
            "4/4 [==============================] - 0s 14ms/step - loss: 0.0111 - val_loss: 0.0159\n",
            "Epoch 48/150\n",
            "4/4 [==============================] - 0s 12ms/step - loss: 0.0105 - val_loss: 0.0159\n",
            "Epoch 49/150\n",
            "4/4 [==============================] - 0s 12ms/step - loss: 0.0099 - val_loss: 0.0160\n",
            "Epoch 50/150\n",
            "4/4 [==============================] - 0s 12ms/step - loss: 0.0092 - val_loss: 0.0160\n",
            "Epoch 51/150\n",
            "4/4 [==============================] - 0s 12ms/step - loss: 0.0085 - val_loss: 0.0161\n",
            "Epoch 52/150\n",
            "4/4 [==============================] - 0s 12ms/step - loss: 0.0078 - val_loss: 0.0161\n",
            "Epoch 53/150\n",
            "4/4 [==============================] - 0s 13ms/step - loss: 0.0072 - val_loss: 0.0161\n",
            "Epoch 54/150\n",
            "4/4 [==============================] - 0s 14ms/step - loss: 0.0065 - val_loss: 0.0162\n",
            "Epoch 55/150\n",
            "4/4 [==============================] - 0s 14ms/step - loss: 0.0057 - val_loss: 0.0163\n",
            "Epoch 56/150\n",
            "4/4 [==============================] - 0s 13ms/step - loss: 0.0048 - val_loss: 0.0163\n",
            "Epoch 57/150\n",
            "4/4 [==============================] - 0s 13ms/step - loss: 0.0040 - val_loss: 0.0163\n",
            "Epoch 58/150\n",
            "4/4 [==============================] - 0s 14ms/step - loss: 0.0033 - val_loss: 0.0164\n",
            "Epoch 59/150\n",
            "4/4 [==============================] - 0s 13ms/step - loss: 0.0028 - val_loss: 0.0165\n",
            "Epoch 60/150\n",
            "4/4 [==============================] - 0s 12ms/step - loss: 0.0022 - val_loss: 0.0165\n",
            "Epoch 61/150\n",
            "4/4 [==============================] - 0s 13ms/step - loss: 0.0017 - val_loss: 0.0166\n",
            "Epoch 62/150\n",
            "4/4 [==============================] - 0s 13ms/step - loss: 0.0012 - val_loss: 0.0167\n",
            "Epoch 63/150\n",
            "4/4 [==============================] - 0s 15ms/step - loss: 9.3222e-04 - val_loss: 0.0167\n",
            "Epoch 64/150\n",
            "4/4 [==============================] - 0s 13ms/step - loss: 7.2974e-04 - val_loss: 0.0167\n",
            "Epoch 65/150\n",
            "4/4 [==============================] - 0s 13ms/step - loss: 6.6947e-04 - val_loss: 0.0167\n",
            "Epoch 66/150\n",
            "4/4 [==============================] - 0s 14ms/step - loss: 4.7585e-04 - val_loss: 0.0167\n",
            "Epoch 67/150\n",
            "4/4 [==============================] - 0s 12ms/step - loss: 4.1677e-04 - val_loss: 0.0168\n",
            "Epoch 68/150\n",
            "4/4 [==============================] - 0s 12ms/step - loss: 3.7532e-04 - val_loss: 0.0169\n",
            "Epoch 69/150\n",
            "4/4 [==============================] - 0s 14ms/step - loss: 3.1421e-04 - val_loss: 0.0169\n",
            "Epoch 70/150\n",
            "4/4 [==============================] - 0s 13ms/step - loss: 2.5424e-04 - val_loss: 0.0168\n",
            "Epoch 71/150\n",
            "4/4 [==============================] - 0s 13ms/step - loss: 2.1166e-04 - val_loss: 0.0168\n",
            "Epoch 72/150\n",
            "4/4 [==============================] - 0s 13ms/step - loss: 1.8918e-04 - val_loss: 0.0168\n",
            "Epoch 73/150\n",
            "4/4 [==============================] - 0s 12ms/step - loss: 1.7280e-04 - val_loss: 0.0168\n",
            "Epoch 74/150\n",
            "4/4 [==============================] - 0s 12ms/step - loss: 1.5618e-04 - val_loss: 0.0168\n",
            "Epoch 75/150\n",
            "4/4 [==============================] - 0s 12ms/step - loss: 1.4201e-04 - val_loss: 0.0169\n",
            "Epoch 76/150\n",
            "4/4 [==============================] - 0s 13ms/step - loss: 1.3045e-04 - val_loss: 0.0169\n",
            "Epoch 77/150\n",
            "4/4 [==============================] - 0s 14ms/step - loss: 1.2233e-04 - val_loss: 0.0169\n",
            "Epoch 78/150\n",
            "4/4 [==============================] - 0s 12ms/step - loss: 1.1449e-04 - val_loss: 0.0169\n",
            "Epoch 79/150\n",
            "4/4 [==============================] - 0s 12ms/step - loss: 1.0672e-04 - val_loss: 0.0169\n",
            "Epoch 80/150\n",
            "4/4 [==============================] - 0s 12ms/step - loss: 1.0057e-04 - val_loss: 0.0169\n",
            "Epoch 81/150\n",
            "4/4 [==============================] - 0s 12ms/step - loss: 9.4521e-05 - val_loss: 0.0169\n",
            "Epoch 82/150\n",
            "4/4 [==============================] - 0s 16ms/step - loss: 8.9932e-05 - val_loss: 0.0169\n",
            "Epoch 83/150\n",
            "4/4 [==============================] - 0s 12ms/step - loss: 8.5671e-05 - val_loss: 0.0169\n",
            "Epoch 84/150\n",
            "4/4 [==============================] - 0s 13ms/step - loss: 8.1529e-05 - val_loss: 0.0170\n",
            "Epoch 85/150\n",
            "4/4 [==============================] - 0s 12ms/step - loss: 7.7954e-05 - val_loss: 0.0170\n",
            "Epoch 86/150\n",
            "4/4 [==============================] - 0s 13ms/step - loss: 7.4706e-05 - val_loss: 0.0170\n",
            "Epoch 87/150\n",
            "4/4 [==============================] - 0s 15ms/step - loss: 7.1544e-05 - val_loss: 0.0170\n",
            "Epoch 88/150\n",
            "4/4 [==============================] - 0s 12ms/step - loss: 6.8848e-05 - val_loss: 0.0170\n",
            "Epoch 89/150\n",
            "4/4 [==============================] - 0s 12ms/step - loss: 6.6206e-05 - val_loss: 0.0170\n",
            "Epoch 90/150\n",
            "4/4 [==============================] - 0s 13ms/step - loss: 6.3528e-05 - val_loss: 0.0170\n",
            "Epoch 91/150\n",
            "4/4 [==============================] - 0s 14ms/step - loss: 6.1135e-05 - val_loss: 0.0170\n",
            "Epoch 92/150\n",
            "4/4 [==============================] - 0s 13ms/step - loss: 5.8856e-05 - val_loss: 0.0170\n",
            "Epoch 93/150\n",
            "4/4 [==============================] - 0s 12ms/step - loss: 5.6611e-05 - val_loss: 0.0170\n",
            "Epoch 94/150\n",
            "4/4 [==============================] - 0s 30ms/step - loss: 5.4659e-05 - val_loss: 0.0171\n",
            "Epoch 95/150\n",
            "4/4 [==============================] - 0s 24ms/step - loss: 5.2683e-05 - val_loss: 0.0171\n",
            "Epoch 96/150\n",
            "4/4 [==============================] - 0s 19ms/step - loss: 5.0946e-05 - val_loss: 0.0171\n",
            "Epoch 97/150\n",
            "4/4 [==============================] - 0s 22ms/step - loss: 4.9310e-05 - val_loss: 0.0171\n",
            "Epoch 98/150\n",
            "4/4 [==============================] - 0s 38ms/step - loss: 4.7707e-05 - val_loss: 0.0171\n",
            "Epoch 99/150\n",
            "4/4 [==============================] - 0s 26ms/step - loss: 4.6210e-05 - val_loss: 0.0171\n",
            "Epoch 100/150\n",
            "4/4 [==============================] - 0s 22ms/step - loss: 4.4738e-05 - val_loss: 0.0171\n",
            "Epoch 101/150\n",
            "4/4 [==============================] - 0s 22ms/step - loss: 4.3489e-05 - val_loss: 0.0171\n",
            "Epoch 102/150\n",
            "4/4 [==============================] - 0s 26ms/step - loss: 4.2171e-05 - val_loss: 0.0171\n",
            "Epoch 103/150\n",
            "4/4 [==============================] - 0s 49ms/step - loss: 4.1047e-05 - val_loss: 0.0171\n",
            "Epoch 104/150\n",
            "4/4 [==============================] - 0s 29ms/step - loss: 3.9907e-05 - val_loss: 0.0171\n",
            "Epoch 105/150\n",
            "4/4 [==============================] - 0s 22ms/step - loss: 3.8839e-05 - val_loss: 0.0171\n",
            "Epoch 106/150\n",
            "4/4 [==============================] - 0s 28ms/step - loss: 3.7740e-05 - val_loss: 0.0171\n",
            "Epoch 107/150\n",
            "4/4 [==============================] - 0s 27ms/step - loss: 3.6717e-05 - val_loss: 0.0171\n",
            "Epoch 108/150\n",
            "4/4 [==============================] - 0s 27ms/step - loss: 3.5799e-05 - val_loss: 0.0171\n",
            "Epoch 109/150\n",
            "4/4 [==============================] - 0s 38ms/step - loss: 3.4916e-05 - val_loss: 0.0171\n",
            "Epoch 110/150\n",
            "4/4 [==============================] - 0s 36ms/step - loss: 3.3997e-05 - val_loss: 0.0171\n",
            "Epoch 111/150\n",
            "4/4 [==============================] - 0s 38ms/step - loss: 3.3157e-05 - val_loss: 0.0172\n",
            "Epoch 112/150\n",
            "4/4 [==============================] - 0s 30ms/step - loss: 3.2328e-05 - val_loss: 0.0172\n",
            "Epoch 113/150\n",
            "4/4 [==============================] - 0s 28ms/step - loss: 3.1572e-05 - val_loss: 0.0172\n",
            "Epoch 114/150\n",
            "4/4 [==============================] - 0s 48ms/step - loss: 3.0836e-05 - val_loss: 0.0172\n",
            "Epoch 115/150\n",
            "4/4 [==============================] - 0s 30ms/step - loss: 3.0097e-05 - val_loss: 0.0172\n",
            "Epoch 116/150\n",
            "4/4 [==============================] - 0s 31ms/step - loss: 2.9442e-05 - val_loss: 0.0172\n",
            "Epoch 117/150\n",
            "4/4 [==============================] - 0s 29ms/step - loss: 2.8770e-05 - val_loss: 0.0172\n",
            "Epoch 118/150\n",
            "4/4 [==============================] - 0s 37ms/step - loss: 2.8059e-05 - val_loss: 0.0172\n",
            "Epoch 119/150\n",
            "4/4 [==============================] - 0s 24ms/step - loss: 2.7476e-05 - val_loss: 0.0172\n",
            "Epoch 120/150\n",
            "4/4 [==============================] - 0s 20ms/step - loss: 2.6849e-05 - val_loss: 0.0172\n",
            "Epoch 121/150\n",
            "4/4 [==============================] - 0s 21ms/step - loss: 2.6281e-05 - val_loss: 0.0172\n",
            "Epoch 122/150\n",
            "4/4 [==============================] - 0s 27ms/step - loss: 2.5703e-05 - val_loss: 0.0172\n",
            "Epoch 123/150\n",
            "4/4 [==============================] - 0s 19ms/step - loss: 2.5173e-05 - val_loss: 0.0172\n",
            "Epoch 124/150\n",
            "4/4 [==============================] - 0s 21ms/step - loss: 2.4636e-05 - val_loss: 0.0172\n",
            "Epoch 125/150\n",
            "4/4 [==============================] - 0s 25ms/step - loss: 2.4132e-05 - val_loss: 0.0172\n",
            "Epoch 126/150\n",
            "4/4 [==============================] - 0s 24ms/step - loss: 2.3653e-05 - val_loss: 0.0172\n",
            "Epoch 127/150\n",
            "4/4 [==============================] - 0s 24ms/step - loss: 2.3198e-05 - val_loss: 0.0172\n",
            "Epoch 128/150\n",
            "4/4 [==============================] - 0s 20ms/step - loss: 2.2761e-05 - val_loss: 0.0172\n",
            "Epoch 129/150\n",
            "4/4 [==============================] - 0s 21ms/step - loss: 2.2318e-05 - val_loss: 0.0172\n",
            "Epoch 130/150\n",
            "4/4 [==============================] - 0s 33ms/step - loss: 2.1919e-05 - val_loss: 0.0173\n",
            "Epoch 131/150\n",
            "4/4 [==============================] - 0s 17ms/step - loss: 2.1530e-05 - val_loss: 0.0173\n",
            "Epoch 132/150\n",
            "4/4 [==============================] - 0s 20ms/step - loss: 2.1151e-05 - val_loss: 0.0173\n",
            "Epoch 133/150\n",
            "4/4 [==============================] - 0s 27ms/step - loss: 2.0773e-05 - val_loss: 0.0173\n",
            "Epoch 134/150\n",
            "4/4 [==============================] - 0s 28ms/step - loss: 2.0429e-05 - val_loss: 0.0173\n",
            "Epoch 135/150\n",
            "4/4 [==============================] - 0s 21ms/step - loss: 2.0050e-05 - val_loss: 0.0173\n",
            "Epoch 136/150\n",
            "4/4 [==============================] - 0s 42ms/step - loss: 1.9707e-05 - val_loss: 0.0173\n",
            "Epoch 137/150\n",
            "4/4 [==============================] - 0s 23ms/step - loss: 1.9367e-05 - val_loss: 0.0173\n",
            "Epoch 138/150\n",
            "4/4 [==============================] - 0s 26ms/step - loss: 1.9025e-05 - val_loss: 0.0173\n",
            "Epoch 139/150\n",
            "4/4 [==============================] - 0s 19ms/step - loss: 1.8725e-05 - val_loss: 0.0173\n",
            "Epoch 140/150\n",
            "4/4 [==============================] - 0s 51ms/step - loss: 1.8398e-05 - val_loss: 0.0173\n",
            "Epoch 141/150\n",
            "4/4 [==============================] - 0s 24ms/step - loss: 1.8120e-05 - val_loss: 0.0173\n",
            "Epoch 142/150\n",
            "4/4 [==============================] - 0s 36ms/step - loss: 1.7801e-05 - val_loss: 0.0173\n",
            "Epoch 143/150\n",
            "4/4 [==============================] - 0s 27ms/step - loss: 1.7520e-05 - val_loss: 0.0173\n",
            "Epoch 144/150\n",
            "4/4 [==============================] - 0s 31ms/step - loss: 1.7221e-05 - val_loss: 0.0173\n",
            "Epoch 145/150\n",
            "4/4 [==============================] - 0s 29ms/step - loss: 1.6963e-05 - val_loss: 0.0173\n",
            "Epoch 146/150\n",
            "4/4 [==============================] - 0s 41ms/step - loss: 1.6706e-05 - val_loss: 0.0173\n",
            "Epoch 147/150\n",
            "4/4 [==============================] - 0s 34ms/step - loss: 1.6399e-05 - val_loss: 0.0173\n",
            "Epoch 148/150\n",
            "4/4 [==============================] - 0s 26ms/step - loss: 1.6131e-05 - val_loss: 0.0173\n",
            "Epoch 149/150\n",
            "4/4 [==============================] - 0s 40ms/step - loss: 1.5900e-05 - val_loss: 0.0173\n",
            "Epoch 150/150\n",
            "4/4 [==============================] - 0s 23ms/step - loss: 1.5653e-05 - val_loss: 0.0173\n"
          ]
        }
      ]
    },
    {
      "cell_type": "code",
      "metadata": {
        "id": "OVz1uug_zu2J",
        "outputId": "b157fdf9-39ee-4b0d-a6d0-156c956e9079",
        "colab": {
          "base_uri": "https://localhost:8080/",
          "height": 264
        }
      },
      "source": [
        "import matplotlib.pyplot as plt\n",
        "import seaborn as sns\n",
        "\n",
        "# Entrenamiento\n",
        "epoch_count = range(1, len(hist.history['loss']) + 1)\n",
        "sns.lineplot(x=epoch_count,  y=hist.history['loss'], label='train')\n",
        "sns.lineplot(x=epoch_count,  y=hist.history['val_loss'], label='valid')\n",
        "plt.show()"
      ],
      "execution_count": 16,
      "outputs": [
        {
          "output_type": "display_data",
          "data": {
            "text/plain": [
              "<Figure size 432x288 with 1 Axes>"
            ],
            "image/png": "[encoded data removed]"
          },
          "metadata": {
            "needs_background": "light"
          }
        }
      ]
    },
    {
      "cell_type": "code",
      "metadata": {
        "id": "71XeCtfYmOFx"
      },
      "source": [
        "def one_hot_decode(encoded_seq, label_encoder):\n",
        "    idx = [np.argmax(vector) for vector in encoded_seq]\n",
        "    return label_encoder.inverse_transform(idx)"
      ],
      "execution_count": 17,
      "outputs": []
    },
    {
      "cell_type": "code",
      "metadata": {
        "id": "lR1gKJN2m2Fw",
        "outputId": "9a0f4e43-e030-4bc5-c14c-f6459d96f575",
        "colab": {
          "base_uri": "https://localhost:8080/"
        }
      },
      "source": [
        "# Ensayo\n",
        "x_test = [20, 25, 30]\n",
        "y_test = [x+15 for x in x_test]\n",
        "\n",
        "print(\"y_test:\", y_test)\n",
        "\n",
        "# Transformar los datos a oneHotEncoding\n",
        "X1_test, X2_test, target_test = get_dataset(np.array([x_test]), np.array([y_test]), label_encoder)\n",
        "\n",
        "print(\"X1_test shape:\", X1_test.shape)\n",
        "print(\"X2_test shape:\", X2_test.shape)\n",
        "print(\"target_test shape:\", target_test.shape)"
      ],
      "execution_count": 18,
      "outputs": [
        {
          "output_type": "stream",
          "name": "stdout",
          "text": [
            "y_test: [35, 40, 45]\n",
            "Number of features/cardinality: 64\n",
            "X1_test shape: (1, 3, 64)\n",
            "X2_test shape: (1, 3, 64)\n",
            "target_test shape: (1, 3, 64)\n"
          ]
        }
      ]
    },
    {
      "cell_type": "code",
      "metadata": {
        "id": "kluBZJGMm3LF",
        "outputId": "f9fe047a-f7da-4152-cc2c-6c446686e10a",
        "colab": {
          "base_uri": "https://localhost:8080/"
        }
      },
      "source": [
        "# Cuando quiera por ejemplo recuperar target_test a y_test utilizo:\n",
        "one_hot_decode(target_test[0], label_encoder)"
      ],
      "execution_count": 19,
      "outputs": [
        {
          "output_type": "execute_result",
          "data": {
            "text/plain": [
              "array([35, 40, 45])"
            ]
          },
          "metadata": {},
          "execution_count": 19
        }
      ]
    },
    {
      "cell_type": "code",
      "metadata": {
        "id": "C4_UQshIzw7o",
        "outputId": "eb1f3d62-eb06-4026-b22b-4c4860e496a0",
        "colab": {
          "base_uri": "https://localhost:8080/"
        }
      },
      "source": [
        "cardinality = len(label_encoder.classes_)\n",
        "\n",
        "# encode\n",
        "# Se transforma la sequencia de entrada a los stados \"h\" y \"c\" de la LSTM\n",
        "# para enviar la primera vez al decoder\n",
        "state = encoder_model.predict(X1_test)\n",
        "# start of sequence input --> la primera secuencia de salida-entrada (output_in)\n",
        "# comienza con el ID cero (el ID seleccionado para <sos>)\n",
        "output_in = to_categorical(0, num_classes=cardinality)\n",
        "target_seq = np.array(output_in).reshape(1, 1, cardinality)\n",
        "print(\"target_seq shape:\", target_seq.shape)\n",
        "\n",
        "# Vector de predicción\n",
        "output = list()\n",
        "\n",
        "for t in range(3):\n",
        "    # Predicción del próximo elemento\n",
        "    print(\"Que recibe como elemlento anterior:\", one_hot_decode(target_seq[0], label_encoder))\n",
        "    y_hat, h, c = decoder_model.predict([target_seq] + state)\n",
        "    \n",
        "    # Almacenar la predicción\n",
        "    output.append(y_hat[0])\n",
        "    print(\"Que saca como elemlento nuevo o prediccion:\", one_hot_decode(y_hat[0], label_encoder))\n",
        "    # Actualizar los estados dado la ultimo prediccion\n",
        "    state = [h, c]\n",
        "    \n",
        "    # Actualizar secuencia de entrada con la salida (re-alimentacion)\n",
        "    target_seq = y_hat\n",
        "\n",
        "print(\"y_test:\", y_test)\n",
        "print(\"y_hat:\", one_hot_decode(output, label_encoder))"
      ],
      "execution_count": 20,
      "outputs": [
        {
          "output_type": "stream",
          "name": "stdout",
          "text": [
            "target_seq shape: (1, 1, 64)\n",
            "Que recibe como elemlento anterior: [0]\n",
            "Que saca como elemlento nuevo o prediccion: [35]\n",
            "Que recibe como elemlento anterior: [35]\n",
            "Que saca como elemlento nuevo o prediccion: [40]\n",
            "Que recibe como elemlento anterior: [40]\n",
            "Que saca como elemlento nuevo o prediccion: [45]\n",
            "y_test: [35, 40, 45]\n",
            "y_hat: [35 40 45]\n"
          ]
        }
      ]
    },
    {
      "cell_type": "code",
      "metadata": {
        "id": "M7MD_XS2oKUj",
        "outputId": "27ad3909-45bb-4303-8fb2-ad5816f0a89e",
        "colab": {
          "base_uri": "https://localhost:8080/"
        }
      },
      "source": [
        "# Podría si quisiera usar el \"evaluate\" de Keras pero ahí si necesitaré\n",
        "# de X2:\n",
        "model.evaluate([X1_test, X2_test], [target_test])"
      ],
      "execution_count": 21,
      "outputs": [
        {
          "output_type": "stream",
          "name": "stdout",
          "text": [
            "1/1 [==============================] - 3s 3s/step - loss: 1.7511e-05\n"
          ]
        },
        {
          "output_type": "execute_result",
          "data": {
            "text/plain": [
              "1.7511158148408867e-05"
            ]
          },
          "metadata": {},
          "execution_count": 21
        }
      ]
    },
    {
      "cell_type": "markdown",
      "metadata": {
        "id": "pkOjSJweqdF8"
      },
      "source": [
        "### 4 - Conclusión\n",
        "A primera vista parece muy compleja la estructura del encoder-decoder, pero funciona igual en cualquier disciplina de deeplearning:\n",
        "- En visión para transferencia de estilo, generación de imagenes, etc.\n",
        "- En NLP desde LSTM hasta Attention y transformes\n",
        "\n",
        "Hay que pensar el encoder como el generador del \"espacio latente\". Luego el decoder necesita el espacio latente que representa a la setencia de entrada, la realimentación de los valores de salida del decoder y los estados internos de la LSTM para pasar a la siguiente inferencia hasta concluir la secuencia de salida."
      ]
    },
    {
      "cell_type": "code",
      "source": [],
      "metadata": {
        "id": "2wU1b9Sal3aw"
      },
      "execution_count": null,
      "outputs": []
    }
  ]
}