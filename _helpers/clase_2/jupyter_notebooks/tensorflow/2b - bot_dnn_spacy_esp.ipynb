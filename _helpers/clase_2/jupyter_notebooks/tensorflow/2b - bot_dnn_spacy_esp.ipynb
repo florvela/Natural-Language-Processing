{
 "cells": [
  {
   "cell_type": "markdown",
   "metadata": {
    "id": "NV8wZ0MTKjv_"
   },
   "source": [
    "<img src=\"https://github.com/hernancontigiani/ceia_memorias_especializacion/raw/master/Figures/logoFIUBA.jpg\" width=\"500\" align=\"center\">\n",
    "\n",
    "\n",
    "# Procesamiento de lenguaje natural\n",
    "## Bot basado en reglas con DNN + Spacy"
   ]
  },
  {
   "cell_type": "markdown",
   "metadata": {
    "id": "Z_9z3H-yKrcK"
   },
   "source": [
    "#### Datos\n",
    "Este ejemplo se inspiró en otro Bot en inglés creado con NLTK, lo tienen como referencia para hacer lo mismo en inglés:\\\n",
    "[LINK](https://towardsdatascience.com/a-simple-chatbot-in-python-with-deep-learning-3e8669997758)"
   ]
  },
  {
   "cell_type": "markdown",
   "metadata": {
    "id": "oCVZakCzAjGN"
   },
   "source": [
    "### 1 - Instalar dependencias\n",
    "Para poder utilizar Spacy en castellano es necesario agregar la librería \"spacy-stanza\" para lematizar palabras en español."
   ]
  },
  {
   "cell_type": "code",
   "execution_count": 1,
   "metadata": {
    "id": "Zd8NLa4gsSmT"
   },
   "outputs": [],
   "source": [
    "# La última versión de spacy-stanza (>1.0) es compatible solo con spacy >=3.0\n",
    "# Nota: spacy 3.0 incorpora al pepiline nlp transformers\n",
    "# !pip install -U spacy==3.1 --quiet\n",
    "# !pip install -U spacy-stanza==1.0.0 --quiet"
   ]
  },
  {
   "cell_type": "code",
   "execution_count": 1,
   "metadata": {
    "id": "kzao7XO9NJAq"
   },
   "outputs": [
    {
     "name": "stderr",
     "output_type": "stream",
     "text": [
      "2022-09-07 17:19:40.764898: I tensorflow/core/platform/cpu_feature_guard.cc:193] This TensorFlow binary is optimized with oneAPI Deep Neural Network Library (oneDNN) to use the following CPU instructions in performance-critical operations:  AVX2 FMA\n",
      "To enable them in other operations, rebuild TensorFlow with the appropriate compiler flags.\n"
     ]
    }
   ],
   "source": [
    "import json\n",
    "import string\n",
    "import random \n",
    "import numpy as np\n",
    "\n",
    "import tensorflow as tf \n",
    "from tensorflow.keras import Sequential \n",
    "from tensorflow.keras.layers import Dense, Dropout"
   ]
  },
  {
   "cell_type": "code",
   "execution_count": 2,
   "metadata": {
    "id": "Z_ExOb8uvjqK"
   },
   "outputs": [
    {
     "data": {
      "application/vnd.jupyter.widget-view+json": {
       "model_id": "8b3d81206c964dacbe679fd79e48ca14",
       "version_major": 2,
       "version_minor": 0
      },
      "text/plain": [
       "Downloading https://raw.githubusercontent.com/stanfordnlp/stanza-resources/main/resources_1.4.0.json:   0%|   …"
      ]
     },
     "metadata": {},
     "output_type": "display_data"
    },
    {
     "name": "stderr",
     "output_type": "stream",
     "text": [
      "2022-09-07 17:20:08 INFO: Downloading default packages for language: es (Spanish)...\n"
     ]
    },
    {
     "data": {
      "application/vnd.jupyter.widget-view+json": {
       "model_id": "77551e9352704996bb0b35fe91479aaf",
       "version_major": 2,
       "version_minor": 0
      },
      "text/plain": [
       "Downloading https://huggingface.co/stanfordnlp/stanza-es/resolve/v1.4.0/models/default.zip:   0%|          | 0…"
      ]
     },
     "metadata": {},
     "output_type": "display_data"
    },
    {
     "name": "stderr",
     "output_type": "stream",
     "text": [
      "2022-09-07 17:21:01 INFO: Finished downloading models and saved to /Users/flor/stanza_resources.\n"
     ]
    },
    {
     "data": {
      "application/vnd.jupyter.widget-view+json": {
       "model_id": "6bd03543c24f40b6a1b101b0fb4a5795",
       "version_major": 2,
       "version_minor": 0
      },
      "text/plain": [
       "Downloading https://raw.githubusercontent.com/stanfordnlp/stanza-resources/main/resources_1.4.0.json:   0%|   …"
      ]
     },
     "metadata": {},
     "output_type": "display_data"
    },
    {
     "name": "stderr",
     "output_type": "stream",
     "text": [
      "2022-09-07 17:21:03 INFO: Loading these models for language: es (Spanish):\n",
      "=======================\n",
      "| Processor | Package |\n",
      "-----------------------\n",
      "| tokenize  | ancora  |\n",
      "| mwt       | ancora  |\n",
      "| pos       | ancora  |\n",
      "| lemma     | ancora  |\n",
      "| depparse  | ancora  |\n",
      "| ner       | conll02 |\n",
      "=======================\n",
      "\n",
      "2022-09-07 17:21:03 INFO: Use device: cpu\n",
      "2022-09-07 17:21:03 INFO: Loading: tokenize\n",
      "2022-09-07 17:21:03 INFO: Loading: mwt\n",
      "2022-09-07 17:21:03 INFO: Loading: pos\n",
      "2022-09-07 17:21:03 INFO: Loading: lemma\n",
      "2022-09-07 17:21:03 INFO: Loading: depparse\n",
      "2022-09-07 17:21:04 INFO: Loading: ner\n",
      "2022-09-07 17:21:05 INFO: Done loading processors!\n"
     ]
    }
   ],
   "source": [
    "import stanza\n",
    "import spacy_stanza\n",
    "\n",
    "# Vamos a usar SpaCy-Stanza. Stanza es una librería de NLP de Stanford\n",
    "# SpaCy armó un wrapper para los pipelines y modelos de Stanza\n",
    "# https://stanfordnlp.github.io/stanza/\n",
    "\n",
    "# Descargar el diccionario en español y armar el pipeline de NLP con spacy\n",
    "stanza.download(\"es\")\n",
    "nlp = spacy_stanza.load_pipeline(\"es\")"
   ]
  },
  {
   "cell_type": "markdown",
   "metadata": {
    "id": "_wF10RjVMBdV"
   },
   "source": [
    "### 2 - Herramientas de preprocesamiento de datos\n",
    "Entre las tareas de procesamiento de texto en español se implementa:\n",
    "- Quitar acentos y caracteres especiales\n",
    "- Quitar números\n",
    "- Quitar símbolos de puntuación"
   ]
  },
  {
   "cell_type": "code",
   "execution_count": 3,
   "metadata": {
    "id": "ZxoD2hEExmuX"
   },
   "outputs": [],
   "source": [
    "import re\n",
    "import unicodedata\n",
    "\n",
    "# El preprocesamento en castellano requiere más trabajo\n",
    "\n",
    "# Referencia de regex:\n",
    "# https://docs.python.org/3/library/re.html\n",
    "\n",
    "def preprocess_clean_text(text):    \n",
    "    # sacar tildes de las palabras:\n",
    "    text = unicodedata.normalize('NFKD', text).encode('ascii', 'ignore').decode('utf-8', 'ignore')\n",
    "    # quitar caracteres especiales\n",
    "    pattern = r'[^a-zA-z0-9.,!?/:;\\\"\\'\\s]' # [^ : ningún caracter de todos estos\n",
    "    # (termina eliminando cualquier caracter distinto de los del regex)\n",
    "    text = re.sub(pattern, '', text)\n",
    "    pattern = r'[^a-zA-z.,!?/:;\\\"\\'\\s]' # igual al anterior pero sin cifras numéricas\n",
    "    # quitar números\n",
    "    text = re.sub(pattern, '', text)\n",
    "    # quitar caracteres de puntuación\n",
    "    text = ''.join([c for c in text if c not in string.punctuation])\n",
    "    return text"
   ]
  },
  {
   "cell_type": "code",
   "execution_count": 4,
   "metadata": {
    "id": "q-MiMZjh5fu2"
   },
   "outputs": [
    {
     "data": {
      "text/plain": [
       "'personas ideas estas cosas y los peces y los murcielagos'"
      ]
     },
     "execution_count": 4,
     "metadata": {},
     "output_type": "execute_result"
    }
   ],
   "source": [
    "text = \"personas Ideas! estás cosas y los peces y los murciélagos\"\n",
    "\n",
    "# Antes de preprocesar los datos se pasa a minúsculas todo el texto\n",
    "preprocess_clean_text(text.lower())"
   ]
  },
  {
   "cell_type": "code",
   "execution_count": 5,
   "metadata": {
    "id": "I9V-S8JbrtNn"
   },
   "outputs": [
    {
     "name": "stdout",
     "output_type": "stream",
     "text": [
      "tokens: hola personas ideas estas cosas y los peces y los murcielagos\n",
      "Lematización de cada token:\n",
      "[hola, 'holar']\n",
      "[personas, 'persona']\n",
      "[ideas, 'idea']\n",
      "[estas, 'este']\n",
      "[cosas, 'cosa']\n",
      "[y, 'y']\n",
      "[los, 'el']\n",
      "[peces, 'pez']\n",
      "[y, 'y']\n",
      "[los, 'el']\n",
      "[murcielagos, 'murcielago']\n"
     ]
    }
   ],
   "source": [
    "# Ejemplo de como fuciona\n",
    "text = \"hola personas Ideas! estás cosas y los peces y los murciélagos\"\n",
    "\n",
    "# Antes de preprocesar los datos se pasa a minúsculas todo el texto\n",
    "tokes = nlp(preprocess_clean_text(text.lower()))\n",
    "print(\"tokens:\", tokes)\n",
    "print(\"Lematización de cada token:\")\n",
    "for token in tokes:\n",
    "    print([token, token.lemma_])"
   ]
  },
  {
   "cell_type": "markdown",
   "metadata": {
    "id": "ilRbn0KfMm2r"
   },
   "source": [
    "### 3 - Diccionario de entrada"
   ]
  },
  {
   "cell_type": "code",
   "execution_count": 6,
   "metadata": {
    "id": "NgIGpjymNEH7"
   },
   "outputs": [],
   "source": [
    "# Dataset en formato JSON que representa las posibles preguntas (patterns)\n",
    "# y las posibles respuestas por categoría (tag)\n",
    "# Los \"patterns\" van a formar el corpus para entrenar el clasificador que clasifica en tags\n",
    "# \"respones\" son las respuestas predeterminadas posibles para cada tag\n",
    "dataset = {\"intents\": [\n",
    "             {\"tag\": \"bienvenida\",\n",
    "              \"patterns\": [\"Hola\", \"¿Cómo estás?\", \"¿Qué tal?\"],\n",
    "              \"responses\": [\"Hola!\", \"Hola, ¿Cómo estás?\"],\n",
    "             },\n",
    "             {\"tag\": \"nombre\",\n",
    "              \"patterns\": [\"¿Cúal es tu nombre?\", \"¿Quién sos?\"],\n",
    "              \"responses\": [\"Mi nombre es TiendaPro\", \"Yo soy TiendaPro\"]\n",
    "             },\n",
    "            {\"tag\": \"contacto\",\n",
    "              \"patterns\": [\"contacto\", \"número de contacto\", \"número de teléfono\", \"número de whatsapp\", \"whatsapp\"],\n",
    "              \"responses\": [\"Podes contactarnos al siguiente <numero>\", \"Contactos al whatsapp <numero>\"]\n",
    "             },\n",
    "            {\"tag\": \"envios\",\n",
    "              \"patterns\": [\"¿Realizan envios?\", \"¿Cómo me llega el paquete?\"],\n",
    "              \"responses\": [\"Tenemos diferentes formas de envios según la zona, te recomiendo entrar a este <link>\"]\n",
    "             },\n",
    "            {\"tag\": \"precios\",\n",
    "              \"patterns\": [\"precio\", \"Me podrás pasar los precios\", \"¿Cuánto vale?\", \"¿Cuánto sale?\"],\n",
    "              \"responses\": [\"En el siguiente link podrás encontrar los precios de todos nuestros productos en stock\"]\n",
    "             },\n",
    "            {\"tag\": \"pagos\",\n",
    "              \"patterns\": [\"medios de pago\", \"tarjeta de crédito\", \"tarjetas\", \"cuotas\"],\n",
    "              \"responses\": [\"En el siguiente link podrás encontrar los beneficios y formas de pago vigentes\"]\n",
    "             },\n",
    "            {\"tag\": \"stock\",\n",
    "              \"patterns\": [\"Esto está disponible\", \"¿Tenes stock?\", \"¿Hay stock hoy?\"],\n",
    "              \"responses\": [\"Los productos publicados están en stock\"]\n",
    "             },\n",
    "            {\"tag\": \"agradecimientos\",\n",
    "              \"patterns\": [ \"Muchas gracias\", \"Gracias\"],\n",
    "              \"responses\": [\"Por nada!, cualquier otra consulta podes escribirme\"]\n",
    "             },\n",
    "             {\"tag\": \"despedida\",\n",
    "              \"patterns\": [ \"Chau\", \"Hasta luego!\"],\n",
    "              \"responses\": [\"Hasta luego!\", \"Hablamos luego!\"]\n",
    "             }\n",
    "]}"
   ]
  },
  {
   "cell_type": "markdown",
   "metadata": {
    "id": "19PEDmIDfLRu"
   },
   "source": [
    "### 4 - Preprocesamiento y armado del dataset"
   ]
  },
  {
   "cell_type": "code",
   "execution_count": 7,
   "metadata": {
    "id": "b3HP8abHNRk3"
   },
   "outputs": [],
   "source": [
    "# Datos que necesitaremos, las palabras o vocabulario\n",
    "words = []\n",
    "classes = []\n",
    "doc_X = []\n",
    "doc_y = []\n",
    "\n",
    "# Por cada intención (intents) debemos tomar los patrones que la caracterízan\n",
    "# a esa intención y transformarla a tokens para almacenar en doc_X\n",
    "\n",
    "# El tag de cada intención se almacena como doc_Y (la clase a predecir)\n",
    "# En `words` vamos a guardar el vocabulario\n",
    "# En `class` las posibles clases o tags\n",
    "\n",
    "for intent in dataset[\"intents\"]:\n",
    "    for pattern in intent[\"patterns\"]:\n",
    "        # trasformar el patron a tokens\n",
    "        tokens = nlp(preprocess_clean_text(pattern.lower()))\n",
    "        # lematizar los tokens\n",
    "        for token in tokens:            \n",
    "            words.append(token.lemma_)\n",
    "        \n",
    "        doc_X.append(pattern)\n",
    "        doc_y.append(intent[\"tag\"])\n",
    "    \n",
    "    # Agregar el tag a las clases\n",
    "    if intent[\"tag\"] not in classes:\n",
    "        classes.append(intent[\"tag\"])\n",
    "\n",
    "# Elminar duplicados con \"set\" y ordenar el vocubulario y las clases por orden alfabético\n",
    "words = sorted(set(words))\n",
    "classes = sorted(set(classes))"
   ]
  },
  {
   "cell_type": "code",
   "execution_count": 8,
   "metadata": {
    "id": "Acy-gcugNbMH"
   },
   "outputs": [
    {
     "name": "stdout",
     "output_type": "stream",
     "text": [
      "words: ['chau', 'como', 'contacto', 'credito', 'cual', 'cuanto', 'cuota', 'de', 'disponible', 'el', 'envio', 'este', 'gracias', 'haber', 'hasta', 'holar', 'hoy', 'llegar', 'luego', 'medio', 'mucho', 'nombre', 'numero', 'pago', 'paquete', 'pasar', 'poder', 'precio', 'que', 'quien', 'realizar', 'salir', 'ser', 'stock', 'tal', 'tarjeta', 'telefono', 'tener', 'tu', 'valer', 'whatsapp', 'yo']\n",
      "classes: ['agradecimientos', 'bienvenida', 'contacto', 'despedida', 'envios', 'nombre', 'pagos', 'precios', 'stock']\n",
      "doc_X: ['Hola', '¿Cómo estás?', '¿Qué tal?', '¿Cúal es tu nombre?', '¿Quién sos?', 'contacto', 'número de contacto', 'número de teléfono', 'número de whatsapp', 'whatsapp', '¿Realizan envios?', '¿Cómo me llega el paquete?', 'precio', 'Me podrás pasar los precios', '¿Cuánto vale?', '¿Cuánto sale?', 'medios de pago', 'tarjeta de crédito', 'tarjetas', 'cuotas', 'Esto está disponible', '¿Tenes stock?', '¿Hay stock hoy?', 'Muchas gracias', 'Gracias', 'Chau', 'Hasta luego!']\n",
      "doc_y: ['bienvenida', 'bienvenida', 'bienvenida', 'nombre', 'nombre', 'contacto', 'contacto', 'contacto', 'contacto', 'contacto', 'envios', 'envios', 'precios', 'precios', 'precios', 'precios', 'pagos', 'pagos', 'pagos', 'pagos', 'stock', 'stock', 'stock', 'agradecimientos', 'agradecimientos', 'despedida', 'despedida']\n"
     ]
    }
   ],
   "source": [
    "print(\"words:\", words)\n",
    "print(\"classes:\", classes)\n",
    "print(\"doc_X:\", doc_X)\n",
    "print(\"doc_y:\", doc_y)"
   ]
  },
  {
   "cell_type": "code",
   "execution_count": 9,
   "metadata": {
    "id": "YI0L2U7IQcvy"
   },
   "outputs": [
    {
     "name": "stdout",
     "output_type": "stream",
     "text": [
      "Vocabulario: 42\n"
     ]
    }
   ],
   "source": [
    "# Tamaño del vocabulario\n",
    "print(\"Vocabulario:\", len(words))"
   ]
  },
  {
   "cell_type": "code",
   "execution_count": 10,
   "metadata": {
    "id": "hqBeGKRk_q4r"
   },
   "outputs": [
    {
     "name": "stdout",
     "output_type": "stream",
     "text": [
      "Tags: 9\n"
     ]
    }
   ],
   "source": [
    "# Cantidad de tags\n",
    "print(\"Tags:\", len(classes))"
   ]
  },
  {
   "cell_type": "code",
   "execution_count": 11,
   "metadata": {
    "id": "vpbJ0guPN2Uq"
   },
   "outputs": [
    {
     "name": "stdout",
     "output_type": "stream",
     "text": [
      "X: [0, 0, 0, 0, 0, 0, 0, 0, 0, 0, 0, 0, 0, 0, 0, 1, 0, 0, 0, 0, 0, 0, 0, 0, 0, 0, 0, 0, 0, 0, 0, 0, 0, 0, 0, 0, 0, 0, 0, 0, 0, 0] y: [0, 1, 0, 0, 0, 0, 0, 0, 0]\n",
      "X: [0, 1, 0, 0, 0, 0, 0, 0, 0, 0, 0, 1, 0, 0, 0, 0, 0, 0, 0, 0, 0, 0, 0, 0, 0, 0, 0, 0, 0, 0, 0, 0, 0, 0, 0, 0, 0, 0, 0, 0, 0, 0] y: [0, 1, 0, 0, 0, 0, 0, 0, 0]\n",
      "X: [0, 0, 0, 0, 0, 0, 0, 0, 0, 0, 0, 0, 0, 0, 0, 0, 0, 0, 0, 0, 0, 0, 0, 0, 0, 0, 0, 0, 1, 0, 0, 0, 0, 0, 1, 0, 0, 0, 0, 0, 0, 0] y: [0, 1, 0, 0, 0, 0, 0, 0, 0]\n",
      "X: [0, 0, 0, 0, 1, 0, 0, 0, 0, 0, 0, 0, 0, 0, 0, 0, 0, 0, 0, 0, 0, 1, 0, 0, 0, 0, 0, 0, 0, 0, 0, 0, 1, 0, 0, 0, 0, 0, 1, 0, 0, 0] y: [0, 0, 0, 0, 0, 1, 0, 0, 0]\n",
      "X: [0, 0, 0, 0, 0, 0, 0, 0, 0, 0, 0, 0, 0, 0, 0, 0, 0, 0, 0, 0, 0, 0, 0, 0, 0, 0, 0, 0, 0, 1, 0, 0, 1, 0, 0, 0, 0, 0, 0, 0, 0, 0] y: [0, 0, 0, 0, 0, 1, 0, 0, 0]\n",
      "X: [0, 0, 1, 0, 0, 0, 0, 0, 0, 0, 0, 0, 0, 0, 0, 0, 0, 0, 0, 0, 0, 0, 0, 0, 0, 0, 0, 0, 0, 0, 0, 0, 0, 0, 0, 0, 0, 0, 0, 0, 0, 0] y: [0, 0, 1, 0, 0, 0, 0, 0, 0]\n",
      "X: [0, 0, 1, 0, 0, 0, 0, 1, 0, 0, 0, 0, 0, 0, 0, 0, 0, 0, 0, 0, 0, 0, 1, 0, 0, 0, 0, 0, 0, 0, 0, 0, 0, 0, 0, 0, 0, 0, 0, 0, 0, 0] y: [0, 0, 1, 0, 0, 0, 0, 0, 0]\n",
      "X: [0, 0, 0, 0, 0, 0, 0, 1, 0, 0, 0, 0, 0, 0, 0, 0, 0, 0, 0, 0, 0, 0, 1, 0, 0, 0, 0, 0, 0, 0, 0, 0, 0, 0, 0, 0, 1, 0, 0, 0, 0, 0] y: [0, 0, 1, 0, 0, 0, 0, 0, 0]\n",
      "X: [0, 0, 0, 0, 0, 0, 0, 1, 0, 0, 0, 0, 0, 0, 0, 0, 0, 0, 0, 0, 0, 0, 1, 0, 0, 0, 0, 0, 0, 0, 0, 0, 0, 0, 0, 0, 0, 0, 0, 0, 1, 0] y: [0, 0, 1, 0, 0, 0, 0, 0, 0]\n",
      "X: [0, 0, 0, 0, 0, 0, 0, 0, 0, 0, 0, 0, 0, 0, 0, 0, 0, 0, 0, 0, 0, 0, 0, 0, 0, 0, 0, 0, 0, 0, 0, 0, 0, 0, 0, 0, 0, 0, 0, 0, 1, 0] y: [0, 0, 1, 0, 0, 0, 0, 0, 0]\n",
      "X: [0, 0, 0, 0, 0, 0, 0, 0, 0, 0, 1, 0, 0, 0, 0, 0, 0, 0, 0, 0, 0, 0, 0, 0, 0, 0, 0, 0, 0, 0, 1, 0, 0, 0, 0, 0, 0, 0, 0, 0, 0, 0] y: [0, 0, 0, 0, 1, 0, 0, 0, 0]\n",
      "X: [0, 1, 0, 0, 0, 0, 0, 0, 0, 1, 0, 0, 0, 0, 0, 0, 0, 1, 0, 0, 0, 0, 0, 0, 1, 0, 0, 0, 0, 0, 0, 0, 0, 0, 0, 0, 0, 0, 0, 0, 0, 1] y: [0, 0, 0, 0, 1, 0, 0, 0, 0]\n",
      "X: [0, 0, 0, 0, 0, 0, 0, 0, 0, 0, 0, 0, 0, 0, 0, 0, 0, 0, 0, 0, 0, 0, 0, 0, 0, 0, 0, 1, 0, 0, 0, 0, 0, 0, 0, 0, 0, 0, 0, 0, 0, 0] y: [0, 0, 0, 0, 0, 0, 0, 1, 0]\n",
      "X: [0, 0, 0, 0, 0, 0, 0, 0, 0, 1, 0, 0, 0, 0, 0, 0, 0, 0, 0, 0, 0, 0, 0, 0, 0, 1, 1, 1, 0, 0, 0, 0, 0, 0, 0, 0, 0, 0, 0, 0, 0, 1] y: [0, 0, 0, 0, 0, 0, 0, 1, 0]\n",
      "X: [0, 0, 0, 0, 0, 1, 0, 0, 0, 0, 0, 0, 0, 0, 0, 0, 0, 0, 0, 0, 0, 0, 0, 0, 0, 0, 0, 0, 0, 0, 0, 0, 0, 0, 0, 0, 0, 0, 0, 1, 0, 0] y: [0, 0, 0, 0, 0, 0, 0, 1, 0]\n",
      "X: [0, 0, 0, 0, 0, 1, 0, 0, 0, 0, 0, 0, 0, 0, 0, 0, 0, 0, 0, 0, 0, 0, 0, 0, 0, 0, 0, 0, 0, 0, 0, 1, 0, 0, 0, 0, 0, 0, 0, 0, 0, 0] y: [0, 0, 0, 0, 0, 0, 0, 1, 0]\n",
      "X: [0, 0, 0, 0, 0, 0, 0, 1, 0, 0, 0, 0, 0, 0, 0, 0, 0, 0, 0, 1, 0, 0, 0, 1, 0, 0, 0, 0, 0, 0, 0, 0, 0, 0, 0, 0, 0, 0, 0, 0, 0, 0] y: [0, 0, 0, 0, 0, 0, 1, 0, 0]\n",
      "X: [0, 0, 0, 1, 0, 0, 0, 1, 0, 0, 0, 0, 0, 0, 0, 0, 0, 0, 0, 0, 0, 0, 0, 0, 0, 0, 0, 0, 0, 0, 0, 0, 0, 0, 0, 1, 0, 0, 0, 0, 0, 0] y: [0, 0, 0, 0, 0, 0, 1, 0, 0]\n",
      "X: [0, 0, 0, 0, 0, 0, 0, 0, 0, 0, 0, 0, 0, 0, 0, 0, 0, 0, 0, 0, 0, 0, 0, 0, 0, 0, 0, 0, 0, 0, 0, 0, 0, 0, 0, 1, 0, 0, 0, 0, 0, 0] y: [0, 0, 0, 0, 0, 0, 1, 0, 0]\n",
      "X: [0, 0, 0, 0, 0, 0, 1, 0, 0, 0, 0, 0, 0, 0, 0, 0, 0, 0, 0, 0, 0, 0, 0, 0, 0, 0, 0, 0, 0, 0, 0, 0, 0, 0, 0, 0, 0, 0, 0, 0, 0, 0] y: [0, 0, 0, 0, 0, 0, 1, 0, 0]\n",
      "X: [0, 0, 0, 0, 0, 0, 0, 0, 1, 0, 0, 1, 0, 0, 0, 0, 0, 0, 0, 0, 0, 0, 0, 0, 0, 0, 0, 0, 0, 0, 0, 0, 0, 0, 0, 0, 0, 0, 0, 0, 0, 0] y: [0, 0, 0, 0, 0, 0, 0, 0, 1]\n",
      "X: [0, 0, 0, 0, 0, 0, 0, 0, 0, 0, 0, 0, 0, 0, 0, 0, 0, 0, 0, 0, 0, 0, 0, 0, 0, 0, 0, 0, 0, 0, 0, 0, 0, 1, 0, 0, 0, 1, 0, 0, 0, 0] y: [0, 0, 0, 0, 0, 0, 0, 0, 1]\n",
      "X: [0, 0, 0, 0, 0, 0, 0, 0, 0, 0, 0, 0, 0, 1, 0, 0, 1, 0, 0, 0, 0, 0, 0, 0, 0, 0, 0, 0, 0, 0, 0, 0, 0, 1, 0, 0, 0, 0, 0, 0, 0, 0] y: [0, 0, 0, 0, 0, 0, 0, 0, 1]\n",
      "X: [0, 0, 0, 0, 0, 0, 0, 0, 0, 0, 0, 0, 1, 0, 0, 0, 0, 0, 0, 0, 1, 0, 0, 0, 0, 0, 0, 0, 0, 0, 0, 0, 0, 0, 0, 0, 0, 0, 0, 0, 0, 0] y: [1, 0, 0, 0, 0, 0, 0, 0, 0]\n",
      "X: [0, 0, 0, 0, 0, 0, 0, 0, 0, 0, 0, 0, 1, 0, 0, 0, 0, 0, 0, 0, 0, 0, 0, 0, 0, 0, 0, 0, 0, 0, 0, 0, 0, 0, 0, 0, 0, 0, 0, 0, 0, 0] y: [1, 0, 0, 0, 0, 0, 0, 0, 0]\n",
      "X: [1, 0, 0, 0, 0, 0, 0, 0, 0, 0, 0, 0, 0, 0, 0, 0, 0, 0, 0, 0, 0, 0, 0, 0, 0, 0, 0, 0, 0, 0, 0, 0, 0, 0, 0, 0, 0, 0, 0, 0, 0, 0] y: [0, 0, 0, 1, 0, 0, 0, 0, 0]\n",
      "X: [0, 0, 0, 0, 0, 0, 0, 0, 0, 0, 0, 0, 0, 0, 1, 0, 0, 0, 1, 0, 0, 0, 0, 0, 0, 0, 0, 0, 0, 0, 0, 0, 0, 0, 0, 0, 0, 0, 0, 0, 0, 0] y: [0, 0, 0, 1, 0, 0, 0, 0, 0]\n"
     ]
    }
   ],
   "source": [
    "# Transformar doc_X en bag of words por oneHotEncoding\n",
    "# Transformar doc_Y en un vector de clases multicategórico con oneHotEncoding\n",
    "\n",
    "training = []\n",
    "out_empty = [0] * len(classes)\n",
    "\n",
    "for idx, doc in enumerate(doc_X):\n",
    "    # Transformar la pregunta (input) en tokens y lematizar\n",
    "    text = []\n",
    "    tokens = nlp(preprocess_clean_text(doc.lower()))\n",
    "    for token in tokens:\n",
    "        text.append(token.lemma_)\n",
    "\n",
    "    # Transformar los tokens en \"Bag of words\" (arrays de 1 y 0)\n",
    "    bow = []\n",
    "    for word in words:\n",
    "        bow.append(1) if word in text else bow.append(0)\n",
    "    \n",
    "    # Crear el array de salida (class output) correspondiente\n",
    "    output_row = list(out_empty)\n",
    "    output_row[classes.index(doc_y[idx])] = 1\n",
    "\n",
    "    print(\"X:\", bow, \"y:\", output_row)\n",
    "    training.append([bow, output_row])\n",
    "\n",
    "# Mezclar los datos\n",
    "random.shuffle(training)\n",
    "training = np.array(training, dtype=object)\n",
    "# Dividir en datos de entrada y salida\n",
    "train_X = np.array(list(training[:, 0]))\n",
    "train_y = np.array(list(training[:, 1]))"
   ]
  },
  {
   "cell_type": "markdown",
   "metadata": {
    "id": "a_Hr8QaDfRf3"
   },
   "source": [
    "### 5 - Entrenamiento del modelo"
   ]
  },
  {
   "cell_type": "code",
   "execution_count": 12,
   "metadata": {
    "id": "fopb3NqcAGTz"
   },
   "outputs": [
    {
     "name": "stdout",
     "output_type": "stream",
     "text": [
      "input: (42,) output: 9\n"
     ]
    }
   ],
   "source": [
    "# Shape de entrada y salida\n",
    "input_shape = (train_X.shape[1],)\n",
    "output_shape = train_y.shape[1]\n",
    "print(\"input:\", input_shape, \"output:\", output_shape)"
   ]
  },
  {
   "cell_type": "code",
   "execution_count": 13,
   "metadata": {
    "id": "xy7tzkwdOZx9"
   },
   "outputs": [
    {
     "name": "stdout",
     "output_type": "stream",
     "text": [
      "Model: \"sequential\"\n",
      "_________________________________________________________________\n",
      " Layer (type)                Output Shape              Param #   \n",
      "=================================================================\n",
      " dense (Dense)               (None, 128)               5504      \n",
      "                                                                 \n",
      " dropout (Dropout)           (None, 128)               0         \n",
      "                                                                 \n",
      " dense_1 (Dense)             (None, 64)                8256      \n",
      "                                                                 \n",
      " dropout_1 (Dropout)         (None, 64)                0         \n",
      "                                                                 \n",
      " dense_2 (Dense)             (None, 9)                 585       \n",
      "                                                                 \n",
      "=================================================================\n",
      "Total params: 14,345\n",
      "Trainable params: 14,345\n",
      "Non-trainable params: 0\n",
      "_________________________________________________________________\n",
      "None\n"
     ]
    },
    {
     "name": "stderr",
     "output_type": "stream",
     "text": [
      "2022-09-07 17:22:33.887525: I tensorflow/core/platform/cpu_feature_guard.cc:193] This TensorFlow binary is optimized with oneAPI Deep Neural Network Library (oneDNN) to use the following CPU instructions in performance-critical operations:  AVX2 FMA\n",
      "To enable them in other operations, rebuild TensorFlow with the appropriate compiler flags.\n"
     ]
    }
   ],
   "source": [
    "# Entrenamiento del modelo DNN\n",
    "# - Modelo secuencial\n",
    "# - Con regularización\n",
    "# - softmax y optimizador Adam\n",
    "model = Sequential()\n",
    "model.add(Dense(128, input_shape=input_shape, activation=\"relu\"))\n",
    "model.add(Dropout(0.5))\n",
    "model.add(Dense(64, activation=\"relu\"))\n",
    "model.add(Dropout(0.5))\n",
    "model.add(Dense(output_shape, activation = \"softmax\"))\n",
    "\n",
    "model.compile(loss='categorical_crossentropy',\n",
    "              optimizer=\"Adam\",\n",
    "              metrics=[\"accuracy\"])\n",
    "print(model.summary())"
   ]
  },
  {
   "cell_type": "code",
   "execution_count": 14,
   "metadata": {
    "id": "r6hi4EcdOghm"
   },
   "outputs": [
    {
     "name": "stdout",
     "output_type": "stream",
     "text": [
      "Epoch 1/200\n",
      "1/1 [==============================] - 0s 483ms/step - loss: 2.1933 - accuracy: 0.0741\n",
      "Epoch 2/200\n",
      "1/1 [==============================] - 0s 6ms/step - loss: 2.1658 - accuracy: 0.1852\n",
      "Epoch 3/200\n",
      "1/1 [==============================] - 0s 5ms/step - loss: 2.2217 - accuracy: 0.0741\n",
      "Epoch 4/200\n",
      "1/1 [==============================] - 0s 8ms/step - loss: 2.1802 - accuracy: 0.1481\n",
      "Epoch 5/200\n",
      "1/1 [==============================] - 0s 13ms/step - loss: 2.1877 - accuracy: 0.1481\n",
      "Epoch 6/200\n",
      "1/1 [==============================] - 0s 7ms/step - loss: 2.1713 - accuracy: 0.1481\n",
      "Epoch 7/200\n",
      "1/1 [==============================] - 0s 6ms/step - loss: 2.1408 - accuracy: 0.1111\n",
      "Epoch 8/200\n",
      "1/1 [==============================] - 0s 19ms/step - loss: 2.1880 - accuracy: 0.1852\n",
      "Epoch 9/200\n",
      "1/1 [==============================] - 0s 14ms/step - loss: 2.1184 - accuracy: 0.3333\n",
      "Epoch 10/200\n",
      "1/1 [==============================] - 0s 14ms/step - loss: 2.1535 - accuracy: 0.1852\n",
      "Epoch 11/200\n",
      "1/1 [==============================] - 0s 13ms/step - loss: 2.0703 - accuracy: 0.2963\n",
      "Epoch 12/200\n",
      "1/1 [==============================] - 0s 5ms/step - loss: 2.1750 - accuracy: 0.1111\n",
      "Epoch 13/200\n",
      "1/1 [==============================] - 0s 5ms/step - loss: 2.1481 - accuracy: 0.1111\n",
      "Epoch 14/200\n",
      "1/1 [==============================] - 0s 5ms/step - loss: 2.0640 - accuracy: 0.2963\n",
      "Epoch 15/200\n",
      "1/1 [==============================] - 0s 5ms/step - loss: 2.0572 - accuracy: 0.3333\n",
      "Epoch 16/200\n",
      "1/1 [==============================] - 0s 6ms/step - loss: 2.0728 - accuracy: 0.1481\n",
      "Epoch 17/200\n",
      "1/1 [==============================] - 0s 5ms/step - loss: 2.0304 - accuracy: 0.2593\n",
      "Epoch 18/200\n",
      "1/1 [==============================] - 0s 6ms/step - loss: 2.0280 - accuracy: 0.2963\n",
      "Epoch 19/200\n",
      "1/1 [==============================] - 0s 7ms/step - loss: 2.1145 - accuracy: 0.2222\n",
      "Epoch 20/200\n",
      "1/1 [==============================] - 0s 6ms/step - loss: 2.0595 - accuracy: 0.2222\n",
      "Epoch 21/200\n",
      "1/1 [==============================] - 0s 6ms/step - loss: 2.0010 - accuracy: 0.3704\n",
      "Epoch 22/200\n",
      "1/1 [==============================] - 0s 5ms/step - loss: 1.9584 - accuracy: 0.5185\n",
      "Epoch 23/200\n",
      "1/1 [==============================] - 0s 6ms/step - loss: 2.0283 - accuracy: 0.2593\n",
      "Epoch 24/200\n",
      "1/1 [==============================] - 0s 7ms/step - loss: 1.9680 - accuracy: 0.5185\n",
      "Epoch 25/200\n",
      "1/1 [==============================] - 0s 6ms/step - loss: 1.9240 - accuracy: 0.5556\n",
      "Epoch 26/200\n",
      "1/1 [==============================] - 0s 4ms/step - loss: 1.9783 - accuracy: 0.4444\n",
      "Epoch 27/200\n",
      "1/1 [==============================] - 0s 6ms/step - loss: 1.8318 - accuracy: 0.5926\n",
      "Epoch 28/200\n",
      "1/1 [==============================] - 0s 5ms/step - loss: 1.9267 - accuracy: 0.3333\n",
      "Epoch 29/200\n",
      "1/1 [==============================] - 0s 5ms/step - loss: 1.9267 - accuracy: 0.4815\n",
      "Epoch 30/200\n",
      "1/1 [==============================] - 0s 5ms/step - loss: 1.8903 - accuracy: 0.4444\n",
      "Epoch 31/200\n",
      "1/1 [==============================] - 0s 5ms/step - loss: 1.8538 - accuracy: 0.3704\n",
      "Epoch 32/200\n",
      "1/1 [==============================] - 0s 4ms/step - loss: 1.7345 - accuracy: 0.5926\n",
      "Epoch 33/200\n",
      "1/1 [==============================] - 0s 5ms/step - loss: 1.8900 - accuracy: 0.2963\n",
      "Epoch 34/200\n",
      "1/1 [==============================] - 0s 14ms/step - loss: 1.8873 - accuracy: 0.4815\n",
      "Epoch 35/200\n",
      "1/1 [==============================] - 0s 14ms/step - loss: 1.8079 - accuracy: 0.5926\n",
      "Epoch 36/200\n",
      "1/1 [==============================] - 0s 11ms/step - loss: 1.8245 - accuracy: 0.5556\n",
      "Epoch 37/200\n",
      "1/1 [==============================] - 0s 7ms/step - loss: 1.8944 - accuracy: 0.4074\n",
      "Epoch 38/200\n",
      "1/1 [==============================] - 0s 13ms/step - loss: 1.7805 - accuracy: 0.5185\n",
      "Epoch 39/200\n",
      "1/1 [==============================] - 0s 5ms/step - loss: 1.7984 - accuracy: 0.4444\n",
      "Epoch 40/200\n",
      "1/1 [==============================] - 0s 5ms/step - loss: 1.8393 - accuracy: 0.4444\n",
      "Epoch 41/200\n",
      "1/1 [==============================] - 0s 5ms/step - loss: 1.7474 - accuracy: 0.6296\n",
      "Epoch 42/200\n",
      "1/1 [==============================] - 0s 8ms/step - loss: 1.7372 - accuracy: 0.5185\n",
      "Epoch 43/200\n",
      "1/1 [==============================] - 0s 6ms/step - loss: 1.8029 - accuracy: 0.4815\n",
      "Epoch 44/200\n",
      "1/1 [==============================] - 0s 8ms/step - loss: 1.7398 - accuracy: 0.5556\n",
      "Epoch 45/200\n",
      "1/1 [==============================] - 0s 7ms/step - loss: 1.6463 - accuracy: 0.7407\n",
      "Epoch 46/200\n",
      "1/1 [==============================] - 0s 5ms/step - loss: 1.6057 - accuracy: 0.5926\n",
      "Epoch 47/200\n",
      "1/1 [==============================] - 0s 5ms/step - loss: 1.6963 - accuracy: 0.4444\n",
      "Epoch 48/200\n",
      "1/1 [==============================] - 0s 7ms/step - loss: 1.6492 - accuracy: 0.5556\n",
      "Epoch 49/200\n",
      "1/1 [==============================] - 0s 6ms/step - loss: 1.6152 - accuracy: 0.5926\n",
      "Epoch 50/200\n",
      "1/1 [==============================] - 0s 7ms/step - loss: 1.6094 - accuracy: 0.6667\n",
      "Epoch 51/200\n",
      "1/1 [==============================] - 0s 5ms/step - loss: 1.6191 - accuracy: 0.5926\n",
      "Epoch 52/200\n",
      "1/1 [==============================] - 0s 6ms/step - loss: 1.5337 - accuracy: 0.7407\n",
      "Epoch 53/200\n",
      "1/1 [==============================] - 0s 6ms/step - loss: 1.5163 - accuracy: 0.6296\n",
      "Epoch 54/200\n",
      "1/1 [==============================] - 0s 6ms/step - loss: 1.5994 - accuracy: 0.6667\n",
      "Epoch 55/200\n",
      "1/1 [==============================] - 0s 7ms/step - loss: 1.5561 - accuracy: 0.5926\n",
      "Epoch 56/200\n",
      "1/1 [==============================] - 0s 12ms/step - loss: 1.5239 - accuracy: 0.5926\n",
      "Epoch 57/200\n",
      "1/1 [==============================] - 0s 6ms/step - loss: 1.5446 - accuracy: 0.6296\n",
      "Epoch 58/200\n",
      "1/1 [==============================] - 0s 7ms/step - loss: 1.4757 - accuracy: 0.5926\n",
      "Epoch 59/200\n",
      "1/1 [==============================] - 0s 6ms/step - loss: 1.4632 - accuracy: 0.6667\n",
      "Epoch 60/200\n",
      "1/1 [==============================] - 0s 8ms/step - loss: 1.4740 - accuracy: 0.6667\n",
      "Epoch 61/200\n",
      "1/1 [==============================] - 0s 6ms/step - loss: 1.5074 - accuracy: 0.5926\n",
      "Epoch 62/200\n",
      "1/1 [==============================] - 0s 5ms/step - loss: 1.4255 - accuracy: 0.5926\n",
      "Epoch 63/200\n",
      "1/1 [==============================] - 0s 6ms/step - loss: 1.3660 - accuracy: 0.6667\n",
      "Epoch 64/200\n",
      "1/1 [==============================] - 0s 4ms/step - loss: 1.4122 - accuracy: 0.7407\n",
      "Epoch 65/200\n",
      "1/1 [==============================] - 0s 6ms/step - loss: 1.4504 - accuracy: 0.7407\n",
      "Epoch 66/200\n",
      "1/1 [==============================] - 0s 5ms/step - loss: 1.3374 - accuracy: 0.6667\n",
      "Epoch 67/200\n",
      "1/1 [==============================] - 0s 5ms/step - loss: 1.5292 - accuracy: 0.5556\n",
      "Epoch 68/200\n",
      "1/1 [==============================] - 0s 6ms/step - loss: 1.2981 - accuracy: 0.7037\n",
      "Epoch 69/200\n",
      "1/1 [==============================] - 0s 4ms/step - loss: 1.3020 - accuracy: 0.8148\n",
      "Epoch 70/200\n",
      "1/1 [==============================] - 0s 4ms/step - loss: 1.2555 - accuracy: 0.6667\n",
      "Epoch 71/200\n",
      "1/1 [==============================] - 0s 8ms/step - loss: 1.3299 - accuracy: 0.6667\n",
      "Epoch 72/200\n",
      "1/1 [==============================] - 0s 6ms/step - loss: 1.2961 - accuracy: 0.6667\n",
      "Epoch 73/200\n",
      "1/1 [==============================] - 0s 11ms/step - loss: 1.2979 - accuracy: 0.6667\n",
      "Epoch 74/200\n",
      "1/1 [==============================] - 0s 7ms/step - loss: 1.3532 - accuracy: 0.7407\n",
      "Epoch 75/200\n",
      "1/1 [==============================] - 0s 5ms/step - loss: 1.2878 - accuracy: 0.6667\n",
      "Epoch 76/200\n",
      "1/1 [==============================] - 0s 5ms/step - loss: 1.1180 - accuracy: 0.7778\n",
      "Epoch 77/200\n",
      "1/1 [==============================] - 0s 5ms/step - loss: 1.3397 - accuracy: 0.7037\n",
      "Epoch 78/200\n",
      "1/1 [==============================] - 0s 5ms/step - loss: 1.2222 - accuracy: 0.6667\n",
      "Epoch 79/200\n",
      "1/1 [==============================] - 0s 5ms/step - loss: 1.1230 - accuracy: 0.7778\n",
      "Epoch 80/200\n",
      "1/1 [==============================] - 0s 6ms/step - loss: 1.1644 - accuracy: 0.8519\n",
      "Epoch 81/200\n",
      "1/1 [==============================] - 0s 8ms/step - loss: 1.1781 - accuracy: 0.7037\n",
      "Epoch 82/200\n",
      "1/1 [==============================] - 0s 5ms/step - loss: 1.1137 - accuracy: 0.7778\n",
      "Epoch 83/200\n",
      "1/1 [==============================] - 0s 6ms/step - loss: 1.0965 - accuracy: 0.7778\n",
      "Epoch 84/200\n"
     ]
    },
    {
     "name": "stdout",
     "output_type": "stream",
     "text": [
      "1/1 [==============================] - 0s 8ms/step - loss: 1.0221 - accuracy: 0.8519\n",
      "Epoch 85/200\n",
      "1/1 [==============================] - 0s 5ms/step - loss: 1.1163 - accuracy: 0.5556\n",
      "Epoch 86/200\n",
      "1/1 [==============================] - 0s 9ms/step - loss: 1.0691 - accuracy: 0.8519\n",
      "Epoch 87/200\n",
      "1/1 [==============================] - 0s 10ms/step - loss: 0.9693 - accuracy: 0.8148\n",
      "Epoch 88/200\n",
      "1/1 [==============================] - 0s 10ms/step - loss: 1.0609 - accuracy: 0.8889\n",
      "Epoch 89/200\n",
      "1/1 [==============================] - 0s 9ms/step - loss: 0.9778 - accuracy: 0.8148\n",
      "Epoch 90/200\n",
      "1/1 [==============================] - 0s 7ms/step - loss: 0.8501 - accuracy: 0.8889\n",
      "Epoch 91/200\n",
      "1/1 [==============================] - 0s 5ms/step - loss: 0.9570 - accuracy: 0.8148\n",
      "Epoch 92/200\n",
      "1/1 [==============================] - 0s 11ms/step - loss: 0.9530 - accuracy: 0.8148\n",
      "Epoch 93/200\n",
      "1/1 [==============================] - 0s 13ms/step - loss: 1.0660 - accuracy: 0.9259\n",
      "Epoch 94/200\n",
      "1/1 [==============================] - 0s 10ms/step - loss: 0.8397 - accuracy: 0.9259\n",
      "Epoch 95/200\n",
      "1/1 [==============================] - 0s 5ms/step - loss: 0.9048 - accuracy: 0.8889\n",
      "Epoch 96/200\n",
      "1/1 [==============================] - 0s 10ms/step - loss: 0.8352 - accuracy: 0.8889\n",
      "Epoch 97/200\n",
      "1/1 [==============================] - 0s 9ms/step - loss: 1.0623 - accuracy: 0.7407\n",
      "Epoch 98/200\n",
      "1/1 [==============================] - 0s 6ms/step - loss: 0.8404 - accuracy: 0.8519\n",
      "Epoch 99/200\n",
      "1/1 [==============================] - 0s 6ms/step - loss: 0.7765 - accuracy: 0.9259\n",
      "Epoch 100/200\n",
      "1/1 [==============================] - 0s 10ms/step - loss: 0.8322 - accuracy: 0.8519\n",
      "Epoch 101/200\n",
      "1/1 [==============================] - 0s 7ms/step - loss: 0.8978 - accuracy: 0.8889\n",
      "Epoch 102/200\n",
      "1/1 [==============================] - 0s 5ms/step - loss: 0.7828 - accuracy: 0.8519\n",
      "Epoch 103/200\n",
      "1/1 [==============================] - 0s 22ms/step - loss: 0.8994 - accuracy: 0.8148\n",
      "Epoch 104/200\n",
      "1/1 [==============================] - 0s 28ms/step - loss: 0.7535 - accuracy: 0.8519\n",
      "Epoch 105/200\n",
      "1/1 [==============================] - 0s 11ms/step - loss: 0.8200 - accuracy: 0.8889\n",
      "Epoch 106/200\n",
      "1/1 [==============================] - 0s 7ms/step - loss: 0.6896 - accuracy: 0.8519\n",
      "Epoch 107/200\n",
      "1/1 [==============================] - 0s 5ms/step - loss: 0.7688 - accuracy: 0.9259\n",
      "Epoch 108/200\n",
      "1/1 [==============================] - 0s 9ms/step - loss: 0.6474 - accuracy: 0.8889\n",
      "Epoch 109/200\n",
      "1/1 [==============================] - 0s 10ms/step - loss: 0.7719 - accuracy: 0.9259\n",
      "Epoch 110/200\n",
      "1/1 [==============================] - 0s 14ms/step - loss: 0.8460 - accuracy: 0.8889\n",
      "Epoch 111/200\n",
      "1/1 [==============================] - 0s 10ms/step - loss: 0.5747 - accuracy: 1.0000\n",
      "Epoch 112/200\n",
      "1/1 [==============================] - 0s 5ms/step - loss: 0.6112 - accuracy: 0.8148\n",
      "Epoch 113/200\n",
      "1/1 [==============================] - 0s 10ms/step - loss: 0.8576 - accuracy: 0.8148\n",
      "Epoch 114/200\n",
      "1/1 [==============================] - 0s 9ms/step - loss: 0.5431 - accuracy: 0.9630\n",
      "Epoch 115/200\n",
      "1/1 [==============================] - 0s 8ms/step - loss: 0.7236 - accuracy: 0.8889\n",
      "Epoch 116/200\n",
      "1/1 [==============================] - 0s 5ms/step - loss: 0.7898 - accuracy: 0.8889\n",
      "Epoch 117/200\n",
      "1/1 [==============================] - 0s 6ms/step - loss: 0.4967 - accuracy: 0.9630\n",
      "Epoch 118/200\n",
      "1/1 [==============================] - 0s 4ms/step - loss: 0.6597 - accuracy: 0.9259\n",
      "Epoch 119/200\n",
      "1/1 [==============================] - 0s 10ms/step - loss: 0.5067 - accuracy: 0.9259\n",
      "Epoch 120/200\n",
      "1/1 [==============================] - 0s 7ms/step - loss: 0.7087 - accuracy: 0.8148\n",
      "Epoch 121/200\n",
      "1/1 [==============================] - 0s 7ms/step - loss: 0.5298 - accuracy: 0.9630\n",
      "Epoch 122/200\n",
      "1/1 [==============================] - 0s 6ms/step - loss: 0.6252 - accuracy: 0.9630\n",
      "Epoch 123/200\n",
      "1/1 [==============================] - 0s 5ms/step - loss: 0.7416 - accuracy: 0.8148\n",
      "Epoch 124/200\n",
      "1/1 [==============================] - 0s 6ms/step - loss: 0.5212 - accuracy: 0.9630\n",
      "Epoch 125/200\n",
      "1/1 [==============================] - 0s 8ms/step - loss: 0.5244 - accuracy: 0.9259\n",
      "Epoch 126/200\n",
      "1/1 [==============================] - 0s 7ms/step - loss: 0.6008 - accuracy: 0.8889\n",
      "Epoch 127/200\n",
      "1/1 [==============================] - 0s 6ms/step - loss: 0.5779 - accuracy: 0.8519\n",
      "Epoch 128/200\n",
      "1/1 [==============================] - 0s 8ms/step - loss: 0.5292 - accuracy: 0.9259\n",
      "Epoch 129/200\n",
      "1/1 [==============================] - 0s 9ms/step - loss: 0.5261 - accuracy: 0.9630\n",
      "Epoch 130/200\n",
      "1/1 [==============================] - 0s 9ms/step - loss: 0.5798 - accuracy: 1.0000\n",
      "Epoch 131/200\n",
      "1/1 [==============================] - 0s 19ms/step - loss: 0.5556 - accuracy: 0.9630\n",
      "Epoch 132/200\n",
      "1/1 [==============================] - 0s 17ms/step - loss: 0.3470 - accuracy: 1.0000\n",
      "Epoch 133/200\n",
      "1/1 [==============================] - 0s 8ms/step - loss: 0.4548 - accuracy: 1.0000\n",
      "Epoch 134/200\n",
      "1/1 [==============================] - 0s 5ms/step - loss: 0.4550 - accuracy: 0.9259\n",
      "Epoch 135/200\n",
      "1/1 [==============================] - 0s 8ms/step - loss: 0.4640 - accuracy: 0.9630\n",
      "Epoch 136/200\n",
      "1/1 [==============================] - 0s 4ms/step - loss: 0.5506 - accuracy: 0.8519\n",
      "Epoch 137/200\n",
      "1/1 [==============================] - 0s 4ms/step - loss: 0.4686 - accuracy: 1.0000\n",
      "Epoch 138/200\n",
      "1/1 [==============================] - 0s 4ms/step - loss: 0.4828 - accuracy: 1.0000\n",
      "Epoch 139/200\n",
      "1/1 [==============================] - 0s 4ms/step - loss: 0.4999 - accuracy: 0.9259\n",
      "Epoch 140/200\n",
      "1/1 [==============================] - 0s 7ms/step - loss: 0.4433 - accuracy: 0.9630\n",
      "Epoch 141/200\n",
      "1/1 [==============================] - 0s 5ms/step - loss: 0.4613 - accuracy: 0.8519\n",
      "Epoch 142/200\n",
      "1/1 [==============================] - 0s 18ms/step - loss: 0.4209 - accuracy: 0.9259\n",
      "Epoch 143/200\n",
      "1/1 [==============================] - 0s 14ms/step - loss: 0.3562 - accuracy: 1.0000\n",
      "Epoch 144/200\n",
      "1/1 [==============================] - 0s 7ms/step - loss: 0.3546 - accuracy: 1.0000\n",
      "Epoch 145/200\n",
      "1/1 [==============================] - 0s 6ms/step - loss: 0.4597 - accuracy: 0.8889\n",
      "Epoch 146/200\n",
      "1/1 [==============================] - 0s 8ms/step - loss: 0.3872 - accuracy: 0.9259\n",
      "Epoch 147/200\n",
      "1/1 [==============================] - 0s 6ms/step - loss: 0.2972 - accuracy: 1.0000\n",
      "Epoch 148/200\n",
      "1/1 [==============================] - 0s 9ms/step - loss: 0.4238 - accuracy: 0.9630\n",
      "Epoch 149/200\n",
      "1/1 [==============================] - 0s 6ms/step - loss: 0.4319 - accuracy: 0.9630\n",
      "Epoch 150/200\n",
      "1/1 [==============================] - 0s 5ms/step - loss: 0.2883 - accuracy: 0.9630\n",
      "Epoch 151/200\n",
      "1/1 [==============================] - 0s 7ms/step - loss: 0.4244 - accuracy: 0.9630\n",
      "Epoch 152/200\n",
      "1/1 [==============================] - 0s 16ms/step - loss: 0.3496 - accuracy: 0.9259\n",
      "Epoch 153/200\n",
      "1/1 [==============================] - 0s 25ms/step - loss: 0.3662 - accuracy: 1.0000\n",
      "Epoch 154/200\n",
      "1/1 [==============================] - 0s 18ms/step - loss: 0.3155 - accuracy: 1.0000\n",
      "Epoch 155/200\n",
      "1/1 [==============================] - 0s 7ms/step - loss: 0.4036 - accuracy: 0.8889\n",
      "Epoch 156/200\n",
      "1/1 [==============================] - 0s 7ms/step - loss: 0.2796 - accuracy: 0.9630\n",
      "Epoch 157/200\n",
      "1/1 [==============================] - 0s 6ms/step - loss: 0.4618 - accuracy: 0.9259\n",
      "Epoch 158/200\n",
      "1/1 [==============================] - 0s 4ms/step - loss: 0.2597 - accuracy: 1.0000\n",
      "Epoch 159/200\n",
      "1/1 [==============================] - 0s 4ms/step - loss: 0.3478 - accuracy: 0.8889\n",
      "Epoch 160/200\n",
      "1/1 [==============================] - 0s 5ms/step - loss: 0.3694 - accuracy: 1.0000\n",
      "Epoch 161/200\n",
      "1/1 [==============================] - 0s 4ms/step - loss: 0.3189 - accuracy: 1.0000\n",
      "Epoch 162/200\n",
      "1/1 [==============================] - 0s 4ms/step - loss: 0.3529 - accuracy: 0.8889\n",
      "Epoch 163/200\n",
      "1/1 [==============================] - 0s 6ms/step - loss: 0.3290 - accuracy: 1.0000\n",
      "Epoch 164/200\n",
      "1/1 [==============================] - 0s 14ms/step - loss: 0.2410 - accuracy: 0.9630\n",
      "Epoch 165/200\n",
      "1/1 [==============================] - 0s 8ms/step - loss: 0.2722 - accuracy: 1.0000\n",
      "Epoch 166/200\n"
     ]
    },
    {
     "name": "stdout",
     "output_type": "stream",
     "text": [
      "1/1 [==============================] - 0s 8ms/step - loss: 0.4107 - accuracy: 0.8519\n",
      "Epoch 167/200\n",
      "1/1 [==============================] - 0s 10ms/step - loss: 0.3333 - accuracy: 0.9259\n",
      "Epoch 168/200\n",
      "1/1 [==============================] - 0s 10ms/step - loss: 0.2218 - accuracy: 1.0000\n",
      "Epoch 169/200\n",
      "1/1 [==============================] - 0s 15ms/step - loss: 0.2747 - accuracy: 0.9630\n",
      "Epoch 170/200\n",
      "1/1 [==============================] - 0s 14ms/step - loss: 0.2223 - accuracy: 1.0000\n",
      "Epoch 171/200\n",
      "1/1 [==============================] - 0s 15ms/step - loss: 0.3182 - accuracy: 1.0000\n",
      "Epoch 172/200\n",
      "1/1 [==============================] - 0s 21ms/step - loss: 0.2967 - accuracy: 0.9259\n",
      "Epoch 173/200\n",
      "1/1 [==============================] - 0s 16ms/step - loss: 0.2807 - accuracy: 0.9630\n",
      "Epoch 174/200\n",
      "1/1 [==============================] - 0s 12ms/step - loss: 0.4354 - accuracy: 0.8889\n",
      "Epoch 175/200\n",
      "1/1 [==============================] - 0s 16ms/step - loss: 0.3023 - accuracy: 0.9630\n",
      "Epoch 176/200\n",
      "1/1 [==============================] - 0s 18ms/step - loss: 0.2501 - accuracy: 1.0000\n",
      "Epoch 177/200\n",
      "1/1 [==============================] - 0s 13ms/step - loss: 0.3172 - accuracy: 0.9259\n",
      "Epoch 178/200\n",
      "1/1 [==============================] - 0s 9ms/step - loss: 0.2624 - accuracy: 1.0000\n",
      "Epoch 179/200\n",
      "1/1 [==============================] - 0s 5ms/step - loss: 0.2177 - accuracy: 1.0000\n",
      "Epoch 180/200\n",
      "1/1 [==============================] - 0s 5ms/step - loss: 0.2197 - accuracy: 0.9630\n",
      "Epoch 181/200\n",
      "1/1 [==============================] - 0s 10ms/step - loss: 0.2433 - accuracy: 0.9259\n",
      "Epoch 182/200\n",
      "1/1 [==============================] - 0s 6ms/step - loss: 0.3723 - accuracy: 0.9630\n",
      "Epoch 183/200\n",
      "1/1 [==============================] - 0s 5ms/step - loss: 0.2784 - accuracy: 0.9630\n",
      "Epoch 184/200\n",
      "1/1 [==============================] - 0s 6ms/step - loss: 0.2210 - accuracy: 1.0000\n",
      "Epoch 185/200\n",
      "1/1 [==============================] - 0s 7ms/step - loss: 0.1772 - accuracy: 1.0000\n",
      "Epoch 186/200\n",
      "1/1 [==============================] - 0s 8ms/step - loss: 0.1652 - accuracy: 1.0000\n",
      "Epoch 187/200\n",
      "1/1 [==============================] - 0s 8ms/step - loss: 0.2796 - accuracy: 0.9630\n",
      "Epoch 188/200\n",
      "1/1 [==============================] - 0s 8ms/step - loss: 0.2203 - accuracy: 0.9259\n",
      "Epoch 189/200\n",
      "1/1 [==============================] - 0s 6ms/step - loss: 0.1399 - accuracy: 1.0000\n",
      "Epoch 190/200\n",
      "1/1 [==============================] - 0s 11ms/step - loss: 0.2383 - accuracy: 0.9630\n",
      "Epoch 191/200\n",
      "1/1 [==============================] - 0s 15ms/step - loss: 0.1306 - accuracy: 1.0000\n",
      "Epoch 192/200\n",
      "1/1 [==============================] - 0s 18ms/step - loss: 0.2310 - accuracy: 1.0000\n",
      "Epoch 193/200\n",
      "1/1 [==============================] - 0s 17ms/step - loss: 0.1969 - accuracy: 1.0000\n",
      "Epoch 194/200\n",
      "1/1 [==============================] - 0s 21ms/step - loss: 0.1314 - accuracy: 1.0000\n",
      "Epoch 195/200\n",
      "1/1 [==============================] - 0s 8ms/step - loss: 0.2238 - accuracy: 0.9630\n",
      "Epoch 196/200\n",
      "1/1 [==============================] - 0s 15ms/step - loss: 0.1605 - accuracy: 0.9630\n",
      "Epoch 197/200\n",
      "1/1 [==============================] - 0s 5ms/step - loss: 0.1887 - accuracy: 1.0000\n",
      "Epoch 198/200\n",
      "1/1 [==============================] - 0s 5ms/step - loss: 0.1434 - accuracy: 1.0000\n",
      "Epoch 199/200\n",
      "1/1 [==============================] - 0s 6ms/step - loss: 0.1153 - accuracy: 1.0000\n",
      "Epoch 200/200\n",
      "1/1 [==============================] - 0s 7ms/step - loss: 0.1433 - accuracy: 1.0000\n"
     ]
    }
   ],
   "source": [
    "hist = model.fit(x=train_X, y=train_y, epochs=200)"
   ]
  },
  {
   "cell_type": "code",
   "execution_count": 15,
   "metadata": {
    "id": "Pb1GZDjGRP6Q"
   },
   "outputs": [
    {
     "data": {
      "image/png": "[encoded data removed]",
      "text/plain": [
       "<Figure size 432x288 with 1 Axes>"
      ]
     },
     "metadata": {
      "needs_background": "light"
     },
     "output_type": "display_data"
    }
   ],
   "source": [
    "import matplotlib.pyplot as plt\n",
    "import seaborn as sns\n",
    "\n",
    "# Entrenamiento\n",
    "epoch_count = range(1, len(hist.history['accuracy']) + 1)\n",
    "sns.lineplot(x=epoch_count,  y=hist.history['accuracy'], label='train')\n",
    "plt.show()"
   ]
  },
  {
   "cell_type": "code",
   "execution_count": 16,
   "metadata": {
    "id": "eTVDnrV0mDRf"
   },
   "outputs": [],
   "source": [
    "# Guardar lo necesario para poder re-utilizar este modelo en el futuro\n",
    "# el vocabulario utilizado (words)\n",
    "# las posibles clases\n",
    "# el modelo\n",
    "import pickle\n",
    "pickle.dump(words, open('words.pkl','wb'))\n",
    "pickle.dump(classes, open('classes.pkl','wb'))\n",
    "model.save('chatbot_model.h5')"
   ]
  },
  {
   "cell_type": "markdown",
   "metadata": {
    "id": "TnD1WvhBfVYR"
   },
   "source": [
    "### 6 - Testing y validación"
   ]
  },
  {
   "cell_type": "code",
   "execution_count": 17,
   "metadata": {
    "id": "kqBdSGt8Orkm"
   },
   "outputs": [],
   "source": [
    "# convertir texto de entrada del usuario a tokens\n",
    "def text_to_tokens(text):\n",
    "    lemma_tokens = []\n",
    "    tokens = nlp(preprocess_clean_text(text.lower()))\n",
    "    for token in tokens:\n",
    "        lemma_tokens.append(token.lemma_)\n",
    "    #print(lemma_tokens)\n",
    "    return lemma_tokens\n",
    "\n",
    "# transformar el texto de entrada tokenizado a una representación OHE\n",
    "def bag_of_words(text, vocab): \n",
    "    tokens = text_to_tokens(text)\n",
    "    bow = [0] * len(vocab)\n",
    "    for w in tokens: \n",
    "        for idx, word in enumerate(vocab):\n",
    "            if word == w: \n",
    "                bow[idx] = 1\n",
    "    #print(bow)\n",
    "    return np.array(bow)\n",
    "\n",
    "# usar modelo con la entrada en OHE y los labels posibles (tags)\n",
    "def pred_class(text, vocab, labels): \n",
    "    bow = bag_of_words(text, vocab)\n",
    "    words_recognized = sum(bow)\n",
    "\n",
    "    return_list = []\n",
    "    if words_recognized > 0: # sólo si reconoció alguna palabra del vocabulario\n",
    "        result = model.predict(np.array([bow]))[0] # es un array de softmax\n",
    "        thresh = 0.2\n",
    "        # filtrar aquellas entradas menores al umbral `thresh`\n",
    "        y_pred = [[idx, res] for idx, res in enumerate(result) if res > thresh]\n",
    "        # ordenar keys de acuerdo al valor softmax\n",
    "        y_pred.sort(key=lambda x: x[1], reverse=True)\n",
    "    \n",
    "        # return_list es una lista de los labels de mayor a menor\n",
    "        for r in y_pred:\n",
    "            return_list.append(labels[r[0]])\n",
    "            #print(labels[r[0]], r[1])\n",
    "\n",
    "    # si no reconoció palabras del vocabulario se devuelve una lista vacía\n",
    "    return return_list\n",
    "\n",
    "# obtener una respuesta predeterminada \n",
    "def get_response(intents_list, intents_json):\n",
    "    tag = intents_list[0] # tomar el tag con el mejor valor softmax\n",
    "    list_of_intents = intents_json[\"intents\"] # intents_json es todo el dataset\n",
    "    for i in list_of_intents: \n",
    "        if i[\"tag\"] == tag: # buscar el tag correspoindiente y dar una respuesta predeterminada aleatoria \n",
    "            result = \"BOT: \" + random.choice(i[\"responses\"])\n",
    "            break\n",
    "    return result"
   ]
  },
  {
   "cell_type": "code",
   "execution_count": 18,
   "metadata": {
    "id": "Xp1vXQwdOvl7"
   },
   "outputs": [
    {
     "name": "stdout",
     "output_type": "stream",
     "text": [
      "hola\n",
      "1/1 [==============================] - 0s 76ms/step\n",
      "BOT: Hola!\n",
      "hola\n",
      "1/1 [==============================] - 0s 18ms/step\n",
      "BOT: Hola, ¿Cómo estás?\n",
      "que tal?\n",
      "1/1 [==============================] - 0s 17ms/step\n",
      "BOT: Hola, ¿Cómo estás?\n"
     ]
    },
    {
     "ename": "KeyboardInterrupt",
     "evalue": "Interrupted by user",
     "output_type": "error",
     "traceback": [
      "\u001b[0;31m---------------------------------------------------------------------------\u001b[0m",
      "\u001b[0;31mKeyboardInterrupt\u001b[0m                         Traceback (most recent call last)",
      "Input \u001b[0;32mIn [18]\u001b[0m, in \u001b[0;36m<cell line: 3>\u001b[0;34m()\u001b[0m\n\u001b[1;32m      1\u001b[0m \u001b[38;5;28;01mwhile\u001b[39;00m \u001b[38;5;28;01mTrue\u001b[39;00m:\n\u001b[1;32m      2\u001b[0m     \u001b[38;5;66;03m# pedir input al usuario\u001b[39;00m\n\u001b[0;32m----> 3\u001b[0m     message \u001b[38;5;241m=\u001b[39m \u001b[38;5;28;43minput\u001b[39;49m\u001b[43m(\u001b[49m\u001b[38;5;124;43m\"\u001b[39;49m\u001b[38;5;124;43m\"\u001b[39;49m\u001b[43m)\u001b[49m\n\u001b[1;32m      4\u001b[0m     \u001b[38;5;66;03m# \u001b[39;00m\n\u001b[1;32m      5\u001b[0m     intents \u001b[38;5;241m=\u001b[39m pred_class(message, words, classes)\n",
      "File \u001b[0;32m/usr/local/lib/python3.9/site-packages/ipykernel/kernelbase.py:1165\u001b[0m, in \u001b[0;36mKernel.raw_input\u001b[0;34m(self, prompt)\u001b[0m\n\u001b[1;32m   1161\u001b[0m \u001b[38;5;28;01mif\u001b[39;00m \u001b[38;5;129;01mnot\u001b[39;00m \u001b[38;5;28mself\u001b[39m\u001b[38;5;241m.\u001b[39m_allow_stdin:\n\u001b[1;32m   1162\u001b[0m     \u001b[38;5;28;01mraise\u001b[39;00m StdinNotImplementedError(\n\u001b[1;32m   1163\u001b[0m         \u001b[38;5;124m\"\u001b[39m\u001b[38;5;124mraw_input was called, but this frontend does not support input requests.\u001b[39m\u001b[38;5;124m\"\u001b[39m\n\u001b[1;32m   1164\u001b[0m     )\n\u001b[0;32m-> 1165\u001b[0m \u001b[38;5;28;01mreturn\u001b[39;00m \u001b[38;5;28;43mself\u001b[39;49m\u001b[38;5;241;43m.\u001b[39;49m\u001b[43m_input_request\u001b[49m\u001b[43m(\u001b[49m\n\u001b[1;32m   1166\u001b[0m \u001b[43m    \u001b[49m\u001b[38;5;28;43mstr\u001b[39;49m\u001b[43m(\u001b[49m\u001b[43mprompt\u001b[49m\u001b[43m)\u001b[49m\u001b[43m,\u001b[49m\n\u001b[1;32m   1167\u001b[0m \u001b[43m    \u001b[49m\u001b[38;5;28;43mself\u001b[39;49m\u001b[38;5;241;43m.\u001b[39;49m\u001b[43m_parent_ident\u001b[49m\u001b[43m[\u001b[49m\u001b[38;5;124;43m\"\u001b[39;49m\u001b[38;5;124;43mshell\u001b[39;49m\u001b[38;5;124;43m\"\u001b[39;49m\u001b[43m]\u001b[49m\u001b[43m,\u001b[49m\n\u001b[1;32m   1168\u001b[0m \u001b[43m    \u001b[49m\u001b[38;5;28;43mself\u001b[39;49m\u001b[38;5;241;43m.\u001b[39;49m\u001b[43mget_parent\u001b[49m\u001b[43m(\u001b[49m\u001b[38;5;124;43m\"\u001b[39;49m\u001b[38;5;124;43mshell\u001b[39;49m\u001b[38;5;124;43m\"\u001b[39;49m\u001b[43m)\u001b[49m\u001b[43m,\u001b[49m\n\u001b[1;32m   1169\u001b[0m \u001b[43m    \u001b[49m\u001b[43mpassword\u001b[49m\u001b[38;5;241;43m=\u001b[39;49m\u001b[38;5;28;43;01mFalse\u001b[39;49;00m\u001b[43m,\u001b[49m\n\u001b[1;32m   1170\u001b[0m \u001b[43m\u001b[49m\u001b[43m)\u001b[49m\n",
      "File \u001b[0;32m/usr/local/lib/python3.9/site-packages/ipykernel/kernelbase.py:1207\u001b[0m, in \u001b[0;36mKernel._input_request\u001b[0;34m(self, prompt, ident, parent, password)\u001b[0m\n\u001b[1;32m   1204\u001b[0m             \u001b[38;5;28;01mbreak\u001b[39;00m\n\u001b[1;32m   1205\u001b[0m \u001b[38;5;28;01mexcept\u001b[39;00m \u001b[38;5;167;01mKeyboardInterrupt\u001b[39;00m:\n\u001b[1;32m   1206\u001b[0m     \u001b[38;5;66;03m# re-raise KeyboardInterrupt, to truncate traceback\u001b[39;00m\n\u001b[0;32m-> 1207\u001b[0m     \u001b[38;5;28;01mraise\u001b[39;00m \u001b[38;5;167;01mKeyboardInterrupt\u001b[39;00m(\u001b[38;5;124m\"\u001b[39m\u001b[38;5;124mInterrupted by user\u001b[39m\u001b[38;5;124m\"\u001b[39m) \u001b[38;5;28;01mfrom\u001b[39;00m \u001b[38;5;28mNone\u001b[39m\n\u001b[1;32m   1208\u001b[0m \u001b[38;5;28;01mexcept\u001b[39;00m \u001b[38;5;167;01mException\u001b[39;00m:\n\u001b[1;32m   1209\u001b[0m     \u001b[38;5;28mself\u001b[39m\u001b[38;5;241m.\u001b[39mlog\u001b[38;5;241m.\u001b[39mwarning(\u001b[38;5;124m\"\u001b[39m\u001b[38;5;124mInvalid Message:\u001b[39m\u001b[38;5;124m\"\u001b[39m, exc_info\u001b[38;5;241m=\u001b[39m\u001b[38;5;28;01mTrue\u001b[39;00m)\n",
      "\u001b[0;31mKeyboardInterrupt\u001b[0m: Interrupted by user"
     ]
    }
   ],
   "source": [
    "while True:\n",
    "    # pedir input al usuario\n",
    "    message = input(\"\")\n",
    "    # \n",
    "    intents = pred_class(message, words, classes)\n",
    "    if len(intents) > 0:\n",
    "        result = get_response(intents, dataset)\n",
    "        print(result)\n",
    "    else: # si no hubo ningún resultado que supere el umbral\n",
    "        print(\"Perdón, no comprendo la pregunta.\")\n",
    "    "
   ]
  },
  {
   "cell_type": "markdown",
   "metadata": {
    "id": "ayatkwp4fYQx"
   },
   "source": [
    "### 7 - Conclusiones\n",
    "El bot tal cual está definido es capaz de responder a bastantes tipos de preguntas con gran precisión. Algunas técnicas que podrían ensayarse para evaluar como impactan en el sistema son:\n",
    "- Filtrar los stop words\n",
    "- Utilizar TF-IDF en vez de bag of words"
   ]
  },
  {
   "cell_type": "code",
   "execution_count": null,
   "metadata": {},
   "outputs": [],
   "source": []
  }
 ],
 "metadata": {
  "colab": {
   "authorship_tag": "ABX9TyPZeXqdm2EV/WEA+xr24OAL",
   "collapsed_sections": [],
   "name": "2b - bot_dnn_spacy_esp.ipynb",
   "provenance": []
  },
  "kernelspec": {
   "display_name": "Python 3 (ipykernel)",
   "language": "python",
   "name": "python3"
  },
  "language_info": {
   "codemirror_mode": {
    "name": "ipython",
    "version": 3
   },
   "file_extension": ".py",
   "mimetype": "text/x-python",
   "name": "python",
   "nbconvert_exporter": "python",
   "pygments_lexer": "ipython3",
   "version": "3.9.12"
  }
 },
 "nbformat": 4,
 "nbformat_minor": 1
}
