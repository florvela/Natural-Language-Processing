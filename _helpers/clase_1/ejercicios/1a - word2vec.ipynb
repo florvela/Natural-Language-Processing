{
 "cells": [
  {
   "cell_type": "markdown",
   "metadata": {
    "id": "Ue5hxxkdAQJg"
   },
   "source": [
    "<img src=\"https://github.com/FIUBA-Posgrado-Inteligencia-Artificial/procesamiento_lenguaje_natural/raw/main/logoFIUBA.jpg\" width=\"500\" align=\"center\">\n",
    "\n",
    "\n",
    "# Procesamiento de lenguaje natural\n",
    "## Word2vect\n"
   ]
  },
  {
   "cell_type": "code",
   "execution_count": 2,
   "metadata": {
    "id": "kCED1hh-Ioyf"
   },
   "outputs": [],
   "source": [
    "import numpy as np"
   ]
  },
  {
   "cell_type": "code",
   "execution_count": 3,
   "metadata": {
    "id": "PUbfVnzIIoMj"
   },
   "outputs": [],
   "source": [
    "def cosine_similarity(a, b):\n",
    "    return np.dot(a, b) / (np.linalg.norm(a) * (np.linalg.norm(b)))"
   ]
  },
  {
   "cell_type": "markdown",
   "metadata": {
    "id": "DMOa4JPSCJ29"
   },
   "source": [
    "### Datos"
   ]
  },
  {
   "cell_type": "code",
   "execution_count": 4,
   "metadata": {
    "id": "RIO7b8GjAC17"
   },
   "outputs": [],
   "source": [
    "corpus = np.array(['que dia es hoy', 'martes el dia de hoy es martes', 'martes muchas gracias'])"
   ]
  },
  {
   "cell_type": "markdown",
   "metadata": {
    "id": "8WqdaTmO8P1r"
   },
   "source": [
    "Documento 1 --> que dia es hoy \\\n",
    "Documento 2 --> martes el dia de hoy es martes \\\n",
    "Documento 3 --> martes muchas gracias"
   ]
  },
  {
   "cell_type": "markdown",
   "metadata": {
    "id": "FVHxBRNzCMOS"
   },
   "source": [
    "### 1 - Obtener el vocabulario del corpus (los términos utilizados)\n",
    "- Cada documento transformarlo en una lista de términos\n",
    "- Armar un vector de términos no repetidos de todos los documentos"
   ]
  },
  {
   "cell_type": "code",
   "execution_count": 5,
   "metadata": {},
   "outputs": [
    {
     "data": {
      "text/plain": [
       "[['que', 'dia', 'es', 'hoy'],\n",
       " ['martes', 'el', 'dia', 'de', 'hoy', 'es', 'martes'],\n",
       " ['martes', 'muchas', 'gracias']]"
      ]
     },
     "execution_count": 5,
     "metadata": {},
     "output_type": "execute_result"
    }
   ],
   "source": [
    "corpus = [doc.split(\" \") for doc in corpus]\n",
    "corpus"
   ]
  },
  {
   "cell_type": "code",
   "execution_count": 6,
   "metadata": {
    "id": "3ZqTOZzDI7uv"
   },
   "outputs": [
    {
     "data": {
      "text/plain": [
       "['que', 'el', 'es', 'martes', 'gracias', 'dia', 'muchas', 'de', 'hoy']"
      ]
     },
     "execution_count": 6,
     "metadata": {},
     "output_type": "execute_result"
    }
   ],
   "source": [
    "vocabulary = set()\n",
    "for document in corpus:\n",
    "    for term in document:\n",
    "        vocabulary.add(term)\n",
    "\n",
    "vocabulary = list(vocabulary)\n",
    "vocabulary"
   ]
  },
  {
   "cell_type": "markdown",
   "metadata": {
    "id": "RUhH983FI7It"
   },
   "source": [
    "### 2- OneHot encoding\n",
    "Data una lista de textos, devolver una matriz con la representación oneHotEncoding de estos"
   ]
  },
  {
   "cell_type": "code",
   "execution_count": 7,
   "metadata": {
    "id": "Os0AAQo6I6Z1"
   },
   "outputs": [
    {
     "data": {
      "text/plain": [
       "[[1, 0, 1, 0, 0, 1, 0, 0, 1],\n",
       " [0, 1, 1, 1, 0, 1, 0, 1, 1],\n",
       " [0, 0, 0, 1, 1, 0, 1, 0, 0]]"
      ]
     },
     "execution_count": 7,
     "metadata": {},
     "output_type": "execute_result"
    }
   ],
   "source": [
    "def one_hot_encoding(corpus):\n",
    "    vocabulary = set()\n",
    "    for document in corpus:\n",
    "        for term in document:\n",
    "            vocabulary.add(term)\n",
    "    \n",
    "    one_hot_matrix = list()\n",
    "\n",
    "    for document in corpus:\n",
    "        temp = list()\n",
    "        for term in vocabulary:\n",
    "            if term in document:\n",
    "                temp.append(1)\n",
    "            else:\n",
    "                temp.append(0)\n",
    "        one_hot_matrix.append(temp)\n",
    "\n",
    "    return one_hot_matrix\n",
    "\n",
    "one_hot = one_hot_encoding(corpus)\n",
    "one_hot"
   ]
  },
  {
   "cell_type": "markdown",
   "metadata": {
    "id": "IIyWGmCpJVQL"
   },
   "source": [
    "### 3- Vectores de frecuencia\n",
    "Data una lista de textos, devolver una matriz con la representación de frecuencia de estos"
   ]
  },
  {
   "cell_type": "code",
   "execution_count": 8,
   "metadata": {
    "id": "yqij_7eHJbUi"
   },
   "outputs": [
    {
     "data": {
      "text/plain": [
       "[[1, 0, 1, 0, 0, 1, 0, 0, 1],\n",
       " [0, 1, 1, 2, 0, 1, 0, 1, 1],\n",
       " [0, 0, 0, 1, 1, 0, 1, 0, 0]]"
      ]
     },
     "execution_count": 8,
     "metadata": {},
     "output_type": "execute_result"
    }
   ],
   "source": [
    "def get_term_freq_matrix(corpus):\n",
    "    vocabulary = set()\n",
    "    for document in corpus:\n",
    "        for term in document:\n",
    "            vocabulary.add(term)\n",
    "            \n",
    "    term_freq_matrix = list()\n",
    "\n",
    "    for document in corpus:\n",
    "        temp = list()\n",
    "        for term in vocabulary:\n",
    "            count = document.count(term)\n",
    "            temp.append(count)\n",
    "        term_freq_matrix.append(temp)\n",
    "\n",
    "    return term_freq_matrix\n",
    "\n",
    "TF = get_term_freq_matrix(corpus)\n",
    "TF"
   ]
  },
  {
   "cell_type": "markdown",
   "metadata": {
    "id": "z_Ot8HvWJcBu"
   },
   "source": [
    "### 4- TF-IDF\n",
    "Data una lista de textos, devolver una matriz con la representacion TFIDF"
   ]
  },
  {
   "cell_type": "code",
   "execution_count": 9,
   "metadata": {},
   "outputs": [
    {
     "data": {
      "text/plain": [
       "array([[1.09861229, 0.        , 0.40546511, 0.        , 0.        ,\n",
       "        0.40546511, 0.        , 0.        , 0.40546511],\n",
       "       [0.        , 1.09861229, 0.40546511, 0.81093022, 0.        ,\n",
       "        0.40546511, 0.        , 1.09861229, 0.40546511],\n",
       "       [0.        , 0.        , 0.        , 0.40546511, 1.09861229,\n",
       "        0.        , 1.09861229, 0.        , 0.        ]])"
      ]
     },
     "execution_count": 9,
     "metadata": {},
     "output_type": "execute_result"
    }
   ],
   "source": [
    "def tf_idf(corpus):\n",
    "    vocabulary = set()\n",
    "    for document in corpus:\n",
    "        for term in document:\n",
    "            vocabulary.add(term)\n",
    "            \n",
    "    N = len(corpus)\n",
    "    \n",
    "    DF = dict()\n",
    "    for term in vocabulary:\n",
    "        count = 0\n",
    "        for document in corpus:\n",
    "            if term in document:\n",
    "                count += 1\n",
    "        DF[term] = count\n",
    "    \n",
    "    IDF = list()\n",
    "    for term in vocabulary:\n",
    "        IDF.append(np.log(N/DF[term]))\n",
    "    \n",
    "    TF = list()\n",
    "    for document in corpus:\n",
    "        temp = list()\n",
    "        for term in vocabulary:\n",
    "            count = document.count(term)\n",
    "            temp.append(count)\n",
    "        TF.append(temp)\n",
    "    \n",
    "    return np.array(TF) * np.array(IDF) \n",
    "\n",
    "TF_IDF = tf_idf(corpus)\n",
    "TF_IDF"
   ]
  },
  {
   "cell_type": "markdown",
   "metadata": {
    "id": "xMcsfndWJjm_"
   },
   "source": [
    "### 5 - Comparación de documentos\n",
    "Realizar una funcion que reciba el corpus y el índice de un documento y devuelva los documentos ordenados por la similitud coseno"
   ]
  },
  {
   "cell_type": "code",
   "execution_count": 10,
   "metadata": {},
   "outputs": [],
   "source": [
    "def compare_documents(corpus, doc_index):\n",
    "    TF = get_term_freq_matrix(corpus)\n",
    "    cosines = list()\n",
    "    for j in range(len(TF)):\n",
    "        cosines.append(cosine_similarity(np.array(TF[doc_index]), np.array(TF[j])))\n",
    "    return [x for _, x in sorted(zip(cosines, corpus), reverse=True)]"
   ]
  },
  {
   "cell_type": "code",
   "execution_count": 11,
   "metadata": {},
   "outputs": [
    {
     "data": {
      "text/plain": [
       "['martes', 'el', 'dia', 'de', 'hoy', 'es', 'martes']"
      ]
     },
     "execution_count": 11,
     "metadata": {},
     "output_type": "execute_result"
    }
   ],
   "source": [
    "corpus[1]"
   ]
  },
  {
   "cell_type": "code",
   "execution_count": 12,
   "metadata": {},
   "outputs": [
    {
     "data": {
      "text/plain": [
       "[['martes', 'el', 'dia', 'de', 'hoy', 'es', 'martes'],\n",
       " ['que', 'dia', 'es', 'hoy'],\n",
       " ['martes', 'muchas', 'gracias']]"
      ]
     },
     "execution_count": 12,
     "metadata": {},
     "output_type": "execute_result"
    }
   ],
   "source": [
    "compare_documents(corpus, 1)"
   ]
  },
  {
   "cell_type": "code",
   "execution_count": 13,
   "metadata": {},
   "outputs": [
    {
     "data": {
      "text/plain": [
       "[['que', 'dia', 'es', 'hoy'],\n",
       " ['martes', 'el', 'dia', 'de', 'hoy', 'es', 'martes'],\n",
       " ['martes', 'muchas', 'gracias']]"
      ]
     },
     "execution_count": 13,
     "metadata": {},
     "output_type": "execute_result"
    }
   ],
   "source": [
    "compare_documents(corpus, 0)"
   ]
  },
  {
   "cell_type": "code",
   "execution_count": 14,
   "metadata": {},
   "outputs": [
    {
     "data": {
      "text/plain": [
       "[['martes', 'muchas', 'gracias'],\n",
       " ['martes', 'el', 'dia', 'de', 'hoy', 'es', 'martes'],\n",
       " ['que', 'dia', 'es', 'hoy']]"
      ]
     },
     "execution_count": 14,
     "metadata": {},
     "output_type": "execute_result"
    }
   ],
   "source": [
    "compare_documents(corpus, 2)"
   ]
  },
  {
   "cell_type": "code",
   "execution_count": null,
   "metadata": {},
   "outputs": [],
   "source": []
  }
 ],
 "metadata": {
  "colab": {
   "authorship_tag": "ABX9TyO5fRYTpympAwJSVbric6dW",
   "collapsed_sections": [],
   "name": "1a - word2vec.ipynb",
   "provenance": []
  },
  "kernelspec": {
   "display_name": "Python 3 (ipykernel)",
   "language": "python",
   "name": "python3"
  },
  "language_info": {
   "codemirror_mode": {
    "name": "ipython",
    "version": 3
   },
   "file_extension": ".py",
   "mimetype": "text/x-python",
   "name": "python",
   "nbconvert_exporter": "python",
   "pygments_lexer": "ipython3",
   "version": "3.10.9"
  }
 },
 "nbformat": 4,
 "nbformat_minor": 1
}
